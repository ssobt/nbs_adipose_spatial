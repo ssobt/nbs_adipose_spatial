{
 "cells": [
  {
   "cell_type": "code",
   "execution_count": null,
   "metadata": {},
   "outputs": [],
   "source": [
    "## Notebook env: cell2loc_env (cell2loc_env kernel)\n",
    "## this notebook performs cell2location to *spatially* deconvolute cells using a reference annotated scRNAseq dataset"
   ]
  },
  {
   "cell_type": "code",
   "execution_count": 1,
   "metadata": {},
   "outputs": [],
   "source": [
    "import sys\n",
    "import scanpy as sc\n",
    "import anndata\n",
    "import pandas as pd\n",
    "import numpy as np\n",
    "import os\n",
    "import gc\n",
    "\n",
    "\n",
    "import matplotlib as mpl\n",
    "from matplotlib import rcParams\n",
    "import matplotlib.pyplot as plt\n",
    "import seaborn as sns\n",
    "from scipy.io import mmread\n",
    "\n",
    "# silence scanpy that prints a lot of warnings\n",
    "import warnings\n",
    "warnings.filterwarnings('ignore')\n",
    "rcParams['pdf.fonttype'] = 42 # enables correct plotting of text for PDFs"
   ]
  },
  {
   "cell_type": "code",
   "execution_count": 2,
   "metadata": {},
   "outputs": [],
   "source": [
    "# Set paths to data and results used through the document:\n",
    "sp_data_folder = '/home/ssobti/projects/farnaz_spatial/data/monkey_data/unpacked_data/'\n",
    "results_folder = '/home/ssobti/projects/farnaz_spatial/output_data/monkey/cell2location/old_cell2location_multi_ref_annot/'\n",
    "nb_mtx_path = '/home/ssobti/projects/farnaz_spatial/output_data/monkey/UMI_normalized_seurat_slices/'\n",
    "\n",
    "regression_model_output = 'RegressionGeneBackgroundCoverageTorch_22covariates_291834cells_13082genes'\n",
    "reg_path = f'{results_folder}regression_model/{regression_model_output}/'"
   ]
  },
  {
   "cell_type": "code",
   "execution_count": 4,
   "metadata": {},
   "outputs": [],
   "source": [
    "## snRNAseq reference (raw counts)\n",
    "adata_snrna_raw = sc.read(f'{reg_path}sc.h5ad')"
   ]
  },
  {
   "cell_type": "code",
   "execution_count": 5,
   "metadata": {},
   "outputs": [],
   "source": [
    "## convert mouse gene name in reference to human names\n",
    "\n",
    "import gseapy as gp\n",
    "from gseapy import Biomart\n",
    "bm = Biomart()\n",
    "# note the dataset and attribute names are different\n",
    "m2h = bm.query(dataset='mmusculus_gene_ensembl',\n",
    "               attributes=['ensembl_gene_id','external_gene_name',\n",
    "                           'hsapiens_homolog_ensembl_gene',\n",
    "                           'hsapiens_homolog_associated_gene_name'])\n",
    "\n",
    "\n",
    "# get a dict symbol mappings\n",
    "m2h_dict = {}\n",
    "for i, row in m2h.loc[:,[\"external_gene_name\", \"hsapiens_homolog_associated_gene_name\"]].iterrows():\n",
    "    if row.isna().any(): continue\n",
    "    m2h_dict[row['external_gene_name']] = row[\"hsapiens_homolog_associated_gene_name\"]\n",
    "\n",
    "m2h_genes_input = adata_snrna_raw.var['features']\n",
    "m2h_genes_output = []\n",
    "\n",
    "for gene in m2h_genes_input:\n",
    "    if gene in m2h_dict.keys():\n",
    "        m2h_genes_output.append(m2h_dict[gene])\n",
    "    else:\n",
    "        m2h_genes_output.append(gene)"
   ]
  },
  {
   "cell_type": "code",
   "execution_count": 8,
   "metadata": {},
   "outputs": [],
   "source": [
    "df = pd.DataFrame(m2h_genes_output)"
   ]
  },
  {
   "cell_type": "code",
   "execution_count": 11,
   "metadata": {},
   "outputs": [],
   "source": [
    "df.to_csv(results_folder + 'm2h_genes.csv', index=False)"
   ]
  },
  {
   "cell_type": "code",
   "execution_count": null,
   "metadata": {},
   "outputs": [],
   "source": []
  }
 ],
 "metadata": {
  "kernelspec": {
   "display_name": "cell2loc_env",
   "language": "python",
   "name": "cell2loc_env"
  },
  "language_info": {
   "codemirror_mode": {
    "name": "ipython",
    "version": 3
   },
   "file_extension": ".py",
   "mimetype": "text/x-python",
   "name": "python",
   "nbconvert_exporter": "python",
   "pygments_lexer": "ipython3",
   "version": "3.10.9"
  }
 },
 "nbformat": 4,
 "nbformat_minor": 2
}
