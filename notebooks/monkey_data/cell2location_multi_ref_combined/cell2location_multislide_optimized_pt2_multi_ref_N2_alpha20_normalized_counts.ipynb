{
 "cells": [
  {
   "cell_type": "code",
   "execution_count": null,
   "id": "52d477b0",
   "metadata": {
    "execution": {
     "iopub.execute_input": "2023-09-16T07:05:37.022754Z",
     "iopub.status.busy": "2023-09-16T07:05:37.022256Z",
     "iopub.status.idle": "2023-09-16T07:05:37.027372Z",
     "shell.execute_reply": "2023-09-16T07:05:37.026704Z"
    }
   },
   "outputs": [],
   "source": [
    "## Notebook env: cell2loc_env (cell2loc_env kernel)\n",
    "## this notebook performs cell2location to *spatially* deconvolute cells using a reference annotated scRNAseq dataset"
   ]
  },
  {
   "cell_type": "code",
   "execution_count": null,
   "id": "2db45207",
   "metadata": {
    "execution": {
     "iopub.execute_input": "2023-09-16T07:05:37.029912Z",
     "iopub.status.busy": "2023-09-16T07:05:37.029634Z",
     "iopub.status.idle": "2023-09-16T07:05:44.495722Z",
     "shell.execute_reply": "2023-09-16T07:05:44.494741Z"
    }
   },
   "outputs": [],
   "source": [
    "import sys\n",
    "import scanpy as sc\n",
    "import anndata\n",
    "import pandas as pd\n",
    "import numpy as np\n",
    "import os\n",
    "\n",
    "data_type = 'float32'\n",
    "\n",
    "import cell2location\n",
    "\n",
    "import matplotlib as mpl\n",
    "from matplotlib import rcParams\n",
    "import matplotlib.pyplot as plt\n",
    "import seaborn as sns\n",
    "\n",
    "# silence scanpy that prints a lot of warnings\n",
    "import warnings\n",
    "warnings.filterwarnings('ignore')"
   ]
  },
  {
   "cell_type": "code",
   "execution_count": null,
   "id": "93b0447f",
   "metadata": {
    "execution": {
     "iopub.execute_input": "2023-09-16T07:05:44.500557Z",
     "iopub.status.busy": "2023-09-16T07:05:44.500078Z",
     "iopub.status.idle": "2023-09-16T07:05:44.505083Z",
     "shell.execute_reply": "2023-09-16T07:05:44.504337Z"
    }
   },
   "outputs": [],
   "source": [
    "results_folder = '/home/ssobti/projects/farnaz_spatial/output_data/monkey/cell2location/multi_ref_annot'\n",
    "\n",
    "# create paths and names to results folders for reference regression and cell2location models\n",
    "ref_run_name = f'{results_folder}/reference_signatures'\n",
    "run_name = f'{results_folder}/cell2location_map/N2_alpha20_normalized_counts'"
   ]
  },
  {
   "cell_type": "code",
   "execution_count": null,
   "id": "a9837574",
   "metadata": {
    "execution": {
     "iopub.execute_input": "2023-09-16T07:05:44.508164Z",
     "iopub.status.busy": "2023-09-16T07:05:44.507868Z",
     "iopub.status.idle": "2023-09-16T07:05:59.045359Z",
     "shell.execute_reply": "2023-09-16T07:05:59.044682Z"
    }
   },
   "outputs": [],
   "source": [
    "adata_file = f\"{run_name}/sp.h5ad\"\n",
    "adata_vis = sc.read_h5ad(adata_file)\n",
    "mod = cell2location.models.Cell2location.load(f\"{run_name}\", adata_vis)"
   ]
  },
  {
   "cell_type": "code",
   "execution_count": null,
   "id": "8819e90e",
   "metadata": {
    "execution": {
     "iopub.execute_input": "2023-09-16T07:05:59.047859Z",
     "iopub.status.busy": "2023-09-16T07:05:59.047638Z",
     "iopub.status.idle": "2023-09-16T07:05:59.389692Z",
     "shell.execute_reply": "2023-09-16T07:05:59.389036Z"
    }
   },
   "outputs": [],
   "source": [
    "adata_vis.obsm['q05_cell_abundance_w_sf'].to_csv(f\"{run_name}/q05_cell_abundance_w_sf.csv\")\n",
    "adata_vis.obs"
   ]
  },
  {
   "cell_type": "code",
   "execution_count": null,
   "id": "0f32e72a",
   "metadata": {},
   "outputs": [],
   "source": [
    "## select best display maxes for each cell type\n",
    "## find the 99th percentile(s) for each slide in a each cell type (make table of it -- cell types are rows and slides are columns)\n",
    "\n",
    "adata_vis.obs[adata_vis.uns['mod']['factor_names']] = adata_vis.obsm['q05_cell_abundance_w_sf']\n",
    "sample_annotated_cell_probs = adata_vis.obs[['sample'] + list(adata_vis.uns['mod']['factor_names'])]\n",
    "tbl_99pctile = sample_annotated_cell_probs.groupby(['sample']).quantile(0.99)\n",
    "min_max_means_of_99pctile = [np.mean(x) for x in zip(tbl_99pctile.min(axis = 0), tbl_99pctile.max(axis = 0))]"
   ]
  },
  {
   "cell_type": "code",
   "execution_count": null,
   "id": "893e9947",
   "metadata": {
    "execution": {
     "iopub.execute_input": "2023-09-16T07:05:59.392381Z",
     "iopub.status.busy": "2023-09-16T07:05:59.392150Z",
     "iopub.status.idle": "2023-09-16T07:06:49.357819Z",
     "shell.execute_reply": "2023-09-16T07:06:49.355997Z"
    }
   },
   "outputs": [],
   "source": [
    "# add 5% quantile, representing confident cell abundance, 'at least this amount is present',\n",
    "# to adata.obs with nice names for plotting\n",
    "adata_vis.obs[adata_vis.uns['mod']['factor_names']] = adata_vis.obsm['q05_cell_abundance_w_sf']\n",
    "\n",
    "# select one slide\n",
    "from cell2location.utils import select_slide\n",
    "slide = select_slide(adata_vis, '1149G_A1_096') ## slide name to select here\n",
    "\n",
    "# plot in spatial coordinates\n",
    "with mpl.rc_context({'axes.facecolor':  'black',\n",
    "                     'figure.figsize': [4.5, 5]}):\n",
    "\n",
    "    sc.pl.spatial(slide, cmap='magma',\n",
    "                  # show first 8 cell types\n",
    "                  color=list(adata_vis.uns['mod']['factor_names']),\n",
    "                  ncols=4, size=1.3,\n",
    "                  img_key='hires',\n",
    "                  # limit color scale at 99.2% quantile of cell abundance\n",
    "                  vmin=0, vmax=min_max_means_of_99pctile, show = False\n",
    "                 )\n",
    "    plt.savefig('/home/ssobti/projects/farnaz_spatial/output_data/monkey/cell2location/multi_ref_annot/other_outputs/N2_alpha20_normalized_counts_1149G_A1_096.pdf', bbox_inches=\"tight\")"
   ]
  },
  {
   "cell_type": "code",
   "execution_count": null,
   "id": "b4203dfa",
   "metadata": {
    "execution": {
     "iopub.execute_input": "2023-09-16T07:06:49.396764Z",
     "iopub.status.busy": "2023-09-16T07:06:49.394985Z",
     "iopub.status.idle": "2023-09-16T07:07:31.247530Z",
     "shell.execute_reply": "2023-09-16T07:07:31.246377Z"
    }
   },
   "outputs": [],
   "source": [
    "# add 5% quantile, representing confident cell abundance, 'at least this amount is present',\n",
    "# to adata.obs with nice names for plotting\n",
    "adata_vis.obs[adata_vis.uns['mod']['factor_names']] = adata_vis.obsm['q05_cell_abundance_w_sf']\n",
    "\n",
    "# select one slide\n",
    "from cell2location.utils import select_slide\n",
    "slide = select_slide(adata_vis, '1572G_D1_096') ## slide name to select here\n",
    "\n",
    "# plot in spatial coordinates\n",
    "with mpl.rc_context({'axes.facecolor':  'black',\n",
    "                     'figure.figsize': [4.5, 5]}):\n",
    "\n",
    "    sc.pl.spatial(slide, cmap='magma',\n",
    "                  # show first 8 cell types\n",
    "                  color=list(adata_vis.uns['mod']['factor_names']),\n",
    "                  ncols=4, size=1.3,\n",
    "                  img_key='hires',\n",
    "                  # limit color scale at 99.2% quantile of cell abundance\n",
    "                  vmin=0, vmax=min_max_means_of_99pctile, show = False\n",
    "                 )\n",
    "    plt.savefig('/home/ssobti/projects/farnaz_spatial/output_data/monkey/cell2location/multi_ref_annot/other_outputs/N2_alpha20_normalized_counts_1572G_D1_096.pdf', bbox_inches=\"tight\")"
   ]
  },
  {
   "cell_type": "code",
   "execution_count": null,
   "id": "5bad553a",
   "metadata": {
    "execution": {
     "iopub.execute_input": "2023-09-16T07:07:31.252849Z",
     "iopub.status.busy": "2023-09-16T07:07:31.252517Z",
     "iopub.status.idle": "2023-09-16T07:08:12.075347Z",
     "shell.execute_reply": "2023-09-16T07:08:12.074178Z"
    }
   },
   "outputs": [],
   "source": [
    "# add 5% quantile, representing confident cell abundance, 'at least this amount is present',\n",
    "# to adata.obs with nice names for plotting\n",
    "adata_vis.obs[adata_vis.uns['mod']['factor_names']] = adata_vis.obsm['q05_cell_abundance_w_sf']\n",
    "\n",
    "# select one slide\n",
    "from cell2location.utils import select_slide\n",
    "slide = select_slide(adata_vis, '1080T_A1_327') ## slide name to select here\n",
    "\n",
    "# plot in spatial coordinates\n",
    "with mpl.rc_context({'axes.facecolor':  'black',\n",
    "                     'figure.figsize': [4.5, 5]}):\n",
    "\n",
    "    sc.pl.spatial(slide, cmap='magma',\n",
    "                  # show first 8 cell types\n",
    "                  color=list(adata_vis.uns['mod']['factor_names']),\n",
    "                  ncols=4, size=1.3,\n",
    "                  img_key='hires',\n",
    "                  # limit color scale at 99.2% quantile of cell abundance\n",
    "                  vmin=0, vmax=min_max_means_of_99pctile, show = False\n",
    "                 )\n",
    "    plt.savefig('/home/ssobti/projects/farnaz_spatial/output_data/monkey/cell2location/multi_ref_annot/other_outputs/N2_alpha20_normalized_counts_1080T_A1_327.pdf', bbox_inches=\"tight\")"
   ]
  },
  {
   "cell_type": "code",
   "execution_count": null,
   "id": "40bf349d",
   "metadata": {
    "execution": {
     "iopub.execute_input": "2023-09-16T07:08:12.080564Z",
     "iopub.status.busy": "2023-09-16T07:08:12.080079Z",
     "iopub.status.idle": "2023-09-16T07:08:39.044812Z",
     "shell.execute_reply": "2023-09-16T07:08:39.043833Z"
    }
   },
   "outputs": [],
   "source": [
    "# add 5% quantile, representing confident cell abundance, 'at least this amount is present',\n",
    "# to adata.obs with nice names for plotting\n",
    "adata_vis.obs[adata_vis.uns['mod']['factor_names']] = adata_vis.obsm['q05_cell_abundance_w_sf']\n",
    "\n",
    "# select one slide\n",
    "from cell2location.utils import select_slide\n",
    "slide = select_slide(adata_vis, '1080B_D1_327') ## slide name to select here\n",
    "\n",
    "# plot in spatial coordinates\n",
    "with mpl.rc_context({'axes.facecolor':  'black',\n",
    "                     'figure.figsize': [4.5, 5]}):\n",
    "\n",
    "    sc.pl.spatial(slide, cmap='magma',\n",
    "                  # show first 8 cell types\n",
    "                  color=list(adata_vis.uns['mod']['factor_names']),\n",
    "                  ncols=4, size=1.3,\n",
    "                  img_key='hires',\n",
    "                  # limit color scale at 99.2% quantile of cell abundance\n",
    "                  vmin=0, vmax=min_max_means_of_99pctile, show = False\n",
    "                 )\n",
    "    plt.savefig('/home/ssobti/projects/farnaz_spatial/output_data/monkey/cell2location/multi_ref_annot/other_outputs/N2_alpha20_normalized_counts_1080B_D1_327.pdf', bbox_inches=\"tight\")"
   ]
  },
  {
   "cell_type": "code",
   "execution_count": null,
   "id": "d457ccd4",
   "metadata": {
    "execution": {
     "iopub.execute_input": "2023-09-16T07:08:39.048883Z",
     "iopub.status.busy": "2023-09-16T07:08:39.048644Z",
     "iopub.status.idle": "2023-09-16T07:08:54.487632Z",
     "shell.execute_reply": "2023-09-16T07:08:54.486359Z"
    }
   },
   "outputs": [],
   "source": [
    "# compute KNN using the cell2location output stored in adata.obsm\n",
    "sc.pp.neighbors(adata_vis, use_rep='q05_cell_abundance_w_sf',\n",
    "                n_neighbors = 15)\n",
    "\n",
    "# Cluster spots into regions using scanpy\n",
    "sc.tl.leiden(adata_vis, resolution=1.1)\n",
    "\n",
    "# add region as categorical variable\n",
    "adata_vis.obs[\"region_cluster\"] = adata_vis.obs[\"leiden\"].astype(\"category\")"
   ]
  },
  {
   "cell_type": "code",
   "execution_count": null,
   "id": "151afc40",
   "metadata": {
    "execution": {
     "iopub.execute_input": "2023-09-16T07:08:54.492307Z",
     "iopub.status.busy": "2023-09-16T07:08:54.492049Z",
     "iopub.status.idle": "2023-09-16T07:09:29.248064Z",
     "shell.execute_reply": "2023-09-16T07:09:29.247203Z"
    }
   },
   "outputs": [],
   "source": [
    "# compute UMAP using KNN graph based on the cell2location output\n",
    "sc.tl.umap(adata_vis, min_dist = 0.3, spread = 1)\n",
    "\n",
    "# show regions in UMAP coordinates\n",
    "with mpl.rc_context({'axes.facecolor':  'white',\n",
    "                     'figure.figsize': [8, 8]}):\n",
    "    sc.pl.umap(adata_vis, color=['region_cluster'], size=30,\n",
    "               color_map = 'RdPu', ncols = 2, legend_loc='on data',\n",
    "               legend_fontsize=20)\n",
    "    sc.pl.umap(adata_vis, color=['sample'], size=30,\n",
    "               color_map = 'RdPu', ncols = 2,\n",
    "               legend_fontsize=20)"
   ]
  },
  {
   "cell_type": "code",
   "execution_count": null,
   "id": "1346a46c",
   "metadata": {
    "execution": {
     "iopub.execute_input": "2023-09-16T07:09:29.254966Z",
     "iopub.status.busy": "2023-09-16T07:09:29.254714Z",
     "iopub.status.idle": "2023-09-16T07:09:39.794545Z",
     "shell.execute_reply": "2023-09-16T07:09:39.793662Z"
    }
   },
   "outputs": [],
   "source": [
    "# plot in spatial coordinates\n",
    "with mpl.rc_context({'axes.facecolor':  'black',\n",
    "                     'figure.figsize': [4.5, 5]}):\n",
    "    sc.pl.spatial(select_slide(adata_vis, '1149G_A1_096'), color=['region_cluster'],\n",
    "                  size=1.3, img_key='hires', alpha=0.5, library_id='1149G_A1_096')\n",
    "    sc.pl.spatial(select_slide(adata_vis, '1572G_D1_096'), color=['region_cluster'],\n",
    "                  size=1.3, img_key='hires', alpha=0.5, library_id='1572G_D1_096')\n",
    "    sc.pl.spatial(select_slide(adata_vis, '1080T_A1_327'), color=['region_cluster'],\n",
    "                  size=1.3, img_key='hires', alpha=0.5, library_id='1080T_A1_327')\n",
    "    sc.pl.spatial(select_slide(adata_vis, '1080B_D1_327'), color=['region_cluster'],\n",
    "                  size=1.3, img_key='hires', alpha=0.5, library_id='1080B_D1_327')"
   ]
  },
  {
   "cell_type": "markdown",
   "id": "ae071555",
   "metadata": {},
   "source": [
    "## NMF"
   ]
  },
  {
   "cell_type": "code",
   "execution_count": null,
   "id": "9f73befd",
   "metadata": {
    "execution": {
     "iopub.execute_input": "2023-09-16T07:09:39.799463Z",
     "iopub.status.busy": "2023-09-16T07:09:39.799210Z",
     "iopub.status.idle": "2023-09-16T08:02:06.510088Z",
     "shell.execute_reply": "2023-09-16T08:02:06.508812Z"
    }
   },
   "outputs": [],
   "source": [
    "from cell2location import run_colocation\n",
    "res_dict, slide = run_colocation(\n",
    "    adata_vis,\n",
    "    model_name='CoLocatedGroupsSklearnNMF',\n",
    "    train_args={\n",
    "      'n_fact': np.arange(5, 30), # IMPORTANT: use a wider range of the number of factors (5-30)\n",
    "      'sample_name_col': 'sample', # columns in adata_vis.obs that identifies sample\n",
    "      'n_restarts': 3 # number of training restarts\n",
    "    },\n",
    "    # the hyperparameters of NMF can be also adjusted:\n",
    "    model_kwargs={'alpha': 0.01, 'init': 'random', \"nmf_kwd_args\": {\"tol\": 0.000001}},\n",
    "    export_args={'path': f'{run_name}/CoLocatedComb/'}\n",
    ")"
   ]
  },
  {
   "cell_type": "code",
   "execution_count": null,
   "id": "b2bc8596",
   "metadata": {
    "execution": {
     "iopub.execute_input": "2023-09-16T08:02:06.519870Z",
     "iopub.status.busy": "2023-09-16T08:02:06.519576Z",
     "iopub.status.idle": "2023-09-16T08:02:07.226674Z",
     "shell.execute_reply": "2023-09-16T08:02:07.225636Z"
    }
   },
   "outputs": [],
   "source": [
    "# Compute expected expression per cell type\n",
    "expected_dict = mod.module.model.compute_expected_per_cell_type(\n",
    "    mod.samples[\"post_sample_q05\"], mod.adata_manager\n",
    ")"
   ]
  },
  {
   "cell_type": "code",
   "execution_count": null,
   "id": "7c5465cf",
   "metadata": {},
   "outputs": [],
   "source": []
  }
 ],
 "metadata": {
  "kernelspec": {
   "display_name": "cell2loc_env",
   "language": "python",
   "name": "cell2loc_env"
  },
  "language_info": {
   "codemirror_mode": {
    "name": "ipython",
    "version": 3
   },
   "file_extension": ".py",
   "mimetype": "text/x-python",
   "name": "python",
   "nbconvert_exporter": "python",
   "pygments_lexer": "ipython3",
   "version": "3.10.9"
  }
 },
 "nbformat": 4,
 "nbformat_minor": 5
}
