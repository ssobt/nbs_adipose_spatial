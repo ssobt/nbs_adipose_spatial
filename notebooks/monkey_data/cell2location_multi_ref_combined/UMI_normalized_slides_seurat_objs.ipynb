{
 "cells": [
  {
   "cell_type": "code",
   "execution_count": null,
   "id": "15fa3a83-a351-4343-a7ff-04dcbc23dbcf",
   "metadata": {
    "vscode": {
     "languageId": "r"
    }
   },
   "outputs": [],
   "source": [
    "## Notebook env: farnaz_spatial (R kernel)"
   ]
  },
  {
   "cell_type": "code",
   "execution_count": 8,
   "id": "8c7a8e3f-9d6e-4c97-8f7e-2f346b290887",
   "metadata": {
    "vscode": {
     "languageId": "r"
    }
   },
   "outputs": [],
   "source": [
    "library(dplyr)\n",
    "library(patchwork)\n",
    "library(Seurat)\n",
    "library(Cairo)\n",
    "library(pbapply)\n",
    "library(ggpubr)\n",
    "library(Matrix)"
   ]
  },
  {
   "cell_type": "code",
   "execution_count": 2,
   "id": "eb6577c4-4ca4-4272-9b77-7a7029888c28",
   "metadata": {
    "vscode": {
     "languageId": "r"
    }
   },
   "outputs": [
    {
     "name": "stderr",
     "output_type": "stream",
     "text": [
      "Warning message:\n",
      "“Invalid name supplied, making object name syntactically valid. New object name is X1149G_A1_096; see ?make.names for more details on syntax validity”\n",
      "Warning message:\n",
      "“Keys should be one or more alphanumeric characters followed by an underscore, setting key from x1149g_a1_096_ to x1149ga1096_”\n",
      "Warning message:\n",
      "“Invalid name supplied, making object name syntactically valid. New object name is X1572G_D1_096; see ?make.names for more details on syntax validity”\n",
      "Warning message:\n",
      "“Keys should be one or more alphanumeric characters followed by an underscore, setting key from x1572g_d1_096_ to x1572gd1096_”\n",
      "Warning message:\n",
      "“Invalid name supplied, making object name syntactically valid. New object name is X1080T_A1_327; see ?make.names for more details on syntax validity”\n",
      "Warning message:\n",
      "“Keys should be one or more alphanumeric characters followed by an underscore, setting key from x1080t_a1_327_ to x1080ta1327_”\n",
      "Warning message:\n",
      "“Invalid name supplied, making object name syntactically valid. New object name is X1080B_D1_327; see ?make.names for more details on syntax validity”\n",
      "Warning message:\n",
      "“Keys should be one or more alphanumeric characters followed by an underscore, setting key from x1080b_d1_327_ to x1080bd1327_”\n"
     ]
    }
   ],
   "source": [
    "seurat_1149G_A1_096 <- Load10X_Spatial(\n",
    "  data.dir = \"/home/ssobti/projects/farnaz_spatial/data/monkey_data/spaceranger_V42N11-096/count-A1/outs\",\n",
    "  filename = \"filtered_feature_bc_matrix.h5\",\n",
    "  assay = \"Spatial\",\n",
    "  slice = \"1149G_A1_096\",\n",
    "  filter.matrix = TRUE,\n",
    "  to.upper = FALSE,\n",
    "  image = NULL,\n",
    ")\n",
    "\n",
    "seurat_1572G_D1_096 <- Load10X_Spatial(\n",
    "  \"/home/ssobti/projects/farnaz_spatial/data/monkey_data/spaceranger_V42N11-096/count-D1/outs\",\n",
    "  filename = \"filtered_feature_bc_matrix.h5\",\n",
    "  assay = \"Spatial\",\n",
    "  slice = \"1572G_D1_096\",\n",
    "  filter.matrix = TRUE,\n",
    "  to.upper = FALSE,\n",
    "  image = NULL,\n",
    ")\n",
    "\n",
    "seurat_1080T_A1_327 <- Load10X_Spatial(\n",
    "  \"/home/ssobti/projects/farnaz_spatial/data/monkey_data/spaceranger_V42N11-327/count-A1/outs\",\n",
    "  filename = \"filtered_feature_bc_matrix.h5\",\n",
    "  assay = \"Spatial\",\n",
    "  slice = \"1080T_A1_327\",\n",
    "  filter.matrix = TRUE,\n",
    "  to.upper = FALSE,\n",
    "  image = NULL,\n",
    ")\n",
    "\n",
    "seurat_1080B_D1_327 <- Load10X_Spatial(\n",
    "  \"/home/ssobti/projects/farnaz_spatial/data/monkey_data/spaceranger_V42N11-327/count-D1/outs\",\n",
    "  filename = \"filtered_feature_bc_matrix.h5\",\n",
    "  assay = \"Spatial\",\n",
    "  slice = \"1080B_D1_327\",\n",
    "  filter.matrix = TRUE,\n",
    "  to.upper = FALSE,\n",
    "  image = NULL,\n",
    ")"
   ]
  },
  {
   "cell_type": "code",
   "execution_count": 3,
   "id": "05d959cc-79f7-4b8f-8197-9c0caa4d59bf",
   "metadata": {
    "vscode": {
     "languageId": "r"
    }
   },
   "outputs": [],
   "source": [
    "slices_seurat = list(seurat_1149G_A1_096, seurat_1572G_D1_096, seurat_1080T_A1_327, seurat_1080B_D1_327)\n",
    "names(slices_seurat) = c('seurat_1149G_A1_096', 'seurat_1572G_D1_096', 'seurat_1080T_A1_327', 'seurat_1080B_D1_327')"
   ]
  },
  {
   "cell_type": "code",
   "execution_count": 4,
   "id": "9035881f-50f1-42d0-8a34-3ead3e1b8e63",
   "metadata": {
    "vscode": {
     "languageId": "r"
    }
   },
   "outputs": [],
   "source": [
    "slices_seurat = lapply(slices_seurat, PercentageFeatureSet, \"^mt_\", col.name = \"percent_mito\")\n",
    "slices_seurat = lapply(slices_seurat, PercentageFeatureSet, \"^Hb.*-\", col.name = \"percent_hb\")"
   ]
  },
  {
   "cell_type": "code",
   "execution_count": 5,
   "id": "09c21b99-6661-457c-9c6d-569af9b9da57",
   "metadata": {
    "vscode": {
     "languageId": "r"
    }
   },
   "outputs": [],
   "source": [
    "slices_seurat = pblapply(slices_seurat, NormalizeData, assay = \"Spatial\", normalization.method = 'RC', scale.factor = 1e6, verbose = FALSE)"
   ]
  },
  {
   "cell_type": "code",
   "execution_count": 6,
   "id": "ea817fc5",
   "metadata": {
    "vscode": {
     "languageId": "r"
    }
   },
   "outputs": [
    {
     "data": {
      "text/html": [
       "<dl>\n",
       "\t<dt>$seurat_1149G_A1_096</dt>\n",
       "\t\t<dd>NULL</dd>\n",
       "\t<dt>$seurat_1572G_D1_096</dt>\n",
       "\t\t<dd>NULL</dd>\n",
       "\t<dt>$seurat_1080T_A1_327</dt>\n",
       "\t\t<dd>NULL</dd>\n",
       "\t<dt>$seurat_1080B_D1_327</dt>\n",
       "\t\t<dd>NULL</dd>\n",
       "</dl>\n"
      ],
      "text/latex": [
       "\\begin{description}\n",
       "\\item[\\$seurat\\_1149G\\_A1\\_096] NULL\n",
       "\\item[\\$seurat\\_1572G\\_D1\\_096] NULL\n",
       "\\item[\\$seurat\\_1080T\\_A1\\_327] NULL\n",
       "\\item[\\$seurat\\_1080B\\_D1\\_327] NULL\n",
       "\\end{description}\n"
      ],
      "text/markdown": [
       "$seurat_1149G_A1_096\n",
       ":   NULL\n",
       "$seurat_1572G_D1_096\n",
       ":   NULL\n",
       "$seurat_1080T_A1_327\n",
       ":   NULL\n",
       "$seurat_1080B_D1_327\n",
       ":   NULL\n",
       "\n",
       "\n"
      ],
      "text/plain": [
       "$seurat_1149G_A1_096\n",
       "NULL\n",
       "\n",
       "$seurat_1572G_D1_096\n",
       "NULL\n",
       "\n",
       "$seurat_1080T_A1_327\n",
       "NULL\n",
       "\n",
       "$seurat_1080B_D1_327\n",
       "NULL\n"
      ]
     },
     "metadata": {},
     "output_type": "display_data"
    }
   ],
   "source": [
    "mapply(saveRDS, object = slices_seurat, file = paste0('/home/ssobti/projects/farnaz_spatial/output_data/monkey/UMI_normalized_seurat_slices/', names(slices_seurat), '.rds'))"
   ]
  },
  {
   "cell_type": "markdown",
   "id": "c6e94976",
   "metadata": {},
   "source": [
    "## Saving negative binomial corrected counts"
   ]
  },
  {
   "cell_type": "code",
   "execution_count": 9,
   "id": "9e36c821",
   "metadata": {
    "vscode": {
     "languageId": "r"
    }
   },
   "outputs": [
    {
     "name": "stderr",
     "output_type": "stream",
     "text": [
      "Warning message:\n",
      "“Invalid name supplied, making object name syntactically valid. New object name is X1149G_A1_096; see ?make.names for more details on syntax validity”\n",
      "Warning message:\n",
      "“Keys should be one or more alphanumeric characters followed by an underscore, setting key from x1149g_a1_096_ to x1149ga1096_”\n",
      "Warning message:\n",
      "“Invalid name supplied, making object name syntactically valid. New object name is X1572G_D1_096; see ?make.names for more details on syntax validity”\n",
      "Warning message:\n",
      "“Keys should be one or more alphanumeric characters followed by an underscore, setting key from x1572g_d1_096_ to x1572gd1096_”\n",
      "Warning message:\n",
      "“Invalid name supplied, making object name syntactically valid. New object name is X1080T_A1_327; see ?make.names for more details on syntax validity”\n",
      "Warning message:\n",
      "“Keys should be one or more alphanumeric characters followed by an underscore, setting key from x1080t_a1_327_ to x1080ta1327_”\n",
      "Warning message:\n",
      "“Invalid name supplied, making object name syntactically valid. New object name is X1080B_D1_327; see ?make.names for more details on syntax validity”\n",
      "Warning message:\n",
      "“Keys should be one or more alphanumeric characters followed by an underscore, setting key from x1080b_d1_327_ to x1080bd1327_”\n"
     ]
    }
   ],
   "source": [
    "seurat_1149G_A1_096 <- Load10X_Spatial(\n",
    "  data.dir = \"/home/ssobti/projects/farnaz_spatial/data/monkey_data/spaceranger_V42N11-096/count-A1/outs\",\n",
    "  filename = \"filtered_feature_bc_matrix.h5\",\n",
    "  assay = \"Spatial\",\n",
    "  slice = \"1149G_A1_096\",\n",
    "  filter.matrix = TRUE,\n",
    "  to.upper = FALSE,\n",
    "  image = NULL,\n",
    ")\n",
    "\n",
    "seurat_1572G_D1_096 <- Load10X_Spatial(\n",
    "  \"/home/ssobti/projects/farnaz_spatial/data/monkey_data/spaceranger_V42N11-096/count-D1/outs\",\n",
    "  filename = \"filtered_feature_bc_matrix.h5\",\n",
    "  assay = \"Spatial\",\n",
    "  slice = \"1572G_D1_096\",\n",
    "  filter.matrix = TRUE,\n",
    "  to.upper = FALSE,\n",
    "  image = NULL,\n",
    ")\n",
    "\n",
    "seurat_1080T_A1_327 <- Load10X_Spatial(\n",
    "  \"/home/ssobti/projects/farnaz_spatial/data/monkey_data/spaceranger_V42N11-327/count-A1/outs\",\n",
    "  filename = \"filtered_feature_bc_matrix.h5\",\n",
    "  assay = \"Spatial\",\n",
    "  slice = \"1080T_A1_327\",\n",
    "  filter.matrix = TRUE,\n",
    "  to.upper = FALSE,\n",
    "  image = NULL,\n",
    ")\n",
    "\n",
    "seurat_1080B_D1_327 <- Load10X_Spatial(\n",
    "  \"/home/ssobti/projects/farnaz_spatial/data/monkey_data/spaceranger_V42N11-327/count-D1/outs\",\n",
    "  filename = \"filtered_feature_bc_matrix.h5\",\n",
    "  assay = \"Spatial\",\n",
    "  slice = \"1080B_D1_327\",\n",
    "  filter.matrix = TRUE,\n",
    "  to.upper = FALSE,\n",
    "  image = NULL,\n",
    ")"
   ]
  },
  {
   "cell_type": "code",
   "execution_count": 10,
   "id": "1f8ed547",
   "metadata": {
    "vscode": {
     "languageId": "r"
    }
   },
   "outputs": [],
   "source": [
    "slices_seurat = list(seurat_1149G_A1_096, seurat_1572G_D1_096, seurat_1080T_A1_327, seurat_1080B_D1_327)\n",
    "names(slices_seurat) = c('seurat_1149G_A1_096_sctransform', 'seurat_1572G_D1_096_sctransform', 'seurat_1080T_A1_327_sctransform', 'seurat_1080B_D1_327_sctransform')"
   ]
  },
  {
   "cell_type": "code",
   "execution_count": 11,
   "id": "7678f27b",
   "metadata": {
    "vscode": {
     "languageId": "r"
    }
   },
   "outputs": [],
   "source": [
    "slices_seurat = lapply(slices_seurat, PercentageFeatureSet, \"^mt_\", col.name = \"percent_mito\")\n",
    "slices_seurat = lapply(slices_seurat, PercentageFeatureSet, \"^Hb.*-\", col.name = \"percent_hb\")"
   ]
  },
  {
   "cell_type": "code",
   "execution_count": 12,
   "id": "2843b5d2",
   "metadata": {
    "vscode": {
     "languageId": "r"
    }
   },
   "outputs": [
    {
     "name": "stderr",
     "output_type": "stream",
     "text": [
      "Calculating cell attributes from input UMI matrix: log_umi\n",
      "\n",
      "Variance stabilizing transformation of count matrix of size 8611 by 2163\n",
      "\n",
      "Model formula is y ~ log_umi\n",
      "\n",
      "Get Negative Binomial regression parameters per gene\n",
      "\n",
      "Using 2000 genes, 2163 cells\n",
      "\n"
     ]
    },
    {
     "name": "stdout",
     "output_type": "stream",
     "text": [
      "  |                                                                      |   0%"
     ]
    },
    {
     "name": "stdout",
     "output_type": "stream",
     "text": [
      "  |======================================================================| 100%\n"
     ]
    },
    {
     "name": "stderr",
     "output_type": "stream",
     "text": [
      "Found 16 outliers - those will be ignored in fitting/regularization step\n",
      "\n",
      "\n",
      "Second step: Get residuals using fitted parameters for 8611 genes\n",
      "\n"
     ]
    },
    {
     "name": "stdout",
     "output_type": "stream",
     "text": [
      "  |======================================================================| 100%\n"
     ]
    },
    {
     "name": "stderr",
     "output_type": "stream",
     "text": [
      "Computing corrected count matrix for 8611 genes\n",
      "\n"
     ]
    },
    {
     "name": "stdout",
     "output_type": "stream",
     "text": [
      "  |======================================================================| 100%\n"
     ]
    },
    {
     "name": "stderr",
     "output_type": "stream",
     "text": [
      "Calculating gene attributes\n",
      "\n",
      "Wall clock passed: Time difference of 26.37645 secs\n",
      "\n",
      "Determine variable features\n",
      "\n",
      "Place corrected count matrix in counts slot\n",
      "\n",
      "Set default assay to SCT\n",
      "\n",
      "Calculating cell attributes from input UMI matrix: log_umi\n",
      "\n",
      "Variance stabilizing transformation of count matrix of size 16451 by 3327\n",
      "\n",
      "Model formula is y ~ log_umi\n",
      "\n",
      "Get Negative Binomial regression parameters per gene\n",
      "\n",
      "Using 2000 genes, 3327 cells\n",
      "\n"
     ]
    },
    {
     "name": "stdout",
     "output_type": "stream",
     "text": [
      "  |======================================================================| 100%\n"
     ]
    },
    {
     "name": "stderr",
     "output_type": "stream",
     "text": [
      "Found 64 outliers - those will be ignored in fitting/regularization step\n",
      "\n",
      "\n",
      "Second step: Get residuals using fitted parameters for 16451 genes\n",
      "\n"
     ]
    },
    {
     "name": "stdout",
     "output_type": "stream",
     "text": [
      "  |======================================================================| 100%\n"
     ]
    },
    {
     "name": "stderr",
     "output_type": "stream",
     "text": [
      "Computing corrected count matrix for 16451 genes\n",
      "\n"
     ]
    },
    {
     "name": "stdout",
     "output_type": "stream",
     "text": [
      "  |======================================================================| 100%\n"
     ]
    },
    {
     "name": "stderr",
     "output_type": "stream",
     "text": [
      "Calculating gene attributes\n",
      "\n",
      "Wall clock passed: Time difference of 48.99023 secs\n",
      "\n",
      "Determine variable features\n",
      "\n",
      "Place corrected count matrix in counts slot\n",
      "\n",
      "Set default assay to SCT\n",
      "\n",
      "Calculating cell attributes from input UMI matrix: log_umi\n",
      "\n",
      "Variance stabilizing transformation of count matrix of size 16306 by 4175\n",
      "\n",
      "Model formula is y ~ log_umi\n",
      "\n",
      "Get Negative Binomial regression parameters per gene\n",
      "\n",
      "Using 2000 genes, 4175 cells\n",
      "\n"
     ]
    },
    {
     "name": "stdout",
     "output_type": "stream",
     "text": [
      "  |======================================================================| 100%\n"
     ]
    },
    {
     "name": "stderr",
     "output_type": "stream",
     "text": [
      "Found 47 outliers - those will be ignored in fitting/regularization step\n",
      "\n",
      "\n",
      "Second step: Get residuals using fitted parameters for 16306 genes\n",
      "\n"
     ]
    },
    {
     "name": "stdout",
     "output_type": "stream",
     "text": [
      "  |======================================================================| 100%\n"
     ]
    },
    {
     "name": "stderr",
     "output_type": "stream",
     "text": [
      "Computing corrected count matrix for 16306 genes\n",
      "\n"
     ]
    },
    {
     "name": "stdout",
     "output_type": "stream",
     "text": [
      "  |======================================================================| 100%\n"
     ]
    },
    {
     "name": "stderr",
     "output_type": "stream",
     "text": [
      "Calculating gene attributes\n",
      "\n",
      "Wall clock passed: Time difference of 59.79318 secs\n",
      "\n",
      "Determine variable features\n",
      "\n",
      "Place corrected count matrix in counts slot\n",
      "\n",
      "Set default assay to SCT\n",
      "\n",
      "Calculating cell attributes from input UMI matrix: log_umi\n",
      "\n",
      "Variance stabilizing transformation of count matrix of size 15821 by 2717\n",
      "\n",
      "Model formula is y ~ log_umi\n",
      "\n",
      "Get Negative Binomial regression parameters per gene\n",
      "\n",
      "Using 2000 genes, 2717 cells\n",
      "\n"
     ]
    },
    {
     "name": "stdout",
     "output_type": "stream",
     "text": [
      "  |======================================================================| 100%\n"
     ]
    },
    {
     "name": "stderr",
     "output_type": "stream",
     "text": [
      "Found 57 outliers - those will be ignored in fitting/regularization step\n",
      "\n",
      "\n",
      "Second step: Get residuals using fitted parameters for 15821 genes\n",
      "\n"
     ]
    },
    {
     "name": "stdout",
     "output_type": "stream",
     "text": [
      "  |======================================================================| 100%\n"
     ]
    },
    {
     "name": "stderr",
     "output_type": "stream",
     "text": [
      "Computing corrected count matrix for 15821 genes\n",
      "\n"
     ]
    },
    {
     "name": "stdout",
     "output_type": "stream",
     "text": [
      "  |======================================================================| 100%\n"
     ]
    },
    {
     "name": "stderr",
     "output_type": "stream",
     "text": [
      "Calculating gene attributes\n",
      "\n",
      "Wall clock passed: Time difference of 40.94662 secs\n",
      "\n",
      "Determine variable features\n",
      "\n",
      "Place corrected count matrix in counts slot\n",
      "\n",
      "Set default assay to SCT\n",
      "\n"
     ]
    }
   ],
   "source": [
    "slices_seurat = pblapply(slices_seurat, SCTransform, assay = \"Spatial\", do.center = FALSE)"
   ]
  },
  {
   "cell_type": "code",
   "execution_count": 6,
   "id": "31406e96",
   "metadata": {
    "vscode": {
     "languageId": "r"
    }
   },
   "outputs": [],
   "source": [
    "slices_nrm_nb_mtxs = lapply(slices_seurat, function(x) x@assays$SCT@counts)\n",
    "slices_genes = lapply(slices_seurat, function(x) rownames(x@assays$SCT@counts))\n",
    "slices_cells = lapply(slices_seurat, function(x) colnames(x@assays$SCT@counts))"
   ]
  },
  {
   "cell_type": "code",
   "execution_count": 7,
   "id": "1026fe23",
   "metadata": {
    "vscode": {
     "languageId": "r"
    }
   },
   "outputs": [
    {
     "data": {
      "text/html": [
       "<dl>\n",
       "\t<dt>$seurat_1149G_A1_096_sctransform</dt>\n",
       "\t\t<dd>NULL</dd>\n",
       "\t<dt>$seurat_1572G_D1_096_sctransform</dt>\n",
       "\t\t<dd>NULL</dd>\n",
       "\t<dt>$seurat_1080T_A1_327_sctransform</dt>\n",
       "\t\t<dd>NULL</dd>\n",
       "\t<dt>$seurat_1080B_D1_327_sctransform</dt>\n",
       "\t\t<dd>NULL</dd>\n",
       "</dl>\n"
      ],
      "text/latex": [
       "\\begin{description}\n",
       "\\item[\\$seurat\\_1149G\\_A1\\_096\\_sctransform] NULL\n",
       "\\item[\\$seurat\\_1572G\\_D1\\_096\\_sctransform] NULL\n",
       "\\item[\\$seurat\\_1080T\\_A1\\_327\\_sctransform] NULL\n",
       "\\item[\\$seurat\\_1080B\\_D1\\_327\\_sctransform] NULL\n",
       "\\end{description}\n"
      ],
      "text/markdown": [
       "$seurat_1149G_A1_096_sctransform\n",
       ":   NULL\n",
       "$seurat_1572G_D1_096_sctransform\n",
       ":   NULL\n",
       "$seurat_1080T_A1_327_sctransform\n",
       ":   NULL\n",
       "$seurat_1080B_D1_327_sctransform\n",
       ":   NULL\n",
       "\n",
       "\n"
      ],
      "text/plain": [
       "$seurat_1149G_A1_096_sctransform\n",
       "NULL\n",
       "\n",
       "$seurat_1572G_D1_096_sctransform\n",
       "NULL\n",
       "\n",
       "$seurat_1080T_A1_327_sctransform\n",
       "NULL\n",
       "\n",
       "$seurat_1080B_D1_327_sctransform\n",
       "NULL\n"
      ]
     },
     "metadata": {},
     "output_type": "display_data"
    },
    {
     "data": {
      "text/html": [
       "<dl>\n",
       "\t<dt>$seurat_1149G_A1_096_sctransform</dt>\n",
       "\t\t<dd>NULL</dd>\n",
       "\t<dt>$seurat_1572G_D1_096_sctransform</dt>\n",
       "\t\t<dd>NULL</dd>\n",
       "\t<dt>$seurat_1080T_A1_327_sctransform</dt>\n",
       "\t\t<dd>NULL</dd>\n",
       "\t<dt>$seurat_1080B_D1_327_sctransform</dt>\n",
       "\t\t<dd>NULL</dd>\n",
       "</dl>\n"
      ],
      "text/latex": [
       "\\begin{description}\n",
       "\\item[\\$seurat\\_1149G\\_A1\\_096\\_sctransform] NULL\n",
       "\\item[\\$seurat\\_1572G\\_D1\\_096\\_sctransform] NULL\n",
       "\\item[\\$seurat\\_1080T\\_A1\\_327\\_sctransform] NULL\n",
       "\\item[\\$seurat\\_1080B\\_D1\\_327\\_sctransform] NULL\n",
       "\\end{description}\n"
      ],
      "text/markdown": [
       "$seurat_1149G_A1_096_sctransform\n",
       ":   NULL\n",
       "$seurat_1572G_D1_096_sctransform\n",
       ":   NULL\n",
       "$seurat_1080T_A1_327_sctransform\n",
       ":   NULL\n",
       "$seurat_1080B_D1_327_sctransform\n",
       ":   NULL\n",
       "\n",
       "\n"
      ],
      "text/plain": [
       "$seurat_1149G_A1_096_sctransform\n",
       "NULL\n",
       "\n",
       "$seurat_1572G_D1_096_sctransform\n",
       "NULL\n",
       "\n",
       "$seurat_1080T_A1_327_sctransform\n",
       "NULL\n",
       "\n",
       "$seurat_1080B_D1_327_sctransform\n",
       "NULL\n"
      ]
     },
     "metadata": {},
     "output_type": "display_data"
    },
    {
     "data": {
      "text/html": [
       "<dl>\n",
       "\t<dt>$seurat_1149G_A1_096_sctransform</dt>\n",
       "\t\t<dd>NULL</dd>\n",
       "\t<dt>$seurat_1572G_D1_096_sctransform</dt>\n",
       "\t\t<dd>NULL</dd>\n",
       "\t<dt>$seurat_1080T_A1_327_sctransform</dt>\n",
       "\t\t<dd>NULL</dd>\n",
       "\t<dt>$seurat_1080B_D1_327_sctransform</dt>\n",
       "\t\t<dd>NULL</dd>\n",
       "</dl>\n"
      ],
      "text/latex": [
       "\\begin{description}\n",
       "\\item[\\$seurat\\_1149G\\_A1\\_096\\_sctransform] NULL\n",
       "\\item[\\$seurat\\_1572G\\_D1\\_096\\_sctransform] NULL\n",
       "\\item[\\$seurat\\_1080T\\_A1\\_327\\_sctransform] NULL\n",
       "\\item[\\$seurat\\_1080B\\_D1\\_327\\_sctransform] NULL\n",
       "\\end{description}\n"
      ],
      "text/markdown": [
       "$seurat_1149G_A1_096_sctransform\n",
       ":   NULL\n",
       "$seurat_1572G_D1_096_sctransform\n",
       ":   NULL\n",
       "$seurat_1080T_A1_327_sctransform\n",
       ":   NULL\n",
       "$seurat_1080B_D1_327_sctransform\n",
       ":   NULL\n",
       "\n",
       "\n"
      ],
      "text/plain": [
       "$seurat_1149G_A1_096_sctransform\n",
       "NULL\n",
       "\n",
       "$seurat_1572G_D1_096_sctransform\n",
       "NULL\n",
       "\n",
       "$seurat_1080T_A1_327_sctransform\n",
       "NULL\n",
       "\n",
       "$seurat_1080B_D1_327_sctransform\n",
       "NULL\n"
      ]
     },
     "metadata": {},
     "output_type": "display_data"
    }
   ],
   "source": [
    "sv_names = c('seurat_1149G_A1_096_neg_binomial_counts', 'seurat_1572G_D1_096_neg_binomial_counts', 'seurat_1080T_A1_327_neg_binomial_counts', 'seurat_1080B_D1_327_neg_binomial_counts')\n",
    "mapply(writeMM, obj = slices_nrm_nb_mtxs, file = paste0('/home/ssobti/projects/farnaz_spatial/output_data/monkey/UMI_normalized_seurat_slices/', sv_names, '.mtx'))\n",
    "mapply(write.csv, x = slices_genes, file = paste0('/home/ssobti/projects/farnaz_spatial/output_data/monkey/UMI_normalized_seurat_slices/', sv_names, '_genes.csv'))\n",
    "mapply(write.csv, x = slices_cells, file = paste0('/home/ssobti/projects/farnaz_spatial/output_data/monkey/UMI_normalized_seurat_slices/', sv_names, '_cells.csv'))"
   ]
  },
  {
   "cell_type": "code",
   "execution_count": 14,
   "id": "75418eae",
   "metadata": {
    "vscode": {
     "languageId": "r"
    }
   },
   "outputs": [
    {
     "data": {
      "text/html": [
       "<dl>\n",
       "\t<dt>$seurat_1149G_A1_096_sctransform</dt>\n",
       "\t\t<dd>TRUE</dd>\n",
       "\t<dt>$seurat_1572G_D1_096_sctransform</dt>\n",
       "\t\t<dd>TRUE</dd>\n",
       "\t<dt>$seurat_1080T_A1_327_sctransform</dt>\n",
       "\t\t<dd>TRUE</dd>\n",
       "\t<dt>$seurat_1080B_D1_327_sctransform</dt>\n",
       "\t\t<dd>TRUE</dd>\n",
       "</dl>\n"
      ],
      "text/latex": [
       "\\begin{description}\n",
       "\\item[\\$seurat\\_1149G\\_A1\\_096\\_sctransform] TRUE\n",
       "\\item[\\$seurat\\_1572G\\_D1\\_096\\_sctransform] TRUE\n",
       "\\item[\\$seurat\\_1080T\\_A1\\_327\\_sctransform] TRUE\n",
       "\\item[\\$seurat\\_1080B\\_D1\\_327\\_sctransform] TRUE\n",
       "\\end{description}\n"
      ],
      "text/markdown": [
       "$seurat_1149G_A1_096_sctransform\n",
       ":   TRUE\n",
       "$seurat_1572G_D1_096_sctransform\n",
       ":   TRUE\n",
       "$seurat_1080T_A1_327_sctransform\n",
       ":   TRUE\n",
       "$seurat_1080B_D1_327_sctransform\n",
       ":   TRUE\n",
       "\n",
       "\n"
      ],
      "text/plain": [
       "$seurat_1149G_A1_096_sctransform\n",
       "[1] TRUE\n",
       "\n",
       "$seurat_1572G_D1_096_sctransform\n",
       "[1] TRUE\n",
       "\n",
       "$seurat_1080T_A1_327_sctransform\n",
       "[1] TRUE\n",
       "\n",
       "$seurat_1080B_D1_327_sctransform\n",
       "[1] TRUE\n"
      ]
     },
     "metadata": {},
     "output_type": "display_data"
    }
   ],
   "source": [
    "## make sure number of spots in sctransform corrected matrices are the same as original matrices\n",
    "lapply(slices_seurat, function(x) ncol(x@assays$SCT@counts) == ncol(x@assays$Spatial@counts))"
   ]
  },
  {
   "cell_type": "code",
   "execution_count": null,
   "id": "0fa20557",
   "metadata": {
    "vscode": {
     "languageId": "r"
    }
   },
   "outputs": [],
   "source": []
  },
  {
   "cell_type": "code",
   "execution_count": null,
   "id": "6c079591",
   "metadata": {
    "vscode": {
     "languageId": "r"
    }
   },
   "outputs": [],
   "source": []
  }
 ],
 "metadata": {
  "kernelspec": {
   "display_name": "R",
   "language": "R",
   "name": "ir"
  },
  "language_info": {
   "codemirror_mode": "r",
   "file_extension": ".r",
   "mimetype": "text/x-r-source",
   "name": "R",
   "pygments_lexer": "r",
   "version": "4.2.2"
  }
 },
 "nbformat": 4,
 "nbformat_minor": 5
}
