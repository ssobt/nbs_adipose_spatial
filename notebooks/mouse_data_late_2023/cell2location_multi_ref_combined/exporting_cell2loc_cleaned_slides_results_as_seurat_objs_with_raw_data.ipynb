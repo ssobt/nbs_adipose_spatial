{
 "cells": [
  {
   "cell_type": "code",
   "execution_count": 1,
   "metadata": {
    "vscode": {
     "languageId": "r"
    }
   },
   "outputs": [
    {
     "name": "stderr",
     "output_type": "stream",
     "text": [
      "Attaching SeuratObject\n",
      "\n",
      "Attaching sp\n",
      "\n"
     ]
    }
   ],
   "source": [
    "library(Seurat)"
   ]
  },
  {
   "cell_type": "code",
   "execution_count": 2,
   "metadata": {
    "vscode": {
     "languageId": "r"
    }
   },
   "outputs": [],
   "source": [
    "path = '/home/ssobti/projects/farnaz_spatial/data/mouse_data_late_2023/unpacked_data/'\n",
    "A006_3 = Load10X_Spatial(data.dir = paste0(path, \"A006_3/outs/\"), filename = \"filtered_feature_bc_matrix.h5\", assay = \"Spatial\", slice = \"slice1\", filter.matrix = TRUE, to.upper = FALSE, image = NULL)\n",
    "A021_3 = Load10X_Spatial(data.dir = paste0(path, \"A021_3/outs/\"), filename = \"filtered_feature_bc_matrix.h5\", assay = \"Spatial\", slice = \"slice1\", filter.matrix = TRUE, to.upper = FALSE, image = NULL)\n",
    "A041_6 = Load10X_Spatial(data.dir = paste0(path, \"A041_6/outs/\"), filename = \"filtered_feature_bc_matrix.h5\", assay = \"Spatial\", slice = \"slice1\", filter.matrix = TRUE, to.upper = FALSE, image = NULL)\n",
    "B006_3 = Load10X_Spatial(data.dir = paste0(path, \"B006_3/outs/\"), filename = \"filtered_feature_bc_matrix.h5\", assay = \"Spatial\", slice = \"slice1\", filter.matrix = TRUE, to.upper = FALSE, image = NULL)\n",
    "B021_6 = Load10X_Spatial(data.dir = paste0(path, \"B021_6/outs/\"), filename = \"filtered_feature_bc_matrix.h5\", assay = \"Spatial\", slice = \"slice1\", filter.matrix = TRUE, to.upper = FALSE, image = NULL)\n",
    "B041_6 = Load10X_Spatial(data.dir = paste0(path, \"B041_6/outs/\"), filename = \"filtered_feature_bc_matrix.h5\", assay = \"Spatial\", slice = \"slice1\", filter.matrix = TRUE, to.upper = FALSE, image = NULL)"
   ]
  },
  {
   "cell_type": "code",
   "execution_count": 3,
   "metadata": {
    "vscode": {
     "languageId": "r"
    }
   },
   "outputs": [],
   "source": [
    "A006_3@meta.data$cellid = rownames(A006_3@meta.data)\n",
    "A021_3@meta.data$cellid = rownames(A021_3@meta.data)\n",
    "A041_6@meta.data$cellid = rownames(A041_6@meta.data)\n",
    "B006_3@meta.data$cellid = rownames(B006_3@meta.data)\n",
    "B021_6@meta.data$cellid = rownames(B021_6@meta.data)\n",
    "B041_6@meta.data$cellid = rownames(B041_6@meta.data)"
   ]
  },
  {
   "cell_type": "code",
   "execution_count": 4,
   "metadata": {
    "vscode": {
     "languageId": "r"
    }
   },
   "outputs": [],
   "source": [
    "path = '/home/ssobti/projects/farnaz_spatial/output_data/mouse_late_2023/cell2location/multi_ref_annot/cell2location_map/N2_alpha20_cleaned_slides/q05_cell_abundance_w_sf.csv'\n",
    "cell2loc_meta = read.csv(path, row.names = 1)"
   ]
  },
  {
   "cell_type": "code",
   "execution_count": 5,
   "metadata": {
    "vscode": {
     "languageId": "r"
    }
   },
   "outputs": [],
   "source": [
    "A006_3_cell2loc = cell2loc_meta[startsWith(rownames(cell2loc_meta), \"A006_3\"),]\n",
    "rownames(A006_3_cell2loc) = stringr::str_sub(rownames(A006_3_cell2loc), 8 , -1)\n",
    "A021_3_cell2loc = cell2loc_meta[startsWith(rownames(cell2loc_meta), \"A021_3\"),]\n",
    "rownames(A021_3_cell2loc) = stringr::str_sub(rownames(A021_3_cell2loc), 8 , -1)\n",
    "A041_6_cell2loc = cell2loc_meta[startsWith(rownames(cell2loc_meta), \"A041_6\"),]\n",
    "rownames(A041_6_cell2loc) = stringr::str_sub(rownames(A041_6_cell2loc), 8 , -1)\n",
    "B006_3_cell2loc = cell2loc_meta[startsWith(rownames(cell2loc_meta), \"B006_3\"),]\n",
    "rownames(B006_3_cell2loc) = stringr::str_sub(rownames(B006_3_cell2loc), 8 , -1)\n",
    "B021_6_cell2loc = cell2loc_meta[startsWith(rownames(cell2loc_meta), \"B021_6\"),]\n",
    "rownames(B021_6_cell2loc) = stringr::str_sub(rownames(B021_6_cell2loc), 8 , -1)\n",
    "B041_6_cell2loc = cell2loc_meta[startsWith(rownames(cell2loc_meta), \"B041_6\"),]\n",
    "rownames(B041_6_cell2loc) = stringr::str_sub(rownames(B041_6_cell2loc), 8 , -1)"
   ]
  },
  {
   "cell_type": "code",
   "execution_count": 6,
   "metadata": {
    "vscode": {
     "languageId": "r"
    }
   },
   "outputs": [],
   "source": [
    "A006_3 <- subset(A006_3, cellid %in% rownames(A006_3_cell2loc), invert = FALSE)\n",
    "A006_3_cell2loc = A006_3_cell2loc[match(rownames(A006_3_cell2loc), A006_3@meta.data$cellid),]\n",
    "A006_3@meta.data = cbind(A006_3@meta.data, A006_3_cell2loc)\n",
    "\n",
    "A021_3 <- subset(A021_3, cellid %in% rownames(A021_3_cell2loc), invert = FALSE)\n",
    "A021_3_cell2loc = A021_3_cell2loc[match(rownames(A021_3_cell2loc), A021_3@meta.data$cellid),]\n",
    "A021_3@meta.data = cbind(A021_3@meta.data, A021_3_cell2loc)\n",
    "\n",
    "A041_6 <- subset(A041_6, cellid %in% rownames(A041_6_cell2loc), invert = FALSE)\n",
    "A041_6_cell2loc = A041_6_cell2loc[match(rownames(A041_6_cell2loc), A041_6@meta.data$cellid),]\n",
    "A041_6@meta.data = cbind(A041_6@meta.data, A041_6_cell2loc)\n",
    "\n",
    "B006_3 <- subset(B006_3, cellid %in% rownames(B006_3_cell2loc), invert = FALSE)\n",
    "B006_3_cell2loc = B006_3_cell2loc[match(rownames(B006_3_cell2loc), B006_3@meta.data$cellid),]\n",
    "B006_3@meta.data = cbind(B006_3@meta.data, B006_3_cell2loc)\n",
    "\n",
    "B021_6 <- subset(B021_6, cellid %in% rownames(B021_6_cell2loc), invert = FALSE)\n",
    "B021_6_cell2loc = B021_6_cell2loc[match(rownames(B021_6_cell2loc), B021_6@meta.data$cellid),]\n",
    "B021_6@meta.data = cbind(B021_6@meta.data, B021_6_cell2loc)\n",
    "\n",
    "B041_6 <- subset(B041_6, cellid %in% rownames(B041_6_cell2loc), invert = FALSE)\n",
    "B041_6_cell2loc = B041_6_cell2loc[match(rownames(B041_6_cell2loc), B041_6@meta.data$cellid),]\n",
    "B041_6@meta.data = cbind(B041_6@meta.data, B041_6_cell2loc)"
   ]
  },
  {
   "cell_type": "code",
   "execution_count": null,
   "metadata": {
    "vscode": {
     "languageId": "r"
    }
   },
   "outputs": [],
   "source": [
    "saveRDS(A006_3, '/home/ssobti/fz_tmp/A006_3.rds')\n",
    "saveRDS(A021_3, '/home/ssobti/fz_tmp/A021_3.rds')\n",
    "saveRDS(A041_6, '/home/ssobti/fz_tmp/A041_6.rds')\n",
    "saveRDS(B006_3, '/home/ssobti/fz_tmp/B006_3.rds')\n",
    "saveRDS(B021_6, '/home/ssobti/fz_tmp/B021_6.rds')\n",
    "saveRDS(B041_6, '/home/ssobti/fz_tmp/B041_6.rds')"
   ]
  },
  {
   "cell_type": "code",
   "execution_count": null,
   "metadata": {
    "vscode": {
     "languageId": "r"
    }
   },
   "outputs": [],
   "source": []
  }
 ],
 "metadata": {
  "kernelspec": {
   "display_name": "R",
   "language": "R",
   "name": "ir"
  },
  "language_info": {
   "codemirror_mode": "r",
   "file_extension": ".r",
   "mimetype": "text/x-r-source",
   "name": "R",
   "pygments_lexer": "r",
   "version": "4.0.5"
  }
 },
 "nbformat": 4,
 "nbformat_minor": 2
}
