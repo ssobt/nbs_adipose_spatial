{
 "cells": [
  {
   "cell_type": "code",
   "execution_count": null,
   "id": "985ce277",
   "metadata": {},
   "outputs": [],
   "source": [
    "## Notebook env: seuratdisk (R kernel)\n",
    "\n",
    "## this notebook converts reference seruat object to h5 object readable by anndata"
   ]
  },
  {
   "cell_type": "code",
   "execution_count": 1,
   "id": "257c5811",
   "metadata": {},
   "outputs": [
    {
     "name": "stderr",
     "output_type": "stream",
     "text": [
      "Attaching SeuratObject\n",
      "\n",
      "Attaching sp\n",
      "\n",
      "Registered S3 method overwritten by 'SeuratDisk':\n",
      "  method            from  \n",
      "  as.sparse.H5Group Seurat\n",
      "\n"
     ]
    }
   ],
   "source": [
    "library(Seurat)\n",
    "library(SeuratDisk)"
   ]
  },
  {
   "cell_type": "code",
   "execution_count": 2,
   "id": "1681443e",
   "metadata": {},
   "outputs": [],
   "source": [
    "mBAT <- readRDS(\"/home/ssobti/projects/farnaz_spatial/data/seurat_mBAT.rds\")"
   ]
  },
  {
   "cell_type": "code",
   "execution_count": 4,
   "id": "d943adbf",
   "metadata": {},
   "outputs": [],
   "source": [
    "write.csv(mBAT@meta.data, '/home/ssobti/projects/farnaz_spatial/data/mBAT_meta.csv')"
   ]
  },
  {
   "cell_type": "code",
   "execution_count": 5,
   "id": "d9125086",
   "metadata": {},
   "outputs": [
    {
     "name": "stderr",
     "output_type": "stream",
     "text": [
      "Validating object structure\n",
      "\n",
      "Updating object slots\n",
      "\n",
      "Ensuring keys are in the proper strucutre\n",
      "\n",
      "Ensuring feature names don't have underscores or pipes\n",
      "\n",
      "Updating slots in RNA\n",
      "\n",
      "Updating slots in SCT\n",
      "\n",
      "Updating slots in integrated\n",
      "\n",
      "Updating slots in pca\n",
      "\n",
      "Updating slots in umap\n",
      "\n",
      "Setting umap DimReduc to global\n",
      "\n",
      "No assay information could be found for FindIntegrationAnchors\n",
      "\n",
      "Warning message:\n",
      "“Adding a command log without an assay associated with it”\n",
      "No assay information could be found for PairwiseIntegrateReference\n",
      "\n",
      "Warning message:\n",
      "“Adding a command log without an assay associated with it”\n",
      "Setting assay used for RunPCA.integrated to integrated\n",
      "\n",
      "Setting assay used for RunUMAP.integrated.pca to integrated\n",
      "\n",
      "Setting assay used for FindNeighbors.integrated.pca to integrated\n",
      "\n",
      "No assay information could be found for FindClusters\n",
      "\n",
      "Warning message:\n",
      "“Adding a command log without an assay associated with it”\n",
      "Setting assay used for NormalizeData.RNA to RNA\n",
      "\n",
      "Object representation is consistent with the most current Seurat version\n",
      "\n"
     ]
    }
   ],
   "source": [
    "mBAT <- UpdateSeuratObject(mBAT)"
   ]
  },
  {
   "cell_type": "code",
   "execution_count": 6,
   "id": "1c2a89d4",
   "metadata": {},
   "outputs": [
    {
     "name": "stderr",
     "output_type": "stream",
     "text": [
      "Creating h5Seurat file for version 3.1.5.9900\n",
      "\n",
      "Adding counts for RNA\n",
      "\n",
      "Adding data for RNA\n",
      "\n",
      "No variable features found for RNA\n",
      "\n",
      "No feature-level metadata found for RNA\n",
      "\n",
      "Adding counts for SCT\n",
      "\n",
      "Adding data for SCT\n",
      "\n",
      "Adding scale.data for SCT\n",
      "\n",
      "No variable features found for SCT\n",
      "\n",
      "No feature-level metadata found for SCT\n",
      "\n",
      "Adding data for integrated\n",
      "\n",
      "Adding scale.data for integrated\n",
      "\n",
      "Adding variable features for integrated\n",
      "\n",
      "No feature-level metadata found for integrated\n",
      "\n",
      "Adding cell embeddings for pca\n",
      "\n",
      "Adding loadings for pca\n",
      "\n",
      "No projected loadings for pca\n",
      "\n",
      "Adding standard deviations for pca\n",
      "\n",
      "No JackStraw data for pca\n",
      "\n",
      "Adding cell embeddings for umap\n",
      "\n",
      "No loadings for umap\n",
      "\n",
      "No projected loadings for umap\n",
      "\n",
      "No standard deviations for umap\n",
      "\n",
      "No JackStraw data for umap\n",
      "\n"
     ]
    }
   ],
   "source": [
    "SaveH5Seurat(mBAT, filename = \"/home/ssobti/projects/farnaz_spatial/data/mBAT.h5Seurat\")"
   ]
  },
  {
   "cell_type": "code",
   "execution_count": 7,
   "id": "7751498f",
   "metadata": {},
   "outputs": [
    {
     "name": "stderr",
     "output_type": "stream",
     "text": [
      "Validating h5Seurat file\n",
      "\n",
      "Adding data from RNA as X\n",
      "\n",
      "Adding counts from RNA as raw\n",
      "\n",
      "Transfering meta.data to obs\n",
      "\n",
      "Adding dimensional reduction information for umap (global)\n",
      "\n"
     ]
    }
   ],
   "source": [
    "Convert(\"/home/ssobti/projects/farnaz_spatial/data/mBAT.h5Seurat\", dest = \"h5ad\")"
   ]
  },
  {
   "cell_type": "code",
   "execution_count": null,
   "id": "c98c0a9b",
   "metadata": {},
   "outputs": [],
   "source": []
  },
  {
   "cell_type": "code",
   "execution_count": null,
   "id": "989b0654",
   "metadata": {},
   "outputs": [],
   "source": []
  },
  {
   "cell_type": "code",
   "execution_count": null,
   "id": "fcb093b2",
   "metadata": {},
   "outputs": [],
   "source": []
  }
 ],
 "metadata": {
  "kernelspec": {
   "display_name": "R",
   "language": "R",
   "name": "ir"
  },
  "language_info": {
   "codemirror_mode": "r",
   "file_extension": ".r",
   "mimetype": "text/x-r-source",
   "name": "R",
   "pygments_lexer": "r",
   "version": "4.0.5"
  }
 },
 "nbformat": 4,
 "nbformat_minor": 5
}
