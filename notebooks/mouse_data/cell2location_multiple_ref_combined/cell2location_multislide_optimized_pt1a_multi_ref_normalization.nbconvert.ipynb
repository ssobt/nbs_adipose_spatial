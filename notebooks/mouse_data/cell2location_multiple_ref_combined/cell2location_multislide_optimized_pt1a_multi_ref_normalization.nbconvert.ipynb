{
 "cells": [
  {
   "cell_type": "code",
   "execution_count": 1,
   "id": "9bfe9cd8",
   "metadata": {
    "execution": {
     "iopub.execute_input": "2023-04-17T05:31:25.909810Z",
     "iopub.status.busy": "2023-04-17T05:31:25.909325Z",
     "iopub.status.idle": "2023-04-17T05:31:25.915255Z",
     "shell.execute_reply": "2023-04-17T05:31:25.914391Z"
    }
   },
   "outputs": [],
   "source": [
    "## Notebook env: cell2loc_env (cell2loc_env kernel)\n",
    "## this notebook performs cell2location to *spatially* deconvolute cells using a reference annotated scRNAseq dataset"
   ]
  },
  {
   "cell_type": "code",
   "execution_count": 2,
   "id": "4c304106",
   "metadata": {
    "execution": {
     "iopub.execute_input": "2023-04-17T05:31:25.918476Z",
     "iopub.status.busy": "2023-04-17T05:31:25.918207Z",
     "iopub.status.idle": "2023-04-17T05:31:33.166356Z",
     "shell.execute_reply": "2023-04-17T05:31:33.164759Z"
    }
   },
   "outputs": [
    {
     "name": "stderr",
     "output_type": "stream",
     "text": [
      "Global seed set to 0\n"
     ]
    }
   ],
   "source": [
    "import sys\n",
    "import scanpy as sc\n",
    "import anndata\n",
    "import pandas as pd\n",
    "import numpy as np\n",
    "import os\n",
    "\n",
    "data_type = 'float32'\n",
    "\n",
    "import cell2location\n",
    "\n",
    "import matplotlib as mpl\n",
    "from matplotlib import rcParams\n",
    "import matplotlib.pyplot as plt\n",
    "import seaborn as sns\n",
    "\n",
    "# silence scanpy that prints a lot of warnings\n",
    "import warnings\n",
    "warnings.filterwarnings('ignore')\n",
    "rcParams['pdf.fonttype'] = 42 # enables correct plotting of text for PDFs"
   ]
  },
  {
   "cell_type": "code",
   "execution_count": 3,
   "id": "a75ebd5c",
   "metadata": {
    "execution": {
     "iopub.execute_input": "2023-04-17T05:31:33.172064Z",
     "iopub.status.busy": "2023-04-17T05:31:33.171545Z",
     "iopub.status.idle": "2023-04-17T05:31:33.177520Z",
     "shell.execute_reply": "2023-04-17T05:31:33.176468Z"
    }
   },
   "outputs": [],
   "source": [
    "results_folder = '/home/ssobti/projects/farnaz_spatial/output_data/cell2location/multi_ref_annot'\n",
    "\n",
    "# create paths and names to results folders for reference regression and cell2location models\n",
    "ref_run_name = f'{results_folder}/reference_signatures'\n",
    "#run_name = f'{results_folder}/cell2location_map'"
   ]
  },
  {
   "cell_type": "code",
   "execution_count": 4,
   "id": "20a3cde9",
   "metadata": {
    "execution": {
     "iopub.execute_input": "2023-04-17T05:31:33.180696Z",
     "iopub.status.busy": "2023-04-17T05:31:33.180454Z",
     "iopub.status.idle": "2023-04-17T05:32:39.051614Z",
     "shell.execute_reply": "2023-04-17T05:32:39.050460Z"
    }
   },
   "outputs": [],
   "source": [
    "combined_refs = anndata.read_h5ad('/home/ssobti/projects/farnaz_spatial/data/combined_and_independent_refs/combined_refs_raw_data_seurat.h5ad')"
   ]
  },
  {
   "cell_type": "code",
   "execution_count": 5,
   "id": "7fa9f576",
   "metadata": {
    "execution": {
     "iopub.execute_input": "2023-04-17T05:32:39.057065Z",
     "iopub.status.busy": "2023-04-17T05:32:39.056723Z",
     "iopub.status.idle": "2023-04-17T05:32:39.092002Z",
     "shell.execute_reply": "2023-04-17T05:32:39.091047Z"
    }
   },
   "outputs": [],
   "source": [
    "combined_refs.obs['cell_type_final'][combined_refs.obs['cell_type_final'] == 'Vascular_smooth muscle'] = 'Vascular_smooth_muscle'"
   ]
  },
  {
   "cell_type": "code",
   "execution_count": 6,
   "id": "9a8bfb09",
   "metadata": {
    "execution": {
     "iopub.execute_input": "2023-04-17T05:32:39.095691Z",
     "iopub.status.busy": "2023-04-17T05:32:39.095497Z",
     "iopub.status.idle": "2023-04-17T05:32:39.463629Z",
     "shell.execute_reply": "2023-04-17T05:32:39.462758Z"
    }
   },
   "outputs": [],
   "source": [
    "datasets_to_keep = np.array(combined_refs.obs['dataset'] == 'mBAT') | np.array(combined_refs.obs['dataset'] == 'nuclear_ingWAT')"
   ]
  },
  {
   "cell_type": "code",
   "execution_count": 7,
   "id": "3ad2a359",
   "metadata": {
    "execution": {
     "iopub.execute_input": "2023-04-17T05:32:39.468124Z",
     "iopub.status.busy": "2023-04-17T05:32:39.467819Z",
     "iopub.status.idle": "2023-04-17T05:34:22.904537Z",
     "shell.execute_reply": "2023-04-17T05:34:22.901572Z"
    }
   },
   "outputs": [],
   "source": [
    "combined_refs = combined_refs[datasets_to_keep,]"
   ]
  },
  {
   "cell_type": "code",
   "execution_count": 8,
   "id": "757359e8",
   "metadata": {
    "execution": {
     "iopub.execute_input": "2023-04-17T05:34:22.913622Z",
     "iopub.status.busy": "2023-04-17T05:34:22.913175Z",
     "iopub.status.idle": "2023-04-17T05:34:22.942698Z",
     "shell.execute_reply": "2023-04-17T05:34:22.942120Z"
    }
   },
   "outputs": [
    {
     "data": {
      "text/html": [
       "<div>\n",
       "<style scoped>\n",
       "    .dataframe tbody tr th:only-of-type {\n",
       "        vertical-align: middle;\n",
       "    }\n",
       "\n",
       "    .dataframe tbody tr th {\n",
       "        vertical-align: top;\n",
       "    }\n",
       "\n",
       "    .dataframe thead th {\n",
       "        text-align: right;\n",
       "    }\n",
       "</style>\n",
       "<table border=\"1\" class=\"dataframe\">\n",
       "  <thead>\n",
       "    <tr style=\"text-align: right;\">\n",
       "      <th></th>\n",
       "      <th>orig.ident</th>\n",
       "      <th>nCount_RNA</th>\n",
       "      <th>nFeature_RNA</th>\n",
       "      <th>dataset</th>\n",
       "      <th>sample_name</th>\n",
       "      <th>cell_type_final</th>\n",
       "      <th>percent.mt</th>\n",
       "    </tr>\n",
       "  </thead>\n",
       "  <tbody>\n",
       "    <tr>\n",
       "      <th>AAACCCAAGCAAGGAA_1</th>\n",
       "      <td>0</td>\n",
       "      <td>7437.0</td>\n",
       "      <td>1839</td>\n",
       "      <td>mBAT</td>\n",
       "      <td>4</td>\n",
       "      <td>Macrophages</td>\n",
       "      <td>0.0</td>\n",
       "    </tr>\n",
       "    <tr>\n",
       "      <th>AAACCCAAGCCTGCCA_1</th>\n",
       "      <td>0</td>\n",
       "      <td>2444.0</td>\n",
       "      <td>907</td>\n",
       "      <td>mBAT</td>\n",
       "      <td>4</td>\n",
       "      <td>B_cells</td>\n",
       "      <td>0.0</td>\n",
       "    </tr>\n",
       "    <tr>\n",
       "      <th>AAACCCAAGGGCCAAT_1</th>\n",
       "      <td>0</td>\n",
       "      <td>4746.0</td>\n",
       "      <td>1808</td>\n",
       "      <td>mBAT</td>\n",
       "      <td>4</td>\n",
       "      <td>T_cells</td>\n",
       "      <td>0.0</td>\n",
       "    </tr>\n",
       "    <tr>\n",
       "      <th>AAACCCACAATACAGA_1</th>\n",
       "      <td>0</td>\n",
       "      <td>7588.0</td>\n",
       "      <td>2141</td>\n",
       "      <td>mBAT</td>\n",
       "      <td>4</td>\n",
       "      <td>Macrophages</td>\n",
       "      <td>0.0</td>\n",
       "    </tr>\n",
       "    <tr>\n",
       "      <th>AAACCCACACAACGTT_1</th>\n",
       "      <td>0</td>\n",
       "      <td>8909.0</td>\n",
       "      <td>2605</td>\n",
       "      <td>mBAT</td>\n",
       "      <td>4</td>\n",
       "      <td>Macrophages</td>\n",
       "      <td>0.0</td>\n",
       "    </tr>\n",
       "    <tr>\n",
       "      <th>...</th>\n",
       "      <td>...</td>\n",
       "      <td>...</td>\n",
       "      <td>...</td>\n",
       "      <td>...</td>\n",
       "      <td>...</td>\n",
       "      <td>...</td>\n",
       "      <td>...</td>\n",
       "    </tr>\n",
       "    <tr>\n",
       "      <th>Mm_ING_11-1_GGTGAAGCAATACCCA</th>\n",
       "      <td>0</td>\n",
       "      <td>665.0</td>\n",
       "      <td>514</td>\n",
       "      <td>nuclear_ingWAT</td>\n",
       "      <td>42</td>\n",
       "      <td>Adipocyte_progenitors</td>\n",
       "      <td>0.0</td>\n",
       "    </tr>\n",
       "    <tr>\n",
       "      <th>Mm_ING_11-1_CCCGAAGAGGTGGCTA</th>\n",
       "      <td>0</td>\n",
       "      <td>600.0</td>\n",
       "      <td>479</td>\n",
       "      <td>nuclear_ingWAT</td>\n",
       "      <td>42</td>\n",
       "      <td>Adipocyte_progenitors</td>\n",
       "      <td>0.0</td>\n",
       "    </tr>\n",
       "    <tr>\n",
       "      <th>Mm_ING_11-1_ACTGATGAGTTCCAGT</th>\n",
       "      <td>0</td>\n",
       "      <td>545.0</td>\n",
       "      <td>409</td>\n",
       "      <td>nuclear_ingWAT</td>\n",
       "      <td>42</td>\n",
       "      <td>Adipocyte_progenitors</td>\n",
       "      <td>0.0</td>\n",
       "    </tr>\n",
       "    <tr>\n",
       "      <th>Mm_ING_11-1_GATAGAAAGAGTCCGA</th>\n",
       "      <td>0</td>\n",
       "      <td>475.0</td>\n",
       "      <td>346</td>\n",
       "      <td>nuclear_ingWAT</td>\n",
       "      <td>42</td>\n",
       "      <td>Adipocyte_progenitors</td>\n",
       "      <td>0.0</td>\n",
       "    </tr>\n",
       "    <tr>\n",
       "      <th>Mm_ING_11-1_TTACCATGTCTAACTG</th>\n",
       "      <td>0</td>\n",
       "      <td>422.0</td>\n",
       "      <td>310</td>\n",
       "      <td>nuclear_ingWAT</td>\n",
       "      <td>42</td>\n",
       "      <td>Adipocyte_progenitors</td>\n",
       "      <td>0.0</td>\n",
       "    </tr>\n",
       "  </tbody>\n",
       "</table>\n",
       "<p>291834 rows × 7 columns</p>\n",
       "</div>"
      ],
      "text/plain": [
       "                              orig.ident  nCount_RNA  nFeature_RNA  \\\n",
       "AAACCCAAGCAAGGAA_1                     0      7437.0          1839   \n",
       "AAACCCAAGCCTGCCA_1                     0      2444.0           907   \n",
       "AAACCCAAGGGCCAAT_1                     0      4746.0          1808   \n",
       "AAACCCACAATACAGA_1                     0      7588.0          2141   \n",
       "AAACCCACACAACGTT_1                     0      8909.0          2605   \n",
       "...                                  ...         ...           ...   \n",
       "Mm_ING_11-1_GGTGAAGCAATACCCA           0       665.0           514   \n",
       "Mm_ING_11-1_CCCGAAGAGGTGGCTA           0       600.0           479   \n",
       "Mm_ING_11-1_ACTGATGAGTTCCAGT           0       545.0           409   \n",
       "Mm_ING_11-1_GATAGAAAGAGTCCGA           0       475.0           346   \n",
       "Mm_ING_11-1_TTACCATGTCTAACTG           0       422.0           310   \n",
       "\n",
       "                                     dataset  sample_name  \\\n",
       "AAACCCAAGCAAGGAA_1                      mBAT            4   \n",
       "AAACCCAAGCCTGCCA_1                      mBAT            4   \n",
       "AAACCCAAGGGCCAAT_1                      mBAT            4   \n",
       "AAACCCACAATACAGA_1                      mBAT            4   \n",
       "AAACCCACACAACGTT_1                      mBAT            4   \n",
       "...                                      ...          ...   \n",
       "Mm_ING_11-1_GGTGAAGCAATACCCA  nuclear_ingWAT           42   \n",
       "Mm_ING_11-1_CCCGAAGAGGTGGCTA  nuclear_ingWAT           42   \n",
       "Mm_ING_11-1_ACTGATGAGTTCCAGT  nuclear_ingWAT           42   \n",
       "Mm_ING_11-1_GATAGAAAGAGTCCGA  nuclear_ingWAT           42   \n",
       "Mm_ING_11-1_TTACCATGTCTAACTG  nuclear_ingWAT           42   \n",
       "\n",
       "                                    cell_type_final  percent.mt  \n",
       "AAACCCAAGCAAGGAA_1                      Macrophages         0.0  \n",
       "AAACCCAAGCCTGCCA_1                          B_cells         0.0  \n",
       "AAACCCAAGGGCCAAT_1                          T_cells         0.0  \n",
       "AAACCCACAATACAGA_1                      Macrophages         0.0  \n",
       "AAACCCACACAACGTT_1                      Macrophages         0.0  \n",
       "...                                             ...         ...  \n",
       "Mm_ING_11-1_GGTGAAGCAATACCCA  Adipocyte_progenitors         0.0  \n",
       "Mm_ING_11-1_CCCGAAGAGGTGGCTA  Adipocyte_progenitors         0.0  \n",
       "Mm_ING_11-1_ACTGATGAGTTCCAGT  Adipocyte_progenitors         0.0  \n",
       "Mm_ING_11-1_GATAGAAAGAGTCCGA  Adipocyte_progenitors         0.0  \n",
       "Mm_ING_11-1_TTACCATGTCTAACTG  Adipocyte_progenitors         0.0  \n",
       "\n",
       "[291834 rows x 7 columns]"
      ]
     },
     "execution_count": 8,
     "metadata": {},
     "output_type": "execute_result"
    }
   ],
   "source": [
    "combined_refs.obs"
   ]
  },
  {
   "cell_type": "code",
   "execution_count": 9,
   "id": "9c1b225e",
   "metadata": {
    "execution": {
     "iopub.execute_input": "2023-04-17T05:34:22.945630Z",
     "iopub.status.busy": "2023-04-17T05:34:22.945437Z",
     "iopub.status.idle": "2023-04-17T05:34:23.025728Z",
     "shell.execute_reply": "2023-04-17T05:34:23.025090Z"
    },
    "scrolled": true
   },
   "outputs": [
    {
     "data": {
      "text/html": [
       "<div>\n",
       "<style scoped>\n",
       "    .dataframe tbody tr th:only-of-type {\n",
       "        vertical-align: middle;\n",
       "    }\n",
       "\n",
       "    .dataframe tbody tr th {\n",
       "        vertical-align: top;\n",
       "    }\n",
       "\n",
       "    .dataframe thead th {\n",
       "        text-align: right;\n",
       "    }\n",
       "</style>\n",
       "<table border=\"1\" class=\"dataframe\">\n",
       "  <thead>\n",
       "    <tr style=\"text-align: right;\">\n",
       "      <th></th>\n",
       "      <th>_index</th>\n",
       "      <th>features</th>\n",
       "    </tr>\n",
       "  </thead>\n",
       "  <tbody>\n",
       "    <tr>\n",
       "      <th>0</th>\n",
       "      <td>Xkr4</td>\n",
       "      <td>Xkr4</td>\n",
       "    </tr>\n",
       "    <tr>\n",
       "      <th>1</th>\n",
       "      <td>Sox17</td>\n",
       "      <td>Sox17</td>\n",
       "    </tr>\n",
       "    <tr>\n",
       "      <th>2</th>\n",
       "      <td>Mrpl15</td>\n",
       "      <td>Mrpl15</td>\n",
       "    </tr>\n",
       "    <tr>\n",
       "      <th>3</th>\n",
       "      <td>Lypla1</td>\n",
       "      <td>Lypla1</td>\n",
       "    </tr>\n",
       "    <tr>\n",
       "      <th>4</th>\n",
       "      <td>Gm37988</td>\n",
       "      <td>Gm37988</td>\n",
       "    </tr>\n",
       "    <tr>\n",
       "      <th>...</th>\n",
       "      <td>...</td>\n",
       "      <td>...</td>\n",
       "    </tr>\n",
       "    <tr>\n",
       "      <th>16603</th>\n",
       "      <td>Itih3</td>\n",
       "      <td>Itih3</td>\n",
       "    </tr>\n",
       "    <tr>\n",
       "      <th>16604</th>\n",
       "      <td>Defb30</td>\n",
       "      <td>Defb30</td>\n",
       "    </tr>\n",
       "    <tr>\n",
       "      <th>16605</th>\n",
       "      <td>Mfrp</td>\n",
       "      <td>Mfrp</td>\n",
       "    </tr>\n",
       "    <tr>\n",
       "      <th>16606</th>\n",
       "      <td>Gm29292</td>\n",
       "      <td>Gm29292</td>\n",
       "    </tr>\n",
       "    <tr>\n",
       "      <th>16607</th>\n",
       "      <td>Gm16892</td>\n",
       "      <td>Gm16892</td>\n",
       "    </tr>\n",
       "  </tbody>\n",
       "</table>\n",
       "<p>16608 rows × 2 columns</p>\n",
       "</div>"
      ],
      "text/plain": [
       "        _index features\n",
       "0         Xkr4     Xkr4\n",
       "1        Sox17    Sox17\n",
       "2       Mrpl15   Mrpl15\n",
       "3       Lypla1   Lypla1\n",
       "4      Gm37988  Gm37988\n",
       "...        ...      ...\n",
       "16603    Itih3    Itih3\n",
       "16604   Defb30   Defb30\n",
       "16605     Mfrp     Mfrp\n",
       "16606  Gm29292  Gm29292\n",
       "16607  Gm16892  Gm16892\n",
       "\n",
       "[16608 rows x 2 columns]"
      ]
     },
     "execution_count": 9,
     "metadata": {},
     "output_type": "execute_result"
    }
   ],
   "source": [
    "combined_refs.var"
   ]
  },
  {
   "cell_type": "code",
   "execution_count": 10,
   "id": "e8c87383",
   "metadata": {
    "execution": {
     "iopub.execute_input": "2023-04-17T05:34:23.029274Z",
     "iopub.status.busy": "2023-04-17T05:34:23.029065Z",
     "iopub.status.idle": "2023-04-17T05:34:23.059774Z",
     "shell.execute_reply": "2023-04-17T05:34:23.059060Z"
    }
   },
   "outputs": [],
   "source": [
    "combined_refs.var.set_index('_index', drop=True, inplace=True)\n",
    "combined_refs.var.index.name = None"
   ]
  },
  {
   "cell_type": "code",
   "execution_count": 11,
   "id": "bb8f32a7",
   "metadata": {
    "execution": {
     "iopub.execute_input": "2023-04-17T05:34:23.063323Z",
     "iopub.status.busy": "2023-04-17T05:34:23.063062Z",
     "iopub.status.idle": "2023-04-17T05:34:23.097458Z",
     "shell.execute_reply": "2023-04-17T05:34:23.096533Z"
    }
   },
   "outputs": [
    {
     "data": {
      "text/html": [
       "<div>\n",
       "<style scoped>\n",
       "    .dataframe tbody tr th:only-of-type {\n",
       "        vertical-align: middle;\n",
       "    }\n",
       "\n",
       "    .dataframe tbody tr th {\n",
       "        vertical-align: top;\n",
       "    }\n",
       "\n",
       "    .dataframe thead th {\n",
       "        text-align: right;\n",
       "    }\n",
       "</style>\n",
       "<table border=\"1\" class=\"dataframe\">\n",
       "  <thead>\n",
       "    <tr style=\"text-align: right;\">\n",
       "      <th></th>\n",
       "      <th>features</th>\n",
       "    </tr>\n",
       "  </thead>\n",
       "  <tbody>\n",
       "    <tr>\n",
       "      <th>Xkr4</th>\n",
       "      <td>Xkr4</td>\n",
       "    </tr>\n",
       "    <tr>\n",
       "      <th>Sox17</th>\n",
       "      <td>Sox17</td>\n",
       "    </tr>\n",
       "    <tr>\n",
       "      <th>Mrpl15</th>\n",
       "      <td>Mrpl15</td>\n",
       "    </tr>\n",
       "    <tr>\n",
       "      <th>Lypla1</th>\n",
       "      <td>Lypla1</td>\n",
       "    </tr>\n",
       "    <tr>\n",
       "      <th>Gm37988</th>\n",
       "      <td>Gm37988</td>\n",
       "    </tr>\n",
       "    <tr>\n",
       "      <th>...</th>\n",
       "      <td>...</td>\n",
       "    </tr>\n",
       "    <tr>\n",
       "      <th>Itih3</th>\n",
       "      <td>Itih3</td>\n",
       "    </tr>\n",
       "    <tr>\n",
       "      <th>Defb30</th>\n",
       "      <td>Defb30</td>\n",
       "    </tr>\n",
       "    <tr>\n",
       "      <th>Mfrp</th>\n",
       "      <td>Mfrp</td>\n",
       "    </tr>\n",
       "    <tr>\n",
       "      <th>Gm29292</th>\n",
       "      <td>Gm29292</td>\n",
       "    </tr>\n",
       "    <tr>\n",
       "      <th>Gm16892</th>\n",
       "      <td>Gm16892</td>\n",
       "    </tr>\n",
       "  </tbody>\n",
       "</table>\n",
       "<p>16608 rows × 1 columns</p>\n",
       "</div>"
      ],
      "text/plain": [
       "        features\n",
       "Xkr4        Xkr4\n",
       "Sox17      Sox17\n",
       "Mrpl15    Mrpl15\n",
       "Lypla1    Lypla1\n",
       "Gm37988  Gm37988\n",
       "...          ...\n",
       "Itih3      Itih3\n",
       "Defb30    Defb30\n",
       "Mfrp        Mfrp\n",
       "Gm29292  Gm29292\n",
       "Gm16892  Gm16892\n",
       "\n",
       "[16608 rows x 1 columns]"
      ]
     },
     "execution_count": 11,
     "metadata": {},
     "output_type": "execute_result"
    }
   ],
   "source": [
    "combined_refs.var"
   ]
  },
  {
   "cell_type": "code",
   "execution_count": 12,
   "id": "b9b5b08d",
   "metadata": {
    "execution": {
     "iopub.execute_input": "2023-04-17T05:34:23.100904Z",
     "iopub.status.busy": "2023-04-17T05:34:23.100683Z",
     "iopub.status.idle": "2023-04-17T05:38:01.541788Z",
     "shell.execute_reply": "2023-04-17T05:38:01.540683Z"
    }
   },
   "outputs": [],
   "source": [
    "combined_refs.var['SYMBOL'] = combined_refs.var.index\n",
    "\n",
    "# delete unnecessary raw slot (to be removed in a future version of the tutorial)\n",
    "del combined_refs.raw"
   ]
  },
  {
   "cell_type": "markdown",
   "id": "bd8895c8",
   "metadata": {},
   "source": [
    "## Reduce number of genes (discard low expressing)"
   ]
  },
  {
   "cell_type": "code",
   "execution_count": 13,
   "id": "86380927",
   "metadata": {
    "execution": {
     "iopub.execute_input": "2023-04-17T05:38:01.547207Z",
     "iopub.status.busy": "2023-04-17T05:38:01.546905Z",
     "iopub.status.idle": "2023-04-17T05:41:31.094520Z",
     "shell.execute_reply": "2023-04-17T05:41:31.093217Z"
    }
   },
   "outputs": [
    {
     "data": {
      "image/png": "[encoded data removed]",
      "text/plain": [
       "<Figure size 640x480 with 1 Axes>"
      ]
     },
     "metadata": {},
     "output_type": "display_data"
    }
   ],
   "source": [
    "from cell2location.utils.filtering import filter_genes\n",
    "selected = filter_genes(combined_refs, cell_count_cutoff=5, cell_percentage_cutoff2=0.03, nonz_mean_cutoff=1.12)\n",
    "\n",
    "# filter the object\n",
    "combined_refs = combined_refs[:, selected].copy()"
   ]
  },
  {
   "cell_type": "code",
   "execution_count": 14,
   "id": "8da2467b",
   "metadata": {
    "execution": {
     "iopub.execute_input": "2023-04-17T05:41:31.109048Z",
     "iopub.status.busy": "2023-04-17T05:41:31.108586Z",
     "iopub.status.idle": "2023-04-17T05:41:31.131053Z",
     "shell.execute_reply": "2023-04-17T05:41:31.130383Z"
    },
    "scrolled": false
   },
   "outputs": [
    {
     "data": {
      "text/html": [
       "<div>\n",
       "<style scoped>\n",
       "    .dataframe tbody tr th:only-of-type {\n",
       "        vertical-align: middle;\n",
       "    }\n",
       "\n",
       "    .dataframe tbody tr th {\n",
       "        vertical-align: top;\n",
       "    }\n",
       "\n",
       "    .dataframe thead th {\n",
       "        text-align: right;\n",
       "    }\n",
       "</style>\n",
       "<table border=\"1\" class=\"dataframe\">\n",
       "  <thead>\n",
       "    <tr style=\"text-align: right;\">\n",
       "      <th></th>\n",
       "      <th>orig.ident</th>\n",
       "      <th>nCount_RNA</th>\n",
       "      <th>nFeature_RNA</th>\n",
       "      <th>dataset</th>\n",
       "      <th>sample_name</th>\n",
       "      <th>cell_type_final</th>\n",
       "      <th>percent.mt</th>\n",
       "    </tr>\n",
       "  </thead>\n",
       "  <tbody>\n",
       "    <tr>\n",
       "      <th>AAACCCAAGCAAGGAA_1</th>\n",
       "      <td>0</td>\n",
       "      <td>7437.0</td>\n",
       "      <td>1839</td>\n",
       "      <td>mBAT</td>\n",
       "      <td>4</td>\n",
       "      <td>Macrophages</td>\n",
       "      <td>0.0</td>\n",
       "    </tr>\n",
       "    <tr>\n",
       "      <th>AAACCCAAGCCTGCCA_1</th>\n",
       "      <td>0</td>\n",
       "      <td>2444.0</td>\n",
       "      <td>907</td>\n",
       "      <td>mBAT</td>\n",
       "      <td>4</td>\n",
       "      <td>B_cells</td>\n",
       "      <td>0.0</td>\n",
       "    </tr>\n",
       "    <tr>\n",
       "      <th>AAACCCAAGGGCCAAT_1</th>\n",
       "      <td>0</td>\n",
       "      <td>4746.0</td>\n",
       "      <td>1808</td>\n",
       "      <td>mBAT</td>\n",
       "      <td>4</td>\n",
       "      <td>T_cells</td>\n",
       "      <td>0.0</td>\n",
       "    </tr>\n",
       "    <tr>\n",
       "      <th>AAACCCACAATACAGA_1</th>\n",
       "      <td>0</td>\n",
       "      <td>7588.0</td>\n",
       "      <td>2141</td>\n",
       "      <td>mBAT</td>\n",
       "      <td>4</td>\n",
       "      <td>Macrophages</td>\n",
       "      <td>0.0</td>\n",
       "    </tr>\n",
       "    <tr>\n",
       "      <th>AAACCCACACAACGTT_1</th>\n",
       "      <td>0</td>\n",
       "      <td>8909.0</td>\n",
       "      <td>2605</td>\n",
       "      <td>mBAT</td>\n",
       "      <td>4</td>\n",
       "      <td>Macrophages</td>\n",
       "      <td>0.0</td>\n",
       "    </tr>\n",
       "    <tr>\n",
       "      <th>...</th>\n",
       "      <td>...</td>\n",
       "      <td>...</td>\n",
       "      <td>...</td>\n",
       "      <td>...</td>\n",
       "      <td>...</td>\n",
       "      <td>...</td>\n",
       "      <td>...</td>\n",
       "    </tr>\n",
       "    <tr>\n",
       "      <th>Mm_ING_11-1_GGTGAAGCAATACCCA</th>\n",
       "      <td>0</td>\n",
       "      <td>665.0</td>\n",
       "      <td>514</td>\n",
       "      <td>nuclear_ingWAT</td>\n",
       "      <td>42</td>\n",
       "      <td>Adipocyte_progenitors</td>\n",
       "      <td>0.0</td>\n",
       "    </tr>\n",
       "    <tr>\n",
       "      <th>Mm_ING_11-1_CCCGAAGAGGTGGCTA</th>\n",
       "      <td>0</td>\n",
       "      <td>600.0</td>\n",
       "      <td>479</td>\n",
       "      <td>nuclear_ingWAT</td>\n",
       "      <td>42</td>\n",
       "      <td>Adipocyte_progenitors</td>\n",
       "      <td>0.0</td>\n",
       "    </tr>\n",
       "    <tr>\n",
       "      <th>Mm_ING_11-1_ACTGATGAGTTCCAGT</th>\n",
       "      <td>0</td>\n",
       "      <td>545.0</td>\n",
       "      <td>409</td>\n",
       "      <td>nuclear_ingWAT</td>\n",
       "      <td>42</td>\n",
       "      <td>Adipocyte_progenitors</td>\n",
       "      <td>0.0</td>\n",
       "    </tr>\n",
       "    <tr>\n",
       "      <th>Mm_ING_11-1_GATAGAAAGAGTCCGA</th>\n",
       "      <td>0</td>\n",
       "      <td>475.0</td>\n",
       "      <td>346</td>\n",
       "      <td>nuclear_ingWAT</td>\n",
       "      <td>42</td>\n",
       "      <td>Adipocyte_progenitors</td>\n",
       "      <td>0.0</td>\n",
       "    </tr>\n",
       "    <tr>\n",
       "      <th>Mm_ING_11-1_TTACCATGTCTAACTG</th>\n",
       "      <td>0</td>\n",
       "      <td>422.0</td>\n",
       "      <td>310</td>\n",
       "      <td>nuclear_ingWAT</td>\n",
       "      <td>42</td>\n",
       "      <td>Adipocyte_progenitors</td>\n",
       "      <td>0.0</td>\n",
       "    </tr>\n",
       "  </tbody>\n",
       "</table>\n",
       "<p>291834 rows × 7 columns</p>\n",
       "</div>"
      ],
      "text/plain": [
       "                              orig.ident  nCount_RNA  nFeature_RNA  \\\n",
       "AAACCCAAGCAAGGAA_1                     0      7437.0          1839   \n",
       "AAACCCAAGCCTGCCA_1                     0      2444.0           907   \n",
       "AAACCCAAGGGCCAAT_1                     0      4746.0          1808   \n",
       "AAACCCACAATACAGA_1                     0      7588.0          2141   \n",
       "AAACCCACACAACGTT_1                     0      8909.0          2605   \n",
       "...                                  ...         ...           ...   \n",
       "Mm_ING_11-1_GGTGAAGCAATACCCA           0       665.0           514   \n",
       "Mm_ING_11-1_CCCGAAGAGGTGGCTA           0       600.0           479   \n",
       "Mm_ING_11-1_ACTGATGAGTTCCAGT           0       545.0           409   \n",
       "Mm_ING_11-1_GATAGAAAGAGTCCGA           0       475.0           346   \n",
       "Mm_ING_11-1_TTACCATGTCTAACTG           0       422.0           310   \n",
       "\n",
       "                                     dataset  sample_name  \\\n",
       "AAACCCAAGCAAGGAA_1                      mBAT            4   \n",
       "AAACCCAAGCCTGCCA_1                      mBAT            4   \n",
       "AAACCCAAGGGCCAAT_1                      mBAT            4   \n",
       "AAACCCACAATACAGA_1                      mBAT            4   \n",
       "AAACCCACACAACGTT_1                      mBAT            4   \n",
       "...                                      ...          ...   \n",
       "Mm_ING_11-1_GGTGAAGCAATACCCA  nuclear_ingWAT           42   \n",
       "Mm_ING_11-1_CCCGAAGAGGTGGCTA  nuclear_ingWAT           42   \n",
       "Mm_ING_11-1_ACTGATGAGTTCCAGT  nuclear_ingWAT           42   \n",
       "Mm_ING_11-1_GATAGAAAGAGTCCGA  nuclear_ingWAT           42   \n",
       "Mm_ING_11-1_TTACCATGTCTAACTG  nuclear_ingWAT           42   \n",
       "\n",
       "                                    cell_type_final  percent.mt  \n",
       "AAACCCAAGCAAGGAA_1                      Macrophages         0.0  \n",
       "AAACCCAAGCCTGCCA_1                          B_cells         0.0  \n",
       "AAACCCAAGGGCCAAT_1                          T_cells         0.0  \n",
       "AAACCCACAATACAGA_1                      Macrophages         0.0  \n",
       "AAACCCACACAACGTT_1                      Macrophages         0.0  \n",
       "...                                             ...         ...  \n",
       "Mm_ING_11-1_GGTGAAGCAATACCCA  Adipocyte_progenitors         0.0  \n",
       "Mm_ING_11-1_CCCGAAGAGGTGGCTA  Adipocyte_progenitors         0.0  \n",
       "Mm_ING_11-1_ACTGATGAGTTCCAGT  Adipocyte_progenitors         0.0  \n",
       "Mm_ING_11-1_GATAGAAAGAGTCCGA  Adipocyte_progenitors         0.0  \n",
       "Mm_ING_11-1_TTACCATGTCTAACTG  Adipocyte_progenitors         0.0  \n",
       "\n",
       "[291834 rows x 7 columns]"
      ]
     },
     "execution_count": 14,
     "metadata": {},
     "output_type": "execute_result"
    }
   ],
   "source": [
    "combined_refs.obs"
   ]
  },
  {
   "cell_type": "markdown",
   "id": "8f0e80a2",
   "metadata": {},
   "source": [
    "## Estimating expression signatures"
   ]
  },
  {
   "cell_type": "code",
   "execution_count": 15,
   "id": "00f0b9da",
   "metadata": {
    "execution": {
     "iopub.execute_input": "2023-04-17T05:41:31.133727Z",
     "iopub.status.busy": "2023-04-17T05:41:31.133536Z",
     "iopub.status.idle": "2023-04-17T05:41:31.456196Z",
     "shell.execute_reply": "2023-04-17T05:41:31.455217Z"
    }
   },
   "outputs": [
    {
     "name": "stderr",
     "output_type": "stream",
     "text": [
      "No GPU/TPU found, falling back to CPU. (Set TF_CPP_MIN_LOG_LEVEL=0 and rerun for more info.)\n"
     ]
    }
   ],
   "source": [
    "cell2location.models.RegressionModel.setup_anndata(adata=combined_refs,\n",
    "                        # 10X reaction / sample / batch\n",
    "                        batch_key='dataset',\n",
    "                        # cell type, covariate used for constructing signatures\n",
    "                        labels_key='cell_type_final',\n",
    "                        # multiplicative technical effects (platform, 3' vs 5', donor effect)\n",
    "                        categorical_covariate_keys=None\n",
    "                       )"
   ]
  },
  {
   "cell_type": "code",
   "execution_count": 16,
   "id": "66e654f3",
   "metadata": {
    "execution": {
     "iopub.execute_input": "2023-04-17T05:41:31.461267Z",
     "iopub.status.busy": "2023-04-17T05:41:31.460980Z",
     "iopub.status.idle": "2023-04-17T05:41:44.333627Z",
     "shell.execute_reply": "2023-04-17T05:41:44.332922Z"
    }
   },
   "outputs": [
    {
     "data": {
      "text/html": [
       "<pre style=\"white-space:pre;overflow-x:auto;line-height:normal;font-family:Menlo,'DejaVu Sans Mono',consolas,'Courier New',monospace\">Anndata setup with scvi-tools version <span style=\"color: #008080; text-decoration-color: #008080; font-weight: bold\">0.20</span>.<span style=\"color: #008080; text-decoration-color: #008080; font-weight: bold\">0</span>.\n",
       "</pre>\n"
      ],
      "text/plain": [
       "Anndata setup with scvi-tools version \u001b[1;36m0.20\u001b[0m.\u001b[1;36m0\u001b[0m.\n"
      ]
     },
     "metadata": {},
     "output_type": "display_data"
    },
    {
     "data": {
      "text/html": [
       "<pre style=\"white-space:pre;overflow-x:auto;line-height:normal;font-family:Menlo,'DejaVu Sans Mono',consolas,'Courier New',monospace\">\n",
       "</pre>\n"
      ],
      "text/plain": [
       "\n"
      ]
     },
     "metadata": {},
     "output_type": "display_data"
    },
    {
     "data": {
      "text/html": [
       "<pre style=\"white-space:pre;overflow-x:auto;line-height:normal;font-family:Menlo,'DejaVu Sans Mono',consolas,'Courier New',monospace\">Setup via `RegressionModel.setup_anndata` with arguments:\n",
       "</pre>\n"
      ],
      "text/plain": [
       "Setup via `RegressionModel.setup_anndata` with arguments:\n"
      ]
     },
     "metadata": {},
     "output_type": "display_data"
    },
    {
     "data": {
      "text/html": [
       "<pre style=\"white-space:pre;overflow-x:auto;line-height:normal;font-family:Menlo,'DejaVu Sans Mono',consolas,'Courier New',monospace\"><span style=\"font-weight: bold\">{</span>\n",
       "<span style=\"color: #7fbf7f; text-decoration-color: #7fbf7f\">│   </span><span style=\"color: #008000; text-decoration-color: #008000\">'layer'</span>: <span style=\"color: #800080; text-decoration-color: #800080; font-style: italic\">None</span>,\n",
       "<span style=\"color: #7fbf7f; text-decoration-color: #7fbf7f\">│   </span><span style=\"color: #008000; text-decoration-color: #008000\">'batch_key'</span>: <span style=\"color: #008000; text-decoration-color: #008000\">'dataset'</span>,\n",
       "<span style=\"color: #7fbf7f; text-decoration-color: #7fbf7f\">│   </span><span style=\"color: #008000; text-decoration-color: #008000\">'labels_key'</span>: <span style=\"color: #008000; text-decoration-color: #008000\">'cell_type_final'</span>,\n",
       "<span style=\"color: #7fbf7f; text-decoration-color: #7fbf7f\">│   </span><span style=\"color: #008000; text-decoration-color: #008000\">'categorical_covariate_keys'</span>: <span style=\"color: #800080; text-decoration-color: #800080; font-style: italic\">None</span>,\n",
       "<span style=\"color: #7fbf7f; text-decoration-color: #7fbf7f\">│   </span><span style=\"color: #008000; text-decoration-color: #008000\">'continuous_covariate_keys'</span>: <span style=\"color: #800080; text-decoration-color: #800080; font-style: italic\">None</span>\n",
       "<span style=\"font-weight: bold\">}</span>\n",
       "</pre>\n"
      ],
      "text/plain": [
       "\u001b[1m{\u001b[0m\n",
       "\u001b[2;32m│   \u001b[0m\u001b[32m'layer'\u001b[0m: \u001b[3;35mNone\u001b[0m,\n",
       "\u001b[2;32m│   \u001b[0m\u001b[32m'batch_key'\u001b[0m: \u001b[32m'dataset'\u001b[0m,\n",
       "\u001b[2;32m│   \u001b[0m\u001b[32m'labels_key'\u001b[0m: \u001b[32m'cell_type_final'\u001b[0m,\n",
       "\u001b[2;32m│   \u001b[0m\u001b[32m'categorical_covariate_keys'\u001b[0m: \u001b[3;35mNone\u001b[0m,\n",
       "\u001b[2;32m│   \u001b[0m\u001b[32m'continuous_covariate_keys'\u001b[0m: \u001b[3;35mNone\u001b[0m\n",
       "\u001b[1m}\u001b[0m\n"
      ]
     },
     "metadata": {},
     "output_type": "display_data"
    },
    {
     "data": {
      "text/html": [
       "<pre style=\"white-space:pre;overflow-x:auto;line-height:normal;font-family:Menlo,'DejaVu Sans Mono',consolas,'Courier New',monospace\">\n",
       "</pre>\n"
      ],
      "text/plain": [
       "\n"
      ]
     },
     "metadata": {},
     "output_type": "display_data"
    },
    {
     "data": {
      "text/html": [
       "<pre style=\"white-space:pre;overflow-x:auto;line-height:normal;font-family:Menlo,'DejaVu Sans Mono',consolas,'Courier New',monospace\"><span style=\"font-style: italic\">         Summary Statistics          </span>\n",
       "┏━━━━━━━━━━━━━━━━━━━━━━━━━━┳━━━━━━━━┓\n",
       "┃<span style=\"font-weight: bold\">     Summary Stat Key     </span>┃<span style=\"font-weight: bold\"> Value  </span>┃\n",
       "┡━━━━━━━━━━━━━━━━━━━━━━━━━━╇━━━━━━━━┩\n",
       "│<span style=\"color: #0087ff; text-decoration-color: #0087ff\">         n_batch          </span>│<span style=\"color: #af00d7; text-decoration-color: #af00d7\">   2    </span>│\n",
       "│<span style=\"color: #0087ff; text-decoration-color: #0087ff\">         n_cells          </span>│<span style=\"color: #af00d7; text-decoration-color: #af00d7\"> 291834 </span>│\n",
       "│<span style=\"color: #0087ff; text-decoration-color: #0087ff\"> n_extra_categorical_covs </span>│<span style=\"color: #af00d7; text-decoration-color: #af00d7\">   0    </span>│\n",
       "│<span style=\"color: #0087ff; text-decoration-color: #0087ff\"> n_extra_continuous_covs  </span>│<span style=\"color: #af00d7; text-decoration-color: #af00d7\">   0    </span>│\n",
       "│<span style=\"color: #0087ff; text-decoration-color: #0087ff\">         n_labels         </span>│<span style=\"color: #af00d7; text-decoration-color: #af00d7\">   20   </span>│\n",
       "│<span style=\"color: #0087ff; text-decoration-color: #0087ff\">          n_vars          </span>│<span style=\"color: #af00d7; text-decoration-color: #af00d7\"> 13169  </span>│\n",
       "└──────────────────────────┴────────┘\n",
       "</pre>\n"
      ],
      "text/plain": [
       "\u001b[3m         Summary Statistics          \u001b[0m\n",
       "┏━━━━━━━━━━━━━━━━━━━━━━━━━━┳━━━━━━━━┓\n",
       "┃\u001b[1m \u001b[0m\u001b[1m    Summary Stat Key    \u001b[0m\u001b[1m \u001b[0m┃\u001b[1m \u001b[0m\u001b[1mValue \u001b[0m\u001b[1m \u001b[0m┃\n",
       "┡━━━━━━━━━━━━━━━━━━━━━━━━━━╇━━━━━━━━┩\n",
       "│\u001b[38;5;33m \u001b[0m\u001b[38;5;33m        n_batch         \u001b[0m\u001b[38;5;33m \u001b[0m│\u001b[38;5;128m \u001b[0m\u001b[38;5;128m  2   \u001b[0m\u001b[38;5;128m \u001b[0m│\n",
       "│\u001b[38;5;33m \u001b[0m\u001b[38;5;33m        n_cells         \u001b[0m\u001b[38;5;33m \u001b[0m│\u001b[38;5;128m \u001b[0m\u001b[38;5;128m291834\u001b[0m\u001b[38;5;128m \u001b[0m│\n",
       "│\u001b[38;5;33m \u001b[0m\u001b[38;5;33mn_extra_categorical_covs\u001b[0m\u001b[38;5;33m \u001b[0m│\u001b[38;5;128m \u001b[0m\u001b[38;5;128m  0   \u001b[0m\u001b[38;5;128m \u001b[0m│\n",
       "│\u001b[38;5;33m \u001b[0m\u001b[38;5;33mn_extra_continuous_covs \u001b[0m\u001b[38;5;33m \u001b[0m│\u001b[38;5;128m \u001b[0m\u001b[38;5;128m  0   \u001b[0m\u001b[38;5;128m \u001b[0m│\n",
       "│\u001b[38;5;33m \u001b[0m\u001b[38;5;33m        n_labels        \u001b[0m\u001b[38;5;33m \u001b[0m│\u001b[38;5;128m \u001b[0m\u001b[38;5;128m  20  \u001b[0m\u001b[38;5;128m \u001b[0m│\n",
       "│\u001b[38;5;33m \u001b[0m\u001b[38;5;33m         n_vars         \u001b[0m\u001b[38;5;33m \u001b[0m│\u001b[38;5;128m \u001b[0m\u001b[38;5;128m13169 \u001b[0m\u001b[38;5;128m \u001b[0m│\n",
       "└──────────────────────────┴────────┘\n"
      ]
     },
     "metadata": {},
     "output_type": "display_data"
    },
    {
     "data": {
      "text/html": [
       "<pre style=\"white-space:pre;overflow-x:auto;line-height:normal;font-family:Menlo,'DejaVu Sans Mono',consolas,'Courier New',monospace\"><span style=\"font-style: italic\">               Data Registry                </span>\n",
       "┏━━━━━━━━━━━━━━┳━━━━━━━━━━━━━━━━━━━━━━━━━━━┓\n",
       "┃<span style=\"font-weight: bold\"> Registry Key </span>┃<span style=\"font-weight: bold\">    scvi-tools Location    </span>┃\n",
       "┡━━━━━━━━━━━━━━╇━━━━━━━━━━━━━━━━━━━━━━━━━━━┩\n",
       "│<span style=\"color: #0087ff; text-decoration-color: #0087ff\">      X       </span>│<span style=\"color: #af00d7; text-decoration-color: #af00d7\">          adata.X          </span>│\n",
       "│<span style=\"color: #0087ff; text-decoration-color: #0087ff\">    batch     </span>│<span style=\"color: #af00d7; text-decoration-color: #af00d7\"> adata.obs['_scvi_batch']  </span>│\n",
       "│<span style=\"color: #0087ff; text-decoration-color: #0087ff\">    ind_x     </span>│<span style=\"color: #af00d7; text-decoration-color: #af00d7\">   adata.obs['_indices']   </span>│\n",
       "│<span style=\"color: #0087ff; text-decoration-color: #0087ff\">    labels    </span>│<span style=\"color: #af00d7; text-decoration-color: #af00d7\"> adata.obs['_scvi_labels'] </span>│\n",
       "└──────────────┴───────────────────────────┘\n",
       "</pre>\n"
      ],
      "text/plain": [
       "\u001b[3m               Data Registry                \u001b[0m\n",
       "┏━━━━━━━━━━━━━━┳━━━━━━━━━━━━━━━━━━━━━━━━━━━┓\n",
       "┃\u001b[1m \u001b[0m\u001b[1mRegistry Key\u001b[0m\u001b[1m \u001b[0m┃\u001b[1m \u001b[0m\u001b[1m   scvi-tools Location   \u001b[0m\u001b[1m \u001b[0m┃\n",
       "┡━━━━━━━━━━━━━━╇━━━━━━━━━━━━━━━━━━━━━━━━━━━┩\n",
       "│\u001b[38;5;33m \u001b[0m\u001b[38;5;33m     X      \u001b[0m\u001b[38;5;33m \u001b[0m│\u001b[38;5;128m \u001b[0m\u001b[38;5;128m         adata.X         \u001b[0m\u001b[38;5;128m \u001b[0m│\n",
       "│\u001b[38;5;33m \u001b[0m\u001b[38;5;33m   batch    \u001b[0m\u001b[38;5;33m \u001b[0m│\u001b[38;5;128m \u001b[0m\u001b[38;5;128madata.obs['_scvi_batch'] \u001b[0m\u001b[38;5;128m \u001b[0m│\n",
       "│\u001b[38;5;33m \u001b[0m\u001b[38;5;33m   ind_x    \u001b[0m\u001b[38;5;33m \u001b[0m│\u001b[38;5;128m \u001b[0m\u001b[38;5;128m  adata.obs['_indices']  \u001b[0m\u001b[38;5;128m \u001b[0m│\n",
       "│\u001b[38;5;33m \u001b[0m\u001b[38;5;33m   labels   \u001b[0m\u001b[38;5;33m \u001b[0m│\u001b[38;5;128m \u001b[0m\u001b[38;5;128madata.obs['_scvi_labels']\u001b[0m\u001b[38;5;128m \u001b[0m│\n",
       "└──────────────┴───────────────────────────┘\n"
      ]
     },
     "metadata": {},
     "output_type": "display_data"
    },
    {
     "data": {
      "text/html": [
       "<pre style=\"white-space:pre;overflow-x:auto;line-height:normal;font-family:Menlo,'DejaVu Sans Mono',consolas,'Courier New',monospace\"><span style=\"font-style: italic\">                     batch State Registry                      </span>\n",
       "┏━━━━━━━━━━━━━━━━━━━━━━┳━━━━━━━━━━━━━━━━┳━━━━━━━━━━━━━━━━━━━━━┓\n",
       "┃<span style=\"font-weight: bold\">   Source Location    </span>┃<span style=\"font-weight: bold\">   Categories   </span>┃<span style=\"font-weight: bold\"> scvi-tools Encoding </span>┃\n",
       "┡━━━━━━━━━━━━━━━━━━━━━━╇━━━━━━━━━━━━━━━━╇━━━━━━━━━━━━━━━━━━━━━┩\n",
       "│<span style=\"color: #0087ff; text-decoration-color: #0087ff\"> adata.obs['dataset'] </span>│<span style=\"color: #008000; text-decoration-color: #008000\">      mBAT      </span>│<span style=\"color: #af00d7; text-decoration-color: #af00d7\">          0          </span>│\n",
       "│<span style=\"color: #0087ff; text-decoration-color: #0087ff\">                      </span>│<span style=\"color: #008000; text-decoration-color: #008000\"> nuclear_ingWAT </span>│<span style=\"color: #af00d7; text-decoration-color: #af00d7\">          1          </span>│\n",
       "└──────────────────────┴────────────────┴─────────────────────┘\n",
       "</pre>\n"
      ],
      "text/plain": [
       "\u001b[3m                     batch State Registry                      \u001b[0m\n",
       "┏━━━━━━━━━━━━━━━━━━━━━━┳━━━━━━━━━━━━━━━━┳━━━━━━━━━━━━━━━━━━━━━┓\n",
       "┃\u001b[1m \u001b[0m\u001b[1m  Source Location   \u001b[0m\u001b[1m \u001b[0m┃\u001b[1m \u001b[0m\u001b[1m  Categories  \u001b[0m\u001b[1m \u001b[0m┃\u001b[1m \u001b[0m\u001b[1mscvi-tools Encoding\u001b[0m\u001b[1m \u001b[0m┃\n",
       "┡━━━━━━━━━━━━━━━━━━━━━━╇━━━━━━━━━━━━━━━━╇━━━━━━━━━━━━━━━━━━━━━┩\n",
       "│\u001b[38;5;33m \u001b[0m\u001b[38;5;33madata.obs['dataset']\u001b[0m\u001b[38;5;33m \u001b[0m│\u001b[32m \u001b[0m\u001b[32m     mBAT     \u001b[0m\u001b[32m \u001b[0m│\u001b[38;5;128m \u001b[0m\u001b[38;5;128m         0         \u001b[0m\u001b[38;5;128m \u001b[0m│\n",
       "│\u001b[38;5;33m \u001b[0m\u001b[38;5;33m                    \u001b[0m\u001b[38;5;33m \u001b[0m│\u001b[32m \u001b[0m\u001b[32mnuclear_ingWAT\u001b[0m\u001b[32m \u001b[0m│\u001b[38;5;128m \u001b[0m\u001b[38;5;128m         1         \u001b[0m\u001b[38;5;128m \u001b[0m│\n",
       "└──────────────────────┴────────────────┴─────────────────────┘\n"
      ]
     },
     "metadata": {},
     "output_type": "display_data"
    },
    {
     "data": {
      "text/html": [
       "<pre style=\"white-space:pre;overflow-x:auto;line-height:normal;font-family:Menlo,'DejaVu Sans Mono',consolas,'Courier New',monospace\"><span style=\"font-style: italic\">                               labels State Registry                                </span>\n",
       "┏━━━━━━━━━━━━━━━━━━━━━━━━━━━━━━┳━━━━━━━━━━━━━━━━━━━━━━━━━━━━━┳━━━━━━━━━━━━━━━━━━━━━┓\n",
       "┃<span style=\"font-weight: bold\">       Source Location        </span>┃<span style=\"font-weight: bold\">         Categories          </span>┃<span style=\"font-weight: bold\"> scvi-tools Encoding </span>┃\n",
       "┡━━━━━━━━━━━━━━━━━━━━━━━━━━━━━━╇━━━━━━━━━━━━━━━━━━━━━━━━━━━━━╇━━━━━━━━━━━━━━━━━━━━━┩\n",
       "│<span style=\"color: #0087ff; text-decoration-color: #0087ff\"> adata.obs['cell_type_final'] </span>│<span style=\"color: #008000; text-decoration-color: #008000\">    Adipocyte_progenitors    </span>│<span style=\"color: #af00d7; text-decoration-color: #af00d7\">          0          </span>│\n",
       "│<span style=\"color: #0087ff; text-decoration-color: #0087ff\">                              </span>│<span style=\"color: #008000; text-decoration-color: #008000\">         Adipocytes          </span>│<span style=\"color: #af00d7; text-decoration-color: #af00d7\">          1          </span>│\n",
       "│<span style=\"color: #0087ff; text-decoration-color: #0087ff\">                              </span>│<span style=\"color: #008000; text-decoration-color: #008000\">           B_cells           </span>│<span style=\"color: #af00d7; text-decoration-color: #af00d7\">          2          </span>│\n",
       "│<span style=\"color: #0087ff; text-decoration-color: #0087ff\">                              </span>│<span style=\"color: #008000; text-decoration-color: #008000\">      Brown_adipocytes       </span>│<span style=\"color: #af00d7; text-decoration-color: #af00d7\">          3          </span>│\n",
       "│<span style=\"color: #0087ff; text-decoration-color: #0087ff\">                              </span>│<span style=\"color: #008000; text-decoration-color: #008000\">      Endothelial_cells      </span>│<span style=\"color: #af00d7; text-decoration-color: #af00d7\">          4          </span>│\n",
       "│<span style=\"color: #0087ff; text-decoration-color: #0087ff\">                              </span>│<span style=\"color: #008000; text-decoration-color: #008000\">         Eosinophils         </span>│<span style=\"color: #af00d7; text-decoration-color: #af00d7\">          5          </span>│\n",
       "│<span style=\"color: #0087ff; text-decoration-color: #0087ff\">                              </span>│<span style=\"color: #008000; text-decoration-color: #008000\">      Epithelial_cells       </span>│<span style=\"color: #af00d7; text-decoration-color: #af00d7\">          6          </span>│\n",
       "│<span style=\"color: #0087ff; text-decoration-color: #0087ff\">                              </span>│<span style=\"color: #008000; text-decoration-color: #008000\"> Lymphatic_endothelial_cells </span>│<span style=\"color: #af00d7; text-decoration-color: #af00d7\">          7          </span>│\n",
       "│<span style=\"color: #0087ff; text-decoration-color: #0087ff\">                              </span>│<span style=\"color: #008000; text-decoration-color: #008000\">         Macrophages         </span>│<span style=\"color: #af00d7; text-decoration-color: #af00d7\">          8          </span>│\n",
       "│<span style=\"color: #0087ff; text-decoration-color: #0087ff\">                              </span>│<span style=\"color: #008000; text-decoration-color: #008000\">         Mast_cells          </span>│<span style=\"color: #af00d7; text-decoration-color: #af00d7\">          9          </span>│\n",
       "│<span style=\"color: #0087ff; text-decoration-color: #0087ff\">                              </span>│<span style=\"color: #008000; text-decoration-color: #008000\">         Mesothelium         </span>│<span style=\"color: #af00d7; text-decoration-color: #af00d7\">         10          </span>│\n",
       "│<span style=\"color: #0087ff; text-decoration-color: #0087ff\">                              </span>│<span style=\"color: #008000; text-decoration-color: #008000\">          NK_cells           </span>│<span style=\"color: #af00d7; text-decoration-color: #af00d7\">         11          </span>│\n",
       "│<span style=\"color: #0087ff; text-decoration-color: #0087ff\">                              </span>│<span style=\"color: #008000; text-decoration-color: #008000\">         Neutrophils         </span>│<span style=\"color: #af00d7; text-decoration-color: #af00d7\">         12          </span>│\n",
       "│<span style=\"color: #0087ff; text-decoration-color: #0087ff\">                              </span>│<span style=\"color: #008000; text-decoration-color: #008000\">          Pericytes          </span>│<span style=\"color: #af00d7; text-decoration-color: #af00d7\">         13          </span>│\n",
       "│<span style=\"color: #0087ff; text-decoration-color: #0087ff\">                              </span>│<span style=\"color: #008000; text-decoration-color: #008000\">        Schwan_cells         </span>│<span style=\"color: #af00d7; text-decoration-color: #af00d7\">         14          </span>│\n",
       "│<span style=\"color: #0087ff; text-decoration-color: #0087ff\">                              </span>│<span style=\"color: #008000; text-decoration-color: #008000\">       Skeletal_muscle       </span>│<span style=\"color: #af00d7; text-decoration-color: #af00d7\">         15          </span>│\n",
       "│<span style=\"color: #0087ff; text-decoration-color: #0087ff\">                              </span>│<span style=\"color: #008000; text-decoration-color: #008000\">           T_cells           </span>│<span style=\"color: #af00d7; text-decoration-color: #af00d7\">         16          </span>│\n",
       "│<span style=\"color: #0087ff; text-decoration-color: #0087ff\">                              </span>│<span style=\"color: #008000; text-decoration-color: #008000\">            Tregs            </span>│<span style=\"color: #af00d7; text-decoration-color: #af00d7\">         17          </span>│\n",
       "│<span style=\"color: #0087ff; text-decoration-color: #0087ff\">                              </span>│<span style=\"color: #008000; text-decoration-color: #008000\">   Vascular_smooth_muscle    </span>│<span style=\"color: #af00d7; text-decoration-color: #af00d7\">         18          </span>│\n",
       "│<span style=\"color: #0087ff; text-decoration-color: #0087ff\">                              </span>│<span style=\"color: #008000; text-decoration-color: #008000\">      white adipocytes       </span>│<span style=\"color: #af00d7; text-decoration-color: #af00d7\">         19          </span>│\n",
       "└──────────────────────────────┴─────────────────────────────┴─────────────────────┘\n",
       "</pre>\n"
      ],
      "text/plain": [
       "\u001b[3m                               labels State Registry                                \u001b[0m\n",
       "┏━━━━━━━━━━━━━━━━━━━━━━━━━━━━━━┳━━━━━━━━━━━━━━━━━━━━━━━━━━━━━┳━━━━━━━━━━━━━━━━━━━━━┓\n",
       "┃\u001b[1m \u001b[0m\u001b[1m      Source Location       \u001b[0m\u001b[1m \u001b[0m┃\u001b[1m \u001b[0m\u001b[1m        Categories         \u001b[0m\u001b[1m \u001b[0m┃\u001b[1m \u001b[0m\u001b[1mscvi-tools Encoding\u001b[0m\u001b[1m \u001b[0m┃\n",
       "┡━━━━━━━━━━━━━━━━━━━━━━━━━━━━━━╇━━━━━━━━━━━━━━━━━━━━━━━━━━━━━╇━━━━━━━━━━━━━━━━━━━━━┩\n",
       "│\u001b[38;5;33m \u001b[0m\u001b[38;5;33madata.obs['cell_type_final']\u001b[0m\u001b[38;5;33m \u001b[0m│\u001b[32m \u001b[0m\u001b[32m   Adipocyte_progenitors   \u001b[0m\u001b[32m \u001b[0m│\u001b[38;5;128m \u001b[0m\u001b[38;5;128m         0         \u001b[0m\u001b[38;5;128m \u001b[0m│\n",
       "│\u001b[38;5;33m \u001b[0m\u001b[38;5;33m                            \u001b[0m\u001b[38;5;33m \u001b[0m│\u001b[32m \u001b[0m\u001b[32m        Adipocytes         \u001b[0m\u001b[32m \u001b[0m│\u001b[38;5;128m \u001b[0m\u001b[38;5;128m         1         \u001b[0m\u001b[38;5;128m \u001b[0m│\n",
       "│\u001b[38;5;33m \u001b[0m\u001b[38;5;33m                            \u001b[0m\u001b[38;5;33m \u001b[0m│\u001b[32m \u001b[0m\u001b[32m          B_cells          \u001b[0m\u001b[32m \u001b[0m│\u001b[38;5;128m \u001b[0m\u001b[38;5;128m         2         \u001b[0m\u001b[38;5;128m \u001b[0m│\n",
       "│\u001b[38;5;33m \u001b[0m\u001b[38;5;33m                            \u001b[0m\u001b[38;5;33m \u001b[0m│\u001b[32m \u001b[0m\u001b[32m     Brown_adipocytes      \u001b[0m\u001b[32m \u001b[0m│\u001b[38;5;128m \u001b[0m\u001b[38;5;128m         3         \u001b[0m\u001b[38;5;128m \u001b[0m│\n",
       "│\u001b[38;5;33m \u001b[0m\u001b[38;5;33m                            \u001b[0m\u001b[38;5;33m \u001b[0m│\u001b[32m \u001b[0m\u001b[32m     Endothelial_cells     \u001b[0m\u001b[32m \u001b[0m│\u001b[38;5;128m \u001b[0m\u001b[38;5;128m         4         \u001b[0m\u001b[38;5;128m \u001b[0m│\n",
       "│\u001b[38;5;33m \u001b[0m\u001b[38;5;33m                            \u001b[0m\u001b[38;5;33m \u001b[0m│\u001b[32m \u001b[0m\u001b[32m        Eosinophils        \u001b[0m\u001b[32m \u001b[0m│\u001b[38;5;128m \u001b[0m\u001b[38;5;128m         5         \u001b[0m\u001b[38;5;128m \u001b[0m│\n",
       "│\u001b[38;5;33m \u001b[0m\u001b[38;5;33m                            \u001b[0m\u001b[38;5;33m \u001b[0m│\u001b[32m \u001b[0m\u001b[32m     Epithelial_cells      \u001b[0m\u001b[32m \u001b[0m│\u001b[38;5;128m \u001b[0m\u001b[38;5;128m         6         \u001b[0m\u001b[38;5;128m \u001b[0m│\n",
       "│\u001b[38;5;33m \u001b[0m\u001b[38;5;33m                            \u001b[0m\u001b[38;5;33m \u001b[0m│\u001b[32m \u001b[0m\u001b[32mLymphatic_endothelial_cells\u001b[0m\u001b[32m \u001b[0m│\u001b[38;5;128m \u001b[0m\u001b[38;5;128m         7         \u001b[0m\u001b[38;5;128m \u001b[0m│\n",
       "│\u001b[38;5;33m \u001b[0m\u001b[38;5;33m                            \u001b[0m\u001b[38;5;33m \u001b[0m│\u001b[32m \u001b[0m\u001b[32m        Macrophages        \u001b[0m\u001b[32m \u001b[0m│\u001b[38;5;128m \u001b[0m\u001b[38;5;128m         8         \u001b[0m\u001b[38;5;128m \u001b[0m│\n",
       "│\u001b[38;5;33m \u001b[0m\u001b[38;5;33m                            \u001b[0m\u001b[38;5;33m \u001b[0m│\u001b[32m \u001b[0m\u001b[32m        Mast_cells         \u001b[0m\u001b[32m \u001b[0m│\u001b[38;5;128m \u001b[0m\u001b[38;5;128m         9         \u001b[0m\u001b[38;5;128m \u001b[0m│\n",
       "│\u001b[38;5;33m \u001b[0m\u001b[38;5;33m                            \u001b[0m\u001b[38;5;33m \u001b[0m│\u001b[32m \u001b[0m\u001b[32m        Mesothelium        \u001b[0m\u001b[32m \u001b[0m│\u001b[38;5;128m \u001b[0m\u001b[38;5;128m        10         \u001b[0m\u001b[38;5;128m \u001b[0m│\n",
       "│\u001b[38;5;33m \u001b[0m\u001b[38;5;33m                            \u001b[0m\u001b[38;5;33m \u001b[0m│\u001b[32m \u001b[0m\u001b[32m         NK_cells          \u001b[0m\u001b[32m \u001b[0m│\u001b[38;5;128m \u001b[0m\u001b[38;5;128m        11         \u001b[0m\u001b[38;5;128m \u001b[0m│\n",
       "│\u001b[38;5;33m \u001b[0m\u001b[38;5;33m                            \u001b[0m\u001b[38;5;33m \u001b[0m│\u001b[32m \u001b[0m\u001b[32m        Neutrophils        \u001b[0m\u001b[32m \u001b[0m│\u001b[38;5;128m \u001b[0m\u001b[38;5;128m        12         \u001b[0m\u001b[38;5;128m \u001b[0m│\n",
       "│\u001b[38;5;33m \u001b[0m\u001b[38;5;33m                            \u001b[0m\u001b[38;5;33m \u001b[0m│\u001b[32m \u001b[0m\u001b[32m         Pericytes         \u001b[0m\u001b[32m \u001b[0m│\u001b[38;5;128m \u001b[0m\u001b[38;5;128m        13         \u001b[0m\u001b[38;5;128m \u001b[0m│\n",
       "│\u001b[38;5;33m \u001b[0m\u001b[38;5;33m                            \u001b[0m\u001b[38;5;33m \u001b[0m│\u001b[32m \u001b[0m\u001b[32m       Schwan_cells        \u001b[0m\u001b[32m \u001b[0m│\u001b[38;5;128m \u001b[0m\u001b[38;5;128m        14         \u001b[0m\u001b[38;5;128m \u001b[0m│\n",
       "│\u001b[38;5;33m \u001b[0m\u001b[38;5;33m                            \u001b[0m\u001b[38;5;33m \u001b[0m│\u001b[32m \u001b[0m\u001b[32m      Skeletal_muscle      \u001b[0m\u001b[32m \u001b[0m│\u001b[38;5;128m \u001b[0m\u001b[38;5;128m        15         \u001b[0m\u001b[38;5;128m \u001b[0m│\n",
       "│\u001b[38;5;33m \u001b[0m\u001b[38;5;33m                            \u001b[0m\u001b[38;5;33m \u001b[0m│\u001b[32m \u001b[0m\u001b[32m          T_cells          \u001b[0m\u001b[32m \u001b[0m│\u001b[38;5;128m \u001b[0m\u001b[38;5;128m        16         \u001b[0m\u001b[38;5;128m \u001b[0m│\n",
       "│\u001b[38;5;33m \u001b[0m\u001b[38;5;33m                            \u001b[0m\u001b[38;5;33m \u001b[0m│\u001b[32m \u001b[0m\u001b[32m           Tregs           \u001b[0m\u001b[32m \u001b[0m│\u001b[38;5;128m \u001b[0m\u001b[38;5;128m        17         \u001b[0m\u001b[38;5;128m \u001b[0m│\n",
       "│\u001b[38;5;33m \u001b[0m\u001b[38;5;33m                            \u001b[0m\u001b[38;5;33m \u001b[0m│\u001b[32m \u001b[0m\u001b[32m  Vascular_smooth_muscle   \u001b[0m\u001b[32m \u001b[0m│\u001b[38;5;128m \u001b[0m\u001b[38;5;128m        18         \u001b[0m\u001b[38;5;128m \u001b[0m│\n",
       "│\u001b[38;5;33m \u001b[0m\u001b[38;5;33m                            \u001b[0m\u001b[38;5;33m \u001b[0m│\u001b[32m \u001b[0m\u001b[32m     white adipocytes      \u001b[0m\u001b[32m \u001b[0m│\u001b[38;5;128m \u001b[0m\u001b[38;5;128m        19         \u001b[0m\u001b[38;5;128m \u001b[0m│\n",
       "└──────────────────────────────┴─────────────────────────────┴─────────────────────┘\n"
      ]
     },
     "metadata": {},
     "output_type": "display_data"
    }
   ],
   "source": [
    "# create the regression model\n",
    "from cell2location.models import RegressionModel\n",
    "mod = RegressionModel(combined_refs)\n",
    "\n",
    "# view anndata_setup as a sanity check\n",
    "mod.view_anndata_setup()"
   ]
  },
  {
   "cell_type": "code",
   "execution_count": 17,
   "id": "9adf0e12",
   "metadata": {
    "execution": {
     "iopub.execute_input": "2023-04-17T05:41:44.337373Z",
     "iopub.status.busy": "2023-04-17T05:41:44.337130Z",
     "iopub.status.idle": "2023-04-17T15:27:45.641157Z",
     "shell.execute_reply": "2023-04-17T15:27:45.640307Z"
    }
   },
   "outputs": [
    {
     "name": "stderr",
     "output_type": "stream",
     "text": [
      "GPU available: False, used: False\n",
      "TPU available: False, using: 0 TPU cores\n",
      "IPU available: False, using: 0 IPUs\n",
      "HPU available: False, using: 0 HPUs\n"
     ]
    },
    {
     "name": "stdout",
     "output_type": "stream",
     "text": [
      "Epoch 250/250: 100%|██████████| 250/250 [9:46:01<00:00, 140.44s/it, v_num=1, elbo_train=1.44e+9]"
     ]
    },
    {
     "name": "stderr",
     "output_type": "stream",
     "text": [
      "`Trainer.fit` stopped: `max_epochs=250` reached.\n"
     ]
    },
    {
     "name": "stdout",
     "output_type": "stream",
     "text": [
      "Epoch 250/250: 100%|██████████| 250/250 [9:46:01<00:00, 140.64s/it, v_num=1, elbo_train=1.44e+9]\n"
     ]
    }
   ],
   "source": [
    "## train model\n",
    "mod.train(max_epochs=250, use_gpu=False)"
   ]
  },
  {
   "cell_type": "code",
   "execution_count": 18,
   "id": "294b2346",
   "metadata": {
    "execution": {
     "iopub.execute_input": "2023-04-17T15:27:45.645590Z",
     "iopub.status.busy": "2023-04-17T15:27:45.645393Z",
     "iopub.status.idle": "2023-04-17T15:27:45.814196Z",
     "shell.execute_reply": "2023-04-17T15:27:45.813299Z"
    }
   },
   "outputs": [
    {
     "data": {
      "image/png": "[encoded data removed]",
      "text/plain": [
       "<Figure size 640x480 with 1 Axes>"
      ]
     },
     "metadata": {},
     "output_type": "display_data"
    }
   ],
   "source": [
    "mod.plot_history(20)"
   ]
  },
  {
   "cell_type": "code",
   "execution_count": 19,
   "id": "5db3bf07",
   "metadata": {
    "execution": {
     "iopub.execute_input": "2023-04-17T15:27:45.818225Z",
     "iopub.status.busy": "2023-04-17T15:27:45.817983Z",
     "iopub.status.idle": "2023-04-17T15:30:01.450543Z",
     "shell.execute_reply": "2023-04-17T15:30:01.449550Z"
    }
   },
   "outputs": [
    {
     "name": "stdout",
     "output_type": "stream",
     "text": [
      "Sampling local variables, batch:   0%|          | 0/117 [00:00<?, ?it/s]\n",
      "Sampling global variables, sample: 100%|██████████| 999/999 [01:30<00:00, 10.99it/s]\n"
     ]
    },
    {
     "data": {
      "text/plain": [
       "'/home/ssobti/projects/farnaz_spatial/output_data/cell2location/multi_ref_annot/reference_signatures/sc.h5ad'"
      ]
     },
     "execution_count": 19,
     "metadata": {},
     "output_type": "execute_result"
    }
   ],
   "source": [
    "# In this section, we export the estimated cell abundance (summary of the posterior distribution).\n",
    "combined_refs = mod.export_posterior(\n",
    "    combined_refs, sample_kwargs={'num_samples': 1000, 'batch_size': 2500, 'use_gpu': False}\n",
    ")\n",
    "\n",
    "# Save model\n",
    "mod.save(f\"{ref_run_name}\", overwrite=True)\n",
    "\n",
    "# Save anndata object with results\n",
    "adata_file = f\"{ref_run_name}/sc.h5ad\"\n",
    "combined_refs.write(adata_file)\n",
    "adata_file"
   ]
  },
  {
   "cell_type": "code",
   "execution_count": 20,
   "id": "355308a1",
   "metadata": {
    "execution": {
     "iopub.execute_input": "2023-04-17T15:30:01.459187Z",
     "iopub.status.busy": "2023-04-17T15:30:01.458590Z",
     "iopub.status.idle": "2023-04-17T15:40:38.209178Z",
     "shell.execute_reply": "2023-04-17T15:40:38.208132Z"
    }
   },
   "outputs": [],
   "source": [
    "combined_refs = mod.export_posterior(\n",
    "    combined_refs, use_quantiles=True,\n",
    "    # choose quantiles\n",
    "    add_to_varm=[\"q05\",\"q50\", \"q95\", \"q0001\"],\n",
    "    sample_kwargs={'batch_size': 2500, 'use_gpu': False}\n",
    ")"
   ]
  },
  {
   "cell_type": "code",
   "execution_count": 21,
   "id": "a0a710bd",
   "metadata": {
    "execution": {
     "iopub.execute_input": "2023-04-17T15:40:38.215661Z",
     "iopub.status.busy": "2023-04-17T15:40:38.215422Z",
     "iopub.status.idle": "2023-04-17T15:40:38.451560Z",
     "shell.execute_reply": "2023-04-17T15:40:38.450681Z"
    }
   },
   "outputs": [
    {
     "ename": "KeyError",
     "evalue": "'post_sample_means'",
     "output_type": "error",
     "traceback": [
      "\u001b[0;31m---------------------------------------------------------------------------\u001b[0m",
      "\u001b[0;31mKeyError\u001b[0m                                  Traceback (most recent call last)",
      "Cell \u001b[0;32mIn[21], line 1\u001b[0m\n\u001b[0;32m----> 1\u001b[0m \u001b[43mmod\u001b[49m\u001b[38;5;241;43m.\u001b[39;49m\u001b[43mplot_QC\u001b[49m\u001b[43m(\u001b[49m\u001b[43m)\u001b[49m\n",
      "File \u001b[0;32m~/miniconda3/envs/cell2loc_env/lib/python3.10/site-packages/cell2location/models/reference/_reference_model.py:294\u001b[0m, in \u001b[0;36mRegressionModel.plot_QC\u001b[0;34m(self, summary_name, use_n_obs, scale_average_detection)\u001b[0m\n\u001b[1;32m    265\u001b[0m \u001b[38;5;28;01mdef\u001b[39;00m \u001b[38;5;21mplot_QC\u001b[39m(\n\u001b[1;32m    266\u001b[0m     \u001b[38;5;28mself\u001b[39m,\n\u001b[1;32m    267\u001b[0m     summary_name: \u001b[38;5;28mstr\u001b[39m \u001b[38;5;241m=\u001b[39m \u001b[38;5;124m\"\u001b[39m\u001b[38;5;124mmeans\u001b[39m\u001b[38;5;124m\"\u001b[39m,\n\u001b[1;32m    268\u001b[0m     use_n_obs: \u001b[38;5;28mint\u001b[39m \u001b[38;5;241m=\u001b[39m \u001b[38;5;241m1000\u001b[39m,\n\u001b[1;32m    269\u001b[0m     scale_average_detection: \u001b[38;5;28mbool\u001b[39m \u001b[38;5;241m=\u001b[39m \u001b[38;5;28;01mTrue\u001b[39;00m,\n\u001b[1;32m    270\u001b[0m ):\n\u001b[1;32m    271\u001b[0m \u001b[38;5;250m    \u001b[39m\u001b[38;5;124;03m\"\"\"\u001b[39;00m\n\u001b[1;32m    272\u001b[0m \u001b[38;5;124;03m    Show quality control plots:\u001b[39;00m\n\u001b[1;32m    273\u001b[0m \u001b[38;5;124;03m    1. Reconstruction accuracy to assess if there are any issues with model training.\u001b[39;00m\n\u001b[0;32m   (...)\u001b[0m\n\u001b[1;32m    291\u001b[0m \n\u001b[1;32m    292\u001b[0m \u001b[38;5;124;03m    \"\"\"\u001b[39;00m\n\u001b[0;32m--> 294\u001b[0m     \u001b[38;5;28;43msuper\u001b[39;49m\u001b[43m(\u001b[49m\u001b[43m)\u001b[49m\u001b[38;5;241;43m.\u001b[39;49m\u001b[43mplot_QC\u001b[49m\u001b[43m(\u001b[49m\u001b[43msummary_name\u001b[49m\u001b[38;5;241;43m=\u001b[39;49m\u001b[43msummary_name\u001b[49m\u001b[43m,\u001b[49m\u001b[43m \u001b[49m\u001b[43muse_n_obs\u001b[49m\u001b[38;5;241;43m=\u001b[39;49m\u001b[43muse_n_obs\u001b[49m\u001b[43m)\u001b[49m\n\u001b[1;32m    295\u001b[0m     plt\u001b[38;5;241m.\u001b[39mshow()\n\u001b[1;32m    297\u001b[0m     inf_aver \u001b[38;5;241m=\u001b[39m \u001b[38;5;28mself\u001b[39m\u001b[38;5;241m.\u001b[39msamples[\u001b[38;5;124mf\u001b[39m\u001b[38;5;124m\"\u001b[39m\u001b[38;5;124mpost_sample_\u001b[39m\u001b[38;5;132;01m{\u001b[39;00msummary_name\u001b[38;5;132;01m}\u001b[39;00m\u001b[38;5;124m\"\u001b[39m][\u001b[38;5;124m\"\u001b[39m\u001b[38;5;124mper_cluster_mu_fg\u001b[39m\u001b[38;5;124m\"\u001b[39m]\u001b[38;5;241m.\u001b[39mT\n",
      "File \u001b[0;32m~/miniconda3/envs/cell2loc_env/lib/python3.10/site-packages/cell2location/models/base/_pyro_mixin.py:575\u001b[0m, in \u001b[0;36mPltExportMixin.plot_QC\u001b[0;34m(self, summary_name, use_n_obs)\u001b[0m\n\u001b[1;32m    571\u001b[0m \u001b[38;5;28;01melse\u001b[39;00m:\n\u001b[1;32m    572\u001b[0m     ind_x \u001b[38;5;241m=\u001b[39m \u001b[38;5;28;01mNone\u001b[39;00m\n\u001b[1;32m    574\u001b[0m \u001b[38;5;28mself\u001b[39m\u001b[38;5;241m.\u001b[39mexpected_nb_param \u001b[38;5;241m=\u001b[39m \u001b[38;5;28mself\u001b[39m\u001b[38;5;241m.\u001b[39mmodule\u001b[38;5;241m.\u001b[39mmodel\u001b[38;5;241m.\u001b[39mcompute_expected(\n\u001b[0;32m--> 575\u001b[0m     \u001b[38;5;28;43mself\u001b[39;49m\u001b[38;5;241;43m.\u001b[39;49m\u001b[43msamples\u001b[49m\u001b[43m[\u001b[49m\u001b[38;5;124;43mf\u001b[39;49m\u001b[38;5;124;43m\"\u001b[39;49m\u001b[38;5;124;43mpost_sample_\u001b[39;49m\u001b[38;5;132;43;01m{\u001b[39;49;00m\u001b[43msummary_name\u001b[49m\u001b[38;5;132;43;01m}\u001b[39;49;00m\u001b[38;5;124;43m\"\u001b[39;49m\u001b[43m]\u001b[49m, \u001b[38;5;28mself\u001b[39m\u001b[38;5;241m.\u001b[39madata_manager, ind_x\u001b[38;5;241m=\u001b[39mind_x\n\u001b[1;32m    576\u001b[0m )\n\u001b[1;32m    577\u001b[0m x_data \u001b[38;5;241m=\u001b[39m \u001b[38;5;28mself\u001b[39m\u001b[38;5;241m.\u001b[39madata_manager\u001b[38;5;241m.\u001b[39mget_from_registry(REGISTRY_KEYS\u001b[38;5;241m.\u001b[39mX_KEY)[ind_x, :]\n\u001b[1;32m    578\u001b[0m \u001b[38;5;28;01mif\u001b[39;00m issparse(x_data):\n",
      "\u001b[0;31mKeyError\u001b[0m: 'post_sample_means'"
     ]
    }
   ],
   "source": [
    "mod.plot_QC()"
   ]
  },
  {
   "cell_type": "raw",
   "id": "43999e3b",
   "metadata": {},
   "source": [
    "## loading model\n",
    "adata_file = f\"{ref_run_name}/sc.h5ad\"\n",
    "combined_refs = sc.read_h5ad(adata_file)\n",
    "mod = cell2location.models.RegressionModel.load(f\"{ref_run_name}\", combined_refs)"
   ]
  },
  {
   "cell_type": "code",
   "execution_count": null,
   "id": "698a0d75",
   "metadata": {},
   "outputs": [],
   "source": []
  }
 ],
 "metadata": {
  "kernelspec": {
   "display_name": "cell2loc_env",
   "language": "python",
   "name": "cell2loc_env"
  },
  "language_info": {
   "codemirror_mode": {
    "name": "ipython",
    "version": 3
   },
   "file_extension": ".py",
   "mimetype": "text/x-python",
   "name": "python",
   "nbconvert_exporter": "python",
   "pygments_lexer": "ipython3",
   "version": "3.10.9"
  }
 },
 "nbformat": 4,
 "nbformat_minor": 5
}
