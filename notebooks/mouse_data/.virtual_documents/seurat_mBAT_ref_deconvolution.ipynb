## Notebook env: farnaz_spatial (R kernel)
## this notebook uses Seurat to deconvolute spots in visium data using the mBAT reference scRNAseq data


library(dplyr)
library(patchwork)
library(Seurat)
library(Cairo)
library(pbapply)


mBAT <- readRDS("/home/ssobti/projects/farnaz_spatial/data/seurat_mBAT.rds")
mBAT@meta.data %>% head()


mBAT@assays$RNA@counts -> raw_ref


ref <- CreateSeuratObject(counts = raw_ref, meta.data = mBAT@meta.data)


ref <- SCTransform(ref)


options(repr.plot.width=10)
DimPlot(mBAT)


A1 <- Load10X_Spatial(
  "/home/ssobti/projects/farnaz_spatial/data/count-A1/outs",
  filename = "filtered_feature_bc_matrix.h5",
  assay = "Spatial",
  slice = "A1_slice",
  filter.matrix = TRUE,
  to.upper = FALSE,
  image = NULL,
)

B1 <- Load10X_Spatial(
  "/home/ssobti/projects/farnaz_spatial/data/count-B1/outs",
  filename = "filtered_feature_bc_matrix.h5",
  assay = "Spatial",
  slice = "B1_slice",
  filter.matrix = TRUE,
  to.upper = FALSE,
  image = NULL,
)

C1 <- Load10X_Spatial(
  "/home/ssobti/projects/farnaz_spatial/data/count-C1/outs",
  filename = "filtered_feature_bc_matrix.h5",
  assay = "Spatial",
  slice = "C1_slice",
  filter.matrix = TRUE,
  to.upper = FALSE,
  image = NULL,
)

D1 <- Load10X_Spatial(
  "/home/ssobti/projects/farnaz_spatial/data/count-D1/outs",
  filename = "filtered_feature_bc_matrix.h5",
  assay = "Spatial",
  slice = "D1_slice",
  filter.matrix = TRUE,
  to.upper = FALSE,
  image = NULL,
)


slices_seurat = list(A1, B1, C1, D1)
names(slices_seurat) = c('A1', 'B1', 'C1', 'D1')


slices_seurat = lapply(slices_seurat, PercentageFeatureSet, "^mt_", col.name = "percent_mito")
slices_seurat = lapply(slices_seurat, PercentageFeatureSet, "^Hb.*-", col.name = "percent_hb")


slices_seurat = pblapply(slices_seurat, SCTransform, assay = "Spatial", verbose = FALSE)


slices_seurat = pblapply(slices_seurat, RunPCA, assay = "SCT", verbose = FALSE)
slices_seurat = pblapply(slices_seurat, FindNeighbors, reduction = "pca", dims = 1:30, verbose = FALSE)
slices_seurat = pblapply(slices_seurat, FindClusters, verbose = FALSE)
slices_seurat = pblapply(slices_seurat, RunUMAP, reduction = "pca", dims = 1:30, verbose = FALSE)


for (i in 1:4){
    anchors <- FindTransferAnchors(reference = ref, query = slices_seurat[[i]], normalization.method = "SCT")
    predictions.assay <- TransferData(anchorset = anchors, refdata = mBAT$cluster_id, prediction.assay = TRUE,
    weight.reduction = slices_seurat[[i]][["pca"]], dims = 1:30)
    
    slices_seurat[[i]][["predictions"]] <- predictions.assay
    print(i)
}


cell_decompostion_scores = lapply(slices_seurat, GetAssayData, assay = 'predictions',slot = 'data')
names(cell_decompostion_scores) = names(slices_seurat)


saveRDS(object = cell_decompostion_scores, file = '/home/ssobti/projects/farnaz_spatial/output_data/seurat_mBAT_ref_decomposition_scores.rds')






