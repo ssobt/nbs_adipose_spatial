{
 "cells": [
  {
   "cell_type": "code",
   "execution_count": 1,
   "id": "9bfe9cd8",
   "metadata": {
    "execution": {
     "iopub.execute_input": "2023-03-13T08:16:19.688093Z",
     "iopub.status.busy": "2023-03-13T08:16:19.687601Z",
     "iopub.status.idle": "2023-03-13T08:16:19.693318Z",
     "shell.execute_reply": "2023-03-13T08:16:19.692491Z"
    }
   },
   "outputs": [],
   "source": [
    "## Notebook env: cell2loc_env (cell2loc_env kernel)\n",
    "## this notebook performs cell2location to *spatially* deconvolute cells using a reference annotated scRNAseq dataset"
   ]
  },
  {
   "cell_type": "code",
   "execution_count": 2,
   "id": "4c304106",
   "metadata": {
    "execution": {
     "iopub.execute_input": "2023-03-13T08:16:19.696751Z",
     "iopub.status.busy": "2023-03-13T08:16:19.696367Z",
     "iopub.status.idle": "2023-03-13T08:16:27.015298Z",
     "shell.execute_reply": "2023-03-13T08:16:27.013820Z"
    }
   },
   "outputs": [
    {
     "name": "stderr",
     "output_type": "stream",
     "text": [
      "Global seed set to 0\n"
     ]
    }
   ],
   "source": [
    "import sys\n",
    "import scanpy as sc\n",
    "import anndata\n",
    "import pandas as pd\n",
    "import numpy as np\n",
    "import os\n",
    "\n",
    "data_type = 'float32'\n",
    "\n",
    "import cell2location\n",
    "\n",
    "import matplotlib as mpl\n",
    "from matplotlib import rcParams\n",
    "import matplotlib.pyplot as plt\n",
    "import seaborn as sns\n",
    "\n",
    "# silence scanpy that prints a lot of warnings\n",
    "import warnings\n",
    "warnings.filterwarnings('ignore')\n",
    "rcParams['pdf.fonttype'] = 42 # enables correct plotting of text for PDFs"
   ]
  },
  {
   "cell_type": "code",
   "execution_count": 3,
   "id": "a75ebd5c",
   "metadata": {
    "execution": {
     "iopub.execute_input": "2023-03-13T08:16:27.020353Z",
     "iopub.status.busy": "2023-03-13T08:16:27.020038Z",
     "iopub.status.idle": "2023-03-13T08:16:27.025531Z",
     "shell.execute_reply": "2023-03-13T08:16:27.024475Z"
    }
   },
   "outputs": [],
   "source": [
    "results_folder = '/home/ssobti/projects/farnaz_spatial/output_data/cell2location/pt1'\n",
    "\n",
    "# create paths and names to results folders for reference regression and cell2location models\n",
    "ref_run_name = f'{results_folder}/reference_signatures'\n",
    "#run_name = f'{results_folder}/cell2location_map'"
   ]
  },
  {
   "cell_type": "code",
   "execution_count": 4,
   "id": "351d90c9",
   "metadata": {
    "execution": {
     "iopub.execute_input": "2023-03-13T08:16:27.028948Z",
     "iopub.status.busy": "2023-03-13T08:16:27.028672Z",
     "iopub.status.idle": "2023-03-13T08:17:10.473270Z",
     "shell.execute_reply": "2023-03-13T08:17:10.471322Z"
    }
   },
   "outputs": [],
   "source": [
    "adata_ref = anndata.read_h5ad('/home/ssobti/projects/farnaz_spatial/data/new_ref/raw_ref.h5ad')"
   ]
  },
  {
   "cell_type": "code",
   "execution_count": 5,
   "id": "9c1b225e",
   "metadata": {
    "execution": {
     "iopub.execute_input": "2023-03-13T08:17:10.479615Z",
     "iopub.status.busy": "2023-03-13T08:17:10.479320Z",
     "iopub.status.idle": "2023-03-13T08:17:10.818490Z",
     "shell.execute_reply": "2023-03-13T08:17:10.817562Z"
    }
   },
   "outputs": [
    {
     "data": {
      "text/html": [
       "<div>\n",
       "<style scoped>\n",
       "    .dataframe tbody tr th:only-of-type {\n",
       "        vertical-align: middle;\n",
       "    }\n",
       "\n",
       "    .dataframe tbody tr th {\n",
       "        vertical-align: top;\n",
       "    }\n",
       "\n",
       "    .dataframe thead th {\n",
       "        text-align: right;\n",
       "    }\n",
       "</style>\n",
       "<table border=\"1\" class=\"dataframe\">\n",
       "  <thead>\n",
       "    <tr style=\"text-align: right;\">\n",
       "      <th></th>\n",
       "      <th>_index</th>\n",
       "      <th>features</th>\n",
       "    </tr>\n",
       "  </thead>\n",
       "  <tbody>\n",
       "    <tr>\n",
       "      <th>0</th>\n",
       "      <td>0610005C13Rik</td>\n",
       "      <td>0610005C13Rik</td>\n",
       "    </tr>\n",
       "    <tr>\n",
       "      <th>1</th>\n",
       "      <td>0610006L08Rik</td>\n",
       "      <td>0610006L08Rik</td>\n",
       "    </tr>\n",
       "    <tr>\n",
       "      <th>2</th>\n",
       "      <td>0610009B22Rik</td>\n",
       "      <td>0610009B22Rik</td>\n",
       "    </tr>\n",
       "    <tr>\n",
       "      <th>3</th>\n",
       "      <td>0610009E02Rik</td>\n",
       "      <td>0610009E02Rik</td>\n",
       "    </tr>\n",
       "    <tr>\n",
       "      <th>4</th>\n",
       "      <td>0610009O20Rik</td>\n",
       "      <td>0610009O20Rik</td>\n",
       "    </tr>\n",
       "    <tr>\n",
       "      <th>...</th>\n",
       "      <td>...</td>\n",
       "      <td>...</td>\n",
       "    </tr>\n",
       "    <tr>\n",
       "      <th>28722</th>\n",
       "      <td>Gm21778</td>\n",
       "      <td>Gm21778</td>\n",
       "    </tr>\n",
       "    <tr>\n",
       "      <th>28723</th>\n",
       "      <td>Gm28772</td>\n",
       "      <td>Gm28772</td>\n",
       "    </tr>\n",
       "    <tr>\n",
       "      <th>28724</th>\n",
       "      <td>Gm28972</td>\n",
       "      <td>Gm28972</td>\n",
       "    </tr>\n",
       "    <tr>\n",
       "      <th>28725</th>\n",
       "      <td>AC242269.1</td>\n",
       "      <td>AC242269.1</td>\n",
       "    </tr>\n",
       "    <tr>\n",
       "      <th>28726</th>\n",
       "      <td>Trav13-3</td>\n",
       "      <td>Trav13-3</td>\n",
       "    </tr>\n",
       "  </tbody>\n",
       "</table>\n",
       "<p>28727 rows × 2 columns</p>\n",
       "</div>"
      ],
      "text/plain": [
       "              _index       features\n",
       "0      0610005C13Rik  0610005C13Rik\n",
       "1      0610006L08Rik  0610006L08Rik\n",
       "2      0610009B22Rik  0610009B22Rik\n",
       "3      0610009E02Rik  0610009E02Rik\n",
       "4      0610009O20Rik  0610009O20Rik\n",
       "...              ...            ...\n",
       "28722        Gm21778        Gm21778\n",
       "28723        Gm28772        Gm28772\n",
       "28724        Gm28972        Gm28972\n",
       "28725     AC242269.1     AC242269.1\n",
       "28726       Trav13-3       Trav13-3\n",
       "\n",
       "[28727 rows x 2 columns]"
      ]
     },
     "execution_count": 5,
     "metadata": {},
     "output_type": "execute_result"
    }
   ],
   "source": [
    "adata_ref.var"
   ]
  },
  {
   "cell_type": "code",
   "execution_count": 6,
   "id": "e8c87383",
   "metadata": {
    "execution": {
     "iopub.execute_input": "2023-03-13T08:17:10.822395Z",
     "iopub.status.busy": "2023-03-13T08:17:10.822203Z",
     "iopub.status.idle": "2023-03-13T08:17:10.826838Z",
     "shell.execute_reply": "2023-03-13T08:17:10.826252Z"
    }
   },
   "outputs": [],
   "source": [
    "adata_ref.var.set_index('_index', drop=True, inplace=True)\n",
    "adata_ref.var.index.name = None"
   ]
  },
  {
   "cell_type": "code",
   "execution_count": 7,
   "id": "bb8f32a7",
   "metadata": {
    "execution": {
     "iopub.execute_input": "2023-03-13T08:17:10.829650Z",
     "iopub.status.busy": "2023-03-13T08:17:10.829395Z",
     "iopub.status.idle": "2023-03-13T08:17:10.916633Z",
     "shell.execute_reply": "2023-03-13T08:17:10.915945Z"
    }
   },
   "outputs": [
    {
     "data": {
      "text/html": [
       "<div>\n",
       "<style scoped>\n",
       "    .dataframe tbody tr th:only-of-type {\n",
       "        vertical-align: middle;\n",
       "    }\n",
       "\n",
       "    .dataframe tbody tr th {\n",
       "        vertical-align: top;\n",
       "    }\n",
       "\n",
       "    .dataframe thead th {\n",
       "        text-align: right;\n",
       "    }\n",
       "</style>\n",
       "<table border=\"1\" class=\"dataframe\">\n",
       "  <thead>\n",
       "    <tr style=\"text-align: right;\">\n",
       "      <th></th>\n",
       "      <th>features</th>\n",
       "    </tr>\n",
       "  </thead>\n",
       "  <tbody>\n",
       "    <tr>\n",
       "      <th>0610005C13Rik</th>\n",
       "      <td>0610005C13Rik</td>\n",
       "    </tr>\n",
       "    <tr>\n",
       "      <th>0610006L08Rik</th>\n",
       "      <td>0610006L08Rik</td>\n",
       "    </tr>\n",
       "    <tr>\n",
       "      <th>0610009B22Rik</th>\n",
       "      <td>0610009B22Rik</td>\n",
       "    </tr>\n",
       "    <tr>\n",
       "      <th>0610009E02Rik</th>\n",
       "      <td>0610009E02Rik</td>\n",
       "    </tr>\n",
       "    <tr>\n",
       "      <th>0610009O20Rik</th>\n",
       "      <td>0610009O20Rik</td>\n",
       "    </tr>\n",
       "    <tr>\n",
       "      <th>...</th>\n",
       "      <td>...</td>\n",
       "    </tr>\n",
       "    <tr>\n",
       "      <th>Gm21778</th>\n",
       "      <td>Gm21778</td>\n",
       "    </tr>\n",
       "    <tr>\n",
       "      <th>Gm28772</th>\n",
       "      <td>Gm28772</td>\n",
       "    </tr>\n",
       "    <tr>\n",
       "      <th>Gm28972</th>\n",
       "      <td>Gm28972</td>\n",
       "    </tr>\n",
       "    <tr>\n",
       "      <th>AC242269.1</th>\n",
       "      <td>AC242269.1</td>\n",
       "    </tr>\n",
       "    <tr>\n",
       "      <th>Trav13-3</th>\n",
       "      <td>Trav13-3</td>\n",
       "    </tr>\n",
       "  </tbody>\n",
       "</table>\n",
       "<p>28727 rows × 1 columns</p>\n",
       "</div>"
      ],
      "text/plain": [
       "                    features\n",
       "0610005C13Rik  0610005C13Rik\n",
       "0610006L08Rik  0610006L08Rik\n",
       "0610009B22Rik  0610009B22Rik\n",
       "0610009E02Rik  0610009E02Rik\n",
       "0610009O20Rik  0610009O20Rik\n",
       "...                      ...\n",
       "Gm21778              Gm21778\n",
       "Gm28772              Gm28772\n",
       "Gm28972              Gm28972\n",
       "AC242269.1        AC242269.1\n",
       "Trav13-3            Trav13-3\n",
       "\n",
       "[28727 rows x 1 columns]"
      ]
     },
     "execution_count": 7,
     "metadata": {},
     "output_type": "execute_result"
    }
   ],
   "source": [
    "adata_ref.var"
   ]
  },
  {
   "cell_type": "code",
   "execution_count": 8,
   "id": "b9b5b08d",
   "metadata": {
    "execution": {
     "iopub.execute_input": "2023-03-13T08:17:10.920466Z",
     "iopub.status.busy": "2023-03-13T08:17:10.920260Z",
     "iopub.status.idle": "2023-03-13T08:17:10.986954Z",
     "shell.execute_reply": "2023-03-13T08:17:10.985553Z"
    }
   },
   "outputs": [],
   "source": [
    "adata_ref.var['SYMBOL'] = adata_ref.var.index\n",
    "\n",
    "# delete unnecessary raw slot (to be removed in a future version of the tutorial)\n",
    "del adata_ref.raw"
   ]
  },
  {
   "cell_type": "markdown",
   "id": "bd8895c8",
   "metadata": {},
   "source": [
    "## Reduce number of genes (discard low expressing)"
   ]
  },
  {
   "cell_type": "code",
   "execution_count": 9,
   "id": "86380927",
   "metadata": {
    "execution": {
     "iopub.execute_input": "2023-03-13T08:17:10.991962Z",
     "iopub.status.busy": "2023-03-13T08:17:10.991506Z",
     "iopub.status.idle": "2023-03-13T08:17:28.301154Z",
     "shell.execute_reply": "2023-03-13T08:17:28.300262Z"
    }
   },
   "outputs": [
    {
     "data": {
      "image/png": "[encoded data removed]",
      "text/plain": [
       "<Figure size 640x480 with 1 Axes>"
      ]
     },
     "metadata": {},
     "output_type": "display_data"
    }
   ],
   "source": [
    "from cell2location.utils.filtering import filter_genes\n",
    "selected = filter_genes(adata_ref, cell_count_cutoff=5, cell_percentage_cutoff2=0.03, nonz_mean_cutoff=1.12)\n",
    "\n",
    "# filter the object\n",
    "adata_ref = adata_ref[:, selected].copy()"
   ]
  },
  {
   "cell_type": "code",
   "execution_count": 10,
   "id": "8da2467b",
   "metadata": {
    "execution": {
     "iopub.execute_input": "2023-03-13T08:17:28.305794Z",
     "iopub.status.busy": "2023-03-13T08:17:28.305592Z",
     "iopub.status.idle": "2023-03-13T08:17:28.529833Z",
     "shell.execute_reply": "2023-03-13T08:17:28.529291Z"
    }
   },
   "outputs": [
    {
     "data": {
      "text/html": [
       "<div>\n",
       "<style scoped>\n",
       "    .dataframe tbody tr th:only-of-type {\n",
       "        vertical-align: middle;\n",
       "    }\n",
       "\n",
       "    .dataframe tbody tr th {\n",
       "        vertical-align: top;\n",
       "    }\n",
       "\n",
       "    .dataframe thead th {\n",
       "        text-align: right;\n",
       "    }\n",
       "</style>\n",
       "<table border=\"1\" class=\"dataframe\">\n",
       "  <thead>\n",
       "    <tr style=\"text-align: right;\">\n",
       "      <th></th>\n",
       "      <th>orig.ident</th>\n",
       "      <th>nCount_RNA</th>\n",
       "      <th>nFeature_RNA</th>\n",
       "      <th>name</th>\n",
       "      <th>species</th>\n",
       "      <th>technology</th>\n",
       "      <th>compartment</th>\n",
       "      <th>sample</th>\n",
       "      <th>tissue</th>\n",
       "      <th>depot</th>\n",
       "      <th>...</th>\n",
       "      <th>s.score</th>\n",
       "      <th>g2m.score</th>\n",
       "      <th>phase</th>\n",
       "      <th>integrated_snn_res.0.3</th>\n",
       "      <th>seurat_clusters</th>\n",
       "      <th>tree.ident</th>\n",
       "      <th>cell_type</th>\n",
       "      <th>cell_type2</th>\n",
       "      <th>ct3</th>\n",
       "      <th>predicted.celltype</th>\n",
       "    </tr>\n",
       "  </thead>\n",
       "  <tbody>\n",
       "    <tr>\n",
       "      <th>Mm_ING_16-1_TCAAGCACACAGCGCT</th>\n",
       "      <td>Mm</td>\n",
       "      <td>130933.0</td>\n",
       "      <td>11061</td>\n",
       "      <td>Mm_ING_16-1</td>\n",
       "      <td>Mus musculus</td>\n",
       "      <td>Chromium-v3</td>\n",
       "      <td>nucleus</td>\n",
       "      <td>Mm_ING_16</td>\n",
       "      <td>adipose</td>\n",
       "      <td>ING</td>\n",
       "      <td>...</td>\n",
       "      <td>-0.036499</td>\n",
       "      <td>-0.035362</td>\n",
       "      <td>G1</td>\n",
       "      <td>7</td>\n",
       "      <td>7</td>\n",
       "      <td>19</td>\n",
       "      <td>luminal_epithelial_HS</td>\n",
       "      <td>15</td>\n",
       "      <td>female_epithelial</td>\n",
       "      <td>1</td>\n",
       "    </tr>\n",
       "    <tr>\n",
       "      <th>Mm_ING_16-1_CCTCCAAGTATGGAAT</th>\n",
       "      <td>Mm</td>\n",
       "      <td>123909.0</td>\n",
       "      <td>11049</td>\n",
       "      <td>Mm_ING_16-1</td>\n",
       "      <td>Mus musculus</td>\n",
       "      <td>Chromium-v3</td>\n",
       "      <td>nucleus</td>\n",
       "      <td>Mm_ING_16</td>\n",
       "      <td>adipose</td>\n",
       "      <td>ING</td>\n",
       "      <td>...</td>\n",
       "      <td>-0.049845</td>\n",
       "      <td>-0.029479</td>\n",
       "      <td>G1</td>\n",
       "      <td>7</td>\n",
       "      <td>7</td>\n",
       "      <td>19</td>\n",
       "      <td>luminal_epithelial_HS</td>\n",
       "      <td>15</td>\n",
       "      <td>female_epithelial</td>\n",
       "      <td>6</td>\n",
       "    </tr>\n",
       "    <tr>\n",
       "      <th>Mm_ING_16-1_TTCTTCCAGCAAGCCA</th>\n",
       "      <td>Mm</td>\n",
       "      <td>79931.0</td>\n",
       "      <td>9331</td>\n",
       "      <td>Mm_ING_16-1</td>\n",
       "      <td>Mus musculus</td>\n",
       "      <td>Chromium-v3</td>\n",
       "      <td>nucleus</td>\n",
       "      <td>Mm_ING_16</td>\n",
       "      <td>adipose</td>\n",
       "      <td>ING</td>\n",
       "      <td>...</td>\n",
       "      <td>0.001394</td>\n",
       "      <td>-0.021315</td>\n",
       "      <td>S</td>\n",
       "      <td>7</td>\n",
       "      <td>7</td>\n",
       "      <td>19</td>\n",
       "      <td>luminal_epithelial_HS</td>\n",
       "      <td>15</td>\n",
       "      <td>female_epithelial</td>\n",
       "      <td>10</td>\n",
       "    </tr>\n",
       "    <tr>\n",
       "      <th>Mm_ING_16-1_CACCGTTTCCGCTGTT</th>\n",
       "      <td>Mm</td>\n",
       "      <td>77940.0</td>\n",
       "      <td>7926</td>\n",
       "      <td>Mm_ING_16-1</td>\n",
       "      <td>Mus musculus</td>\n",
       "      <td>Chromium-v3</td>\n",
       "      <td>nucleus</td>\n",
       "      <td>Mm_ING_16</td>\n",
       "      <td>adipose</td>\n",
       "      <td>ING</td>\n",
       "      <td>...</td>\n",
       "      <td>0.008381</td>\n",
       "      <td>-0.021417</td>\n",
       "      <td>S</td>\n",
       "      <td>12</td>\n",
       "      <td>12</td>\n",
       "      <td>14</td>\n",
       "      <td>mAd3</td>\n",
       "      <td>0</td>\n",
       "      <td>mAd3</td>\n",
       "      <td>0</td>\n",
       "    </tr>\n",
       "    <tr>\n",
       "      <th>Mm_ING_16-1_AAACGCTCAACCTATG</th>\n",
       "      <td>Mm</td>\n",
       "      <td>74784.0</td>\n",
       "      <td>9440</td>\n",
       "      <td>Mm_ING_16-1</td>\n",
       "      <td>Mus musculus</td>\n",
       "      <td>Chromium-v3</td>\n",
       "      <td>nucleus</td>\n",
       "      <td>Mm_ING_16</td>\n",
       "      <td>adipose</td>\n",
       "      <td>ING</td>\n",
       "      <td>...</td>\n",
       "      <td>0.055425</td>\n",
       "      <td>-0.024634</td>\n",
       "      <td>S</td>\n",
       "      <td>7</td>\n",
       "      <td>7</td>\n",
       "      <td>19</td>\n",
       "      <td>luminal_epithelial_HS</td>\n",
       "      <td>15</td>\n",
       "      <td>female_epithelial</td>\n",
       "      <td>1</td>\n",
       "    </tr>\n",
       "    <tr>\n",
       "      <th>...</th>\n",
       "      <td>...</td>\n",
       "      <td>...</td>\n",
       "      <td>...</td>\n",
       "      <td>...</td>\n",
       "      <td>...</td>\n",
       "      <td>...</td>\n",
       "      <td>...</td>\n",
       "      <td>...</td>\n",
       "      <td>...</td>\n",
       "      <td>...</td>\n",
       "      <td>...</td>\n",
       "      <td>...</td>\n",
       "      <td>...</td>\n",
       "      <td>...</td>\n",
       "      <td>...</td>\n",
       "      <td>...</td>\n",
       "      <td>...</td>\n",
       "      <td>...</td>\n",
       "      <td>...</td>\n",
       "      <td>...</td>\n",
       "      <td>...</td>\n",
       "    </tr>\n",
       "    <tr>\n",
       "      <th>Mm_ING_11-1_GGTGAAGCAATACCCA</th>\n",
       "      <td>Mm</td>\n",
       "      <td>687.0</td>\n",
       "      <td>530</td>\n",
       "      <td>Mm_ING_11-1</td>\n",
       "      <td>Mus musculus</td>\n",
       "      <td>Chromium-v3</td>\n",
       "      <td>nucleus</td>\n",
       "      <td>Mm_ING_11</td>\n",
       "      <td>adipose</td>\n",
       "      <td>ING</td>\n",
       "      <td>...</td>\n",
       "      <td>0.017934</td>\n",
       "      <td>-0.001514</td>\n",
       "      <td>S</td>\n",
       "      <td>16</td>\n",
       "      <td>16</td>\n",
       "      <td>9</td>\n",
       "      <td>mASPC5</td>\n",
       "      <td>1</td>\n",
       "      <td>preadipocyte</td>\n",
       "      <td>1</td>\n",
       "    </tr>\n",
       "    <tr>\n",
       "      <th>Mm_ING_11-1_CCCGAAGAGGTGGCTA</th>\n",
       "      <td>Mm</td>\n",
       "      <td>621.0</td>\n",
       "      <td>494</td>\n",
       "      <td>Mm_ING_11-1</td>\n",
       "      <td>Mus musculus</td>\n",
       "      <td>Chromium-v3</td>\n",
       "      <td>nucleus</td>\n",
       "      <td>Mm_ING_11</td>\n",
       "      <td>adipose</td>\n",
       "      <td>ING</td>\n",
       "      <td>...</td>\n",
       "      <td>-0.011490</td>\n",
       "      <td>-0.014764</td>\n",
       "      <td>G1</td>\n",
       "      <td>3</td>\n",
       "      <td>3</td>\n",
       "      <td>10</td>\n",
       "      <td>mASPC2</td>\n",
       "      <td>1</td>\n",
       "      <td>preadipocyte</td>\n",
       "      <td>1</td>\n",
       "    </tr>\n",
       "    <tr>\n",
       "      <th>Mm_ING_11-1_ACTGATGAGTTCCAGT</th>\n",
       "      <td>Mm</td>\n",
       "      <td>557.0</td>\n",
       "      <td>420</td>\n",
       "      <td>Mm_ING_11-1</td>\n",
       "      <td>Mus musculus</td>\n",
       "      <td>Chromium-v3</td>\n",
       "      <td>nucleus</td>\n",
       "      <td>Mm_ING_11</td>\n",
       "      <td>adipose</td>\n",
       "      <td>ING</td>\n",
       "      <td>...</td>\n",
       "      <td>0.019507</td>\n",
       "      <td>0.038628</td>\n",
       "      <td>G2M</td>\n",
       "      <td>3</td>\n",
       "      <td>3</td>\n",
       "      <td>10</td>\n",
       "      <td>mASPC2</td>\n",
       "      <td>1</td>\n",
       "      <td>preadipocyte</td>\n",
       "      <td>1</td>\n",
       "    </tr>\n",
       "    <tr>\n",
       "      <th>Mm_ING_11-1_GATAGAAAGAGTCCGA</th>\n",
       "      <td>Mm</td>\n",
       "      <td>485.0</td>\n",
       "      <td>355</td>\n",
       "      <td>Mm_ING_11-1</td>\n",
       "      <td>Mus musculus</td>\n",
       "      <td>Chromium-v3</td>\n",
       "      <td>nucleus</td>\n",
       "      <td>Mm_ING_11</td>\n",
       "      <td>adipose</td>\n",
       "      <td>ING</td>\n",
       "      <td>...</td>\n",
       "      <td>-0.006384</td>\n",
       "      <td>-0.006454</td>\n",
       "      <td>G1</td>\n",
       "      <td>3</td>\n",
       "      <td>3</td>\n",
       "      <td>10</td>\n",
       "      <td>mASPC2</td>\n",
       "      <td>1</td>\n",
       "      <td>preadipocyte</td>\n",
       "      <td>1</td>\n",
       "    </tr>\n",
       "    <tr>\n",
       "      <th>Mm_ING_11-1_TTACCATGTCTAACTG</th>\n",
       "      <td>Mm</td>\n",
       "      <td>434.0</td>\n",
       "      <td>321</td>\n",
       "      <td>Mm_ING_11-1</td>\n",
       "      <td>Mus musculus</td>\n",
       "      <td>Chromium-v3</td>\n",
       "      <td>nucleus</td>\n",
       "      <td>Mm_ING_11</td>\n",
       "      <td>adipose</td>\n",
       "      <td>ING</td>\n",
       "      <td>...</td>\n",
       "      <td>-0.009271</td>\n",
       "      <td>-0.011969</td>\n",
       "      <td>G1</td>\n",
       "      <td>3</td>\n",
       "      <td>3</td>\n",
       "      <td>10</td>\n",
       "      <td>mASPC2</td>\n",
       "      <td>1</td>\n",
       "      <td>preadipocyte</td>\n",
       "      <td>1</td>\n",
       "    </tr>\n",
       "  </tbody>\n",
       "</table>\n",
       "<p>197721 rows × 37 columns</p>\n",
       "</div>"
      ],
      "text/plain": [
       "                             orig.ident  nCount_RNA  nFeature_RNA  \\\n",
       "Mm_ING_16-1_TCAAGCACACAGCGCT         Mm    130933.0         11061   \n",
       "Mm_ING_16-1_CCTCCAAGTATGGAAT         Mm    123909.0         11049   \n",
       "Mm_ING_16-1_TTCTTCCAGCAAGCCA         Mm     79931.0          9331   \n",
       "Mm_ING_16-1_CACCGTTTCCGCTGTT         Mm     77940.0          7926   \n",
       "Mm_ING_16-1_AAACGCTCAACCTATG         Mm     74784.0          9440   \n",
       "...                                 ...         ...           ...   \n",
       "Mm_ING_11-1_GGTGAAGCAATACCCA         Mm       687.0           530   \n",
       "Mm_ING_11-1_CCCGAAGAGGTGGCTA         Mm       621.0           494   \n",
       "Mm_ING_11-1_ACTGATGAGTTCCAGT         Mm       557.0           420   \n",
       "Mm_ING_11-1_GATAGAAAGAGTCCGA         Mm       485.0           355   \n",
       "Mm_ING_11-1_TTACCATGTCTAACTG         Mm       434.0           321   \n",
       "\n",
       "                                     name       species   technology  \\\n",
       "Mm_ING_16-1_TCAAGCACACAGCGCT  Mm_ING_16-1  Mus musculus  Chromium-v3   \n",
       "Mm_ING_16-1_CCTCCAAGTATGGAAT  Mm_ING_16-1  Mus musculus  Chromium-v3   \n",
       "Mm_ING_16-1_TTCTTCCAGCAAGCCA  Mm_ING_16-1  Mus musculus  Chromium-v3   \n",
       "Mm_ING_16-1_CACCGTTTCCGCTGTT  Mm_ING_16-1  Mus musculus  Chromium-v3   \n",
       "Mm_ING_16-1_AAACGCTCAACCTATG  Mm_ING_16-1  Mus musculus  Chromium-v3   \n",
       "...                                   ...           ...          ...   \n",
       "Mm_ING_11-1_GGTGAAGCAATACCCA  Mm_ING_11-1  Mus musculus  Chromium-v3   \n",
       "Mm_ING_11-1_CCCGAAGAGGTGGCTA  Mm_ING_11-1  Mus musculus  Chromium-v3   \n",
       "Mm_ING_11-1_ACTGATGAGTTCCAGT  Mm_ING_11-1  Mus musculus  Chromium-v3   \n",
       "Mm_ING_11-1_GATAGAAAGAGTCCGA  Mm_ING_11-1  Mus musculus  Chromium-v3   \n",
       "Mm_ING_11-1_TTACCATGTCTAACTG  Mm_ING_11-1  Mus musculus  Chromium-v3   \n",
       "\n",
       "                             compartment     sample   tissue depot  ...  \\\n",
       "Mm_ING_16-1_TCAAGCACACAGCGCT     nucleus  Mm_ING_16  adipose   ING  ...   \n",
       "Mm_ING_16-1_CCTCCAAGTATGGAAT     nucleus  Mm_ING_16  adipose   ING  ...   \n",
       "Mm_ING_16-1_TTCTTCCAGCAAGCCA     nucleus  Mm_ING_16  adipose   ING  ...   \n",
       "Mm_ING_16-1_CACCGTTTCCGCTGTT     nucleus  Mm_ING_16  adipose   ING  ...   \n",
       "Mm_ING_16-1_AAACGCTCAACCTATG     nucleus  Mm_ING_16  adipose   ING  ...   \n",
       "...                                  ...        ...      ...   ...  ...   \n",
       "Mm_ING_11-1_GGTGAAGCAATACCCA     nucleus  Mm_ING_11  adipose   ING  ...   \n",
       "Mm_ING_11-1_CCCGAAGAGGTGGCTA     nucleus  Mm_ING_11  adipose   ING  ...   \n",
       "Mm_ING_11-1_ACTGATGAGTTCCAGT     nucleus  Mm_ING_11  adipose   ING  ...   \n",
       "Mm_ING_11-1_GATAGAAAGAGTCCGA     nucleus  Mm_ING_11  adipose   ING  ...   \n",
       "Mm_ING_11-1_TTACCATGTCTAACTG     nucleus  Mm_ING_11  adipose   ING  ...   \n",
       "\n",
       "                               s.score g2m.score phase  \\\n",
       "Mm_ING_16-1_TCAAGCACACAGCGCT -0.036499 -0.035362    G1   \n",
       "Mm_ING_16-1_CCTCCAAGTATGGAAT -0.049845 -0.029479    G1   \n",
       "Mm_ING_16-1_TTCTTCCAGCAAGCCA  0.001394 -0.021315     S   \n",
       "Mm_ING_16-1_CACCGTTTCCGCTGTT  0.008381 -0.021417     S   \n",
       "Mm_ING_16-1_AAACGCTCAACCTATG  0.055425 -0.024634     S   \n",
       "...                                ...       ...   ...   \n",
       "Mm_ING_11-1_GGTGAAGCAATACCCA  0.017934 -0.001514     S   \n",
       "Mm_ING_11-1_CCCGAAGAGGTGGCTA -0.011490 -0.014764    G1   \n",
       "Mm_ING_11-1_ACTGATGAGTTCCAGT  0.019507  0.038628   G2M   \n",
       "Mm_ING_11-1_GATAGAAAGAGTCCGA -0.006384 -0.006454    G1   \n",
       "Mm_ING_11-1_TTACCATGTCTAACTG -0.009271 -0.011969    G1   \n",
       "\n",
       "                              integrated_snn_res.0.3 seurat_clusters  \\\n",
       "Mm_ING_16-1_TCAAGCACACAGCGCT                       7               7   \n",
       "Mm_ING_16-1_CCTCCAAGTATGGAAT                       7               7   \n",
       "Mm_ING_16-1_TTCTTCCAGCAAGCCA                       7               7   \n",
       "Mm_ING_16-1_CACCGTTTCCGCTGTT                      12              12   \n",
       "Mm_ING_16-1_AAACGCTCAACCTATG                       7               7   \n",
       "...                                              ...             ...   \n",
       "Mm_ING_11-1_GGTGAAGCAATACCCA                      16              16   \n",
       "Mm_ING_11-1_CCCGAAGAGGTGGCTA                       3               3   \n",
       "Mm_ING_11-1_ACTGATGAGTTCCAGT                       3               3   \n",
       "Mm_ING_11-1_GATAGAAAGAGTCCGA                       3               3   \n",
       "Mm_ING_11-1_TTACCATGTCTAACTG                       3               3   \n",
       "\n",
       "                             tree.ident              cell_type  cell_type2  \\\n",
       "Mm_ING_16-1_TCAAGCACACAGCGCT         19  luminal_epithelial_HS          15   \n",
       "Mm_ING_16-1_CCTCCAAGTATGGAAT         19  luminal_epithelial_HS          15   \n",
       "Mm_ING_16-1_TTCTTCCAGCAAGCCA         19  luminal_epithelial_HS          15   \n",
       "Mm_ING_16-1_CACCGTTTCCGCTGTT         14                   mAd3           0   \n",
       "Mm_ING_16-1_AAACGCTCAACCTATG         19  luminal_epithelial_HS          15   \n",
       "...                                 ...                    ...         ...   \n",
       "Mm_ING_11-1_GGTGAAGCAATACCCA          9                 mASPC5           1   \n",
       "Mm_ING_11-1_CCCGAAGAGGTGGCTA         10                 mASPC2           1   \n",
       "Mm_ING_11-1_ACTGATGAGTTCCAGT         10                 mASPC2           1   \n",
       "Mm_ING_11-1_GATAGAAAGAGTCCGA         10                 mASPC2           1   \n",
       "Mm_ING_11-1_TTACCATGTCTAACTG         10                 mASPC2           1   \n",
       "\n",
       "                                            ct3 predicted.celltype  \n",
       "Mm_ING_16-1_TCAAGCACACAGCGCT  female_epithelial                  1  \n",
       "Mm_ING_16-1_CCTCCAAGTATGGAAT  female_epithelial                  6  \n",
       "Mm_ING_16-1_TTCTTCCAGCAAGCCA  female_epithelial                 10  \n",
       "Mm_ING_16-1_CACCGTTTCCGCTGTT               mAd3                  0  \n",
       "Mm_ING_16-1_AAACGCTCAACCTATG  female_epithelial                  1  \n",
       "...                                         ...                ...  \n",
       "Mm_ING_11-1_GGTGAAGCAATACCCA       preadipocyte                  1  \n",
       "Mm_ING_11-1_CCCGAAGAGGTGGCTA       preadipocyte                  1  \n",
       "Mm_ING_11-1_ACTGATGAGTTCCAGT       preadipocyte                  1  \n",
       "Mm_ING_11-1_GATAGAAAGAGTCCGA       preadipocyte                  1  \n",
       "Mm_ING_11-1_TTACCATGTCTAACTG       preadipocyte                  1  \n",
       "\n",
       "[197721 rows x 37 columns]"
      ]
     },
     "execution_count": 10,
     "metadata": {},
     "output_type": "execute_result"
    }
   ],
   "source": [
    "adata_ref.obs"
   ]
  },
  {
   "cell_type": "markdown",
   "id": "8f0e80a2",
   "metadata": {},
   "source": [
    "## Estimating expression signatures"
   ]
  },
  {
   "cell_type": "code",
   "execution_count": 11,
   "id": "00f0b9da",
   "metadata": {
    "execution": {
     "iopub.execute_input": "2023-03-13T08:17:28.533693Z",
     "iopub.status.busy": "2023-03-13T08:17:28.533496Z",
     "iopub.status.idle": "2023-03-13T08:17:28.642810Z",
     "shell.execute_reply": "2023-03-13T08:17:28.641662Z"
    }
   },
   "outputs": [
    {
     "name": "stderr",
     "output_type": "stream",
     "text": [
      "No GPU/TPU found, falling back to CPU. (Set TF_CPP_MIN_LOG_LEVEL=0 and rerun for more info.)\n"
     ]
    }
   ],
   "source": [
    "cell2location.models.RegressionModel.setup_anndata(adata=adata_ref,\n",
    "                        # 10X reaction / sample / batch\n",
    "                        batch_key='sample',\n",
    "                        # cell type, covariate used for constructing signatures\n",
    "                        labels_key='cell_type',\n",
    "                        # multiplicative technical effects (platform, 3' vs 5', donor effect)\n",
    "                        categorical_covariate_keys=None\n",
    "                       )"
   ]
  },
  {
   "cell_type": "code",
   "execution_count": 12,
   "id": "66e654f3",
   "metadata": {
    "execution": {
     "iopub.execute_input": "2023-03-13T08:17:28.646720Z",
     "iopub.status.busy": "2023-03-13T08:17:28.646516Z",
     "iopub.status.idle": "2023-03-13T08:17:31.932120Z",
     "shell.execute_reply": "2023-03-13T08:17:31.931237Z"
    }
   },
   "outputs": [
    {
     "data": {
      "text/html": [
       "<pre style=\"white-space:pre;overflow-x:auto;line-height:normal;font-family:Menlo,'DejaVu Sans Mono',consolas,'Courier New',monospace\">Anndata setup with scvi-tools version <span style=\"color: #008080; text-decoration-color: #008080; font-weight: bold\">0.20</span>.<span style=\"color: #008080; text-decoration-color: #008080; font-weight: bold\">0</span>.\n",
       "</pre>\n"
      ],
      "text/plain": [
       "Anndata setup with scvi-tools version \u001b[1;36m0.20\u001b[0m.\u001b[1;36m0\u001b[0m.\n"
      ]
     },
     "metadata": {},
     "output_type": "display_data"
    },
    {
     "data": {
      "text/html": [
       "<pre style=\"white-space:pre;overflow-x:auto;line-height:normal;font-family:Menlo,'DejaVu Sans Mono',consolas,'Courier New',monospace\">\n",
       "</pre>\n"
      ],
      "text/plain": [
       "\n"
      ]
     },
     "metadata": {},
     "output_type": "display_data"
    },
    {
     "data": {
      "text/html": [
       "<pre style=\"white-space:pre;overflow-x:auto;line-height:normal;font-family:Menlo,'DejaVu Sans Mono',consolas,'Courier New',monospace\">Setup via `RegressionModel.setup_anndata` with arguments:\n",
       "</pre>\n"
      ],
      "text/plain": [
       "Setup via `RegressionModel.setup_anndata` with arguments:\n"
      ]
     },
     "metadata": {},
     "output_type": "display_data"
    },
    {
     "data": {
      "text/html": [
       "<pre style=\"white-space:pre;overflow-x:auto;line-height:normal;font-family:Menlo,'DejaVu Sans Mono',consolas,'Courier New',monospace\"><span style=\"font-weight: bold\">{</span>\n",
       "<span style=\"color: #7fbf7f; text-decoration-color: #7fbf7f\">│   </span><span style=\"color: #008000; text-decoration-color: #008000\">'layer'</span>: <span style=\"color: #800080; text-decoration-color: #800080; font-style: italic\">None</span>,\n",
       "<span style=\"color: #7fbf7f; text-decoration-color: #7fbf7f\">│   </span><span style=\"color: #008000; text-decoration-color: #008000\">'batch_key'</span>: <span style=\"color: #008000; text-decoration-color: #008000\">'sample'</span>,\n",
       "<span style=\"color: #7fbf7f; text-decoration-color: #7fbf7f\">│   </span><span style=\"color: #008000; text-decoration-color: #008000\">'labels_key'</span>: <span style=\"color: #008000; text-decoration-color: #008000\">'cell_type'</span>,\n",
       "<span style=\"color: #7fbf7f; text-decoration-color: #7fbf7f\">│   </span><span style=\"color: #008000; text-decoration-color: #008000\">'categorical_covariate_keys'</span>: <span style=\"color: #800080; text-decoration-color: #800080; font-style: italic\">None</span>,\n",
       "<span style=\"color: #7fbf7f; text-decoration-color: #7fbf7f\">│   </span><span style=\"color: #008000; text-decoration-color: #008000\">'continuous_covariate_keys'</span>: <span style=\"color: #800080; text-decoration-color: #800080; font-style: italic\">None</span>\n",
       "<span style=\"font-weight: bold\">}</span>\n",
       "</pre>\n"
      ],
      "text/plain": [
       "\u001b[1m{\u001b[0m\n",
       "\u001b[2;32m│   \u001b[0m\u001b[32m'layer'\u001b[0m: \u001b[3;35mNone\u001b[0m,\n",
       "\u001b[2;32m│   \u001b[0m\u001b[32m'batch_key'\u001b[0m: \u001b[32m'sample'\u001b[0m,\n",
       "\u001b[2;32m│   \u001b[0m\u001b[32m'labels_key'\u001b[0m: \u001b[32m'cell_type'\u001b[0m,\n",
       "\u001b[2;32m│   \u001b[0m\u001b[32m'categorical_covariate_keys'\u001b[0m: \u001b[3;35mNone\u001b[0m,\n",
       "\u001b[2;32m│   \u001b[0m\u001b[32m'continuous_covariate_keys'\u001b[0m: \u001b[3;35mNone\u001b[0m\n",
       "\u001b[1m}\u001b[0m\n"
      ]
     },
     "metadata": {},
     "output_type": "display_data"
    },
    {
     "data": {
      "text/html": [
       "<pre style=\"white-space:pre;overflow-x:auto;line-height:normal;font-family:Menlo,'DejaVu Sans Mono',consolas,'Courier New',monospace\">\n",
       "</pre>\n"
      ],
      "text/plain": [
       "\n"
      ]
     },
     "metadata": {},
     "output_type": "display_data"
    },
    {
     "data": {
      "text/html": [
       "<pre style=\"white-space:pre;overflow-x:auto;line-height:normal;font-family:Menlo,'DejaVu Sans Mono',consolas,'Courier New',monospace\"><span style=\"font-style: italic\">         Summary Statistics          </span>\n",
       "┏━━━━━━━━━━━━━━━━━━━━━━━━━━┳━━━━━━━━┓\n",
       "┃<span style=\"font-weight: bold\">     Summary Stat Key     </span>┃<span style=\"font-weight: bold\"> Value  </span>┃\n",
       "┡━━━━━━━━━━━━━━━━━━━━━━━━━━╇━━━━━━━━┩\n",
       "│<span style=\"color: #0087ff; text-decoration-color: #0087ff\">         n_batch          </span>│<span style=\"color: #af00d7; text-decoration-color: #af00d7\">   24   </span>│\n",
       "│<span style=\"color: #0087ff; text-decoration-color: #0087ff\">         n_cells          </span>│<span style=\"color: #af00d7; text-decoration-color: #af00d7\"> 197721 </span>│\n",
       "│<span style=\"color: #0087ff; text-decoration-color: #0087ff\"> n_extra_categorical_covs </span>│<span style=\"color: #af00d7; text-decoration-color: #af00d7\">   0    </span>│\n",
       "│<span style=\"color: #0087ff; text-decoration-color: #0087ff\"> n_extra_continuous_covs  </span>│<span style=\"color: #af00d7; text-decoration-color: #af00d7\">   0    </span>│\n",
       "│<span style=\"color: #0087ff; text-decoration-color: #0087ff\">         n_labels         </span>│<span style=\"color: #af00d7; text-decoration-color: #af00d7\">   48   </span>│\n",
       "│<span style=\"color: #0087ff; text-decoration-color: #0087ff\">          n_vars          </span>│<span style=\"color: #af00d7; text-decoration-color: #af00d7\"> 14571  </span>│\n",
       "└──────────────────────────┴────────┘\n",
       "</pre>\n"
      ],
      "text/plain": [
       "\u001b[3m         Summary Statistics          \u001b[0m\n",
       "┏━━━━━━━━━━━━━━━━━━━━━━━━━━┳━━━━━━━━┓\n",
       "┃\u001b[1m \u001b[0m\u001b[1m    Summary Stat Key    \u001b[0m\u001b[1m \u001b[0m┃\u001b[1m \u001b[0m\u001b[1mValue \u001b[0m\u001b[1m \u001b[0m┃\n",
       "┡━━━━━━━━━━━━━━━━━━━━━━━━━━╇━━━━━━━━┩\n",
       "│\u001b[38;5;33m \u001b[0m\u001b[38;5;33m        n_batch         \u001b[0m\u001b[38;5;33m \u001b[0m│\u001b[38;5;128m \u001b[0m\u001b[38;5;128m  24  \u001b[0m\u001b[38;5;128m \u001b[0m│\n",
       "│\u001b[38;5;33m \u001b[0m\u001b[38;5;33m        n_cells         \u001b[0m\u001b[38;5;33m \u001b[0m│\u001b[38;5;128m \u001b[0m\u001b[38;5;128m197721\u001b[0m\u001b[38;5;128m \u001b[0m│\n",
       "│\u001b[38;5;33m \u001b[0m\u001b[38;5;33mn_extra_categorical_covs\u001b[0m\u001b[38;5;33m \u001b[0m│\u001b[38;5;128m \u001b[0m\u001b[38;5;128m  0   \u001b[0m\u001b[38;5;128m \u001b[0m│\n",
       "│\u001b[38;5;33m \u001b[0m\u001b[38;5;33mn_extra_continuous_covs \u001b[0m\u001b[38;5;33m \u001b[0m│\u001b[38;5;128m \u001b[0m\u001b[38;5;128m  0   \u001b[0m\u001b[38;5;128m \u001b[0m│\n",
       "│\u001b[38;5;33m \u001b[0m\u001b[38;5;33m        n_labels        \u001b[0m\u001b[38;5;33m \u001b[0m│\u001b[38;5;128m \u001b[0m\u001b[38;5;128m  48  \u001b[0m\u001b[38;5;128m \u001b[0m│\n",
       "│\u001b[38;5;33m \u001b[0m\u001b[38;5;33m         n_vars         \u001b[0m\u001b[38;5;33m \u001b[0m│\u001b[38;5;128m \u001b[0m\u001b[38;5;128m14571 \u001b[0m\u001b[38;5;128m \u001b[0m│\n",
       "└──────────────────────────┴────────┘\n"
      ]
     },
     "metadata": {},
     "output_type": "display_data"
    },
    {
     "data": {
      "text/html": [
       "<pre style=\"white-space:pre;overflow-x:auto;line-height:normal;font-family:Menlo,'DejaVu Sans Mono',consolas,'Courier New',monospace\"><span style=\"font-style: italic\">               Data Registry                </span>\n",
       "┏━━━━━━━━━━━━━━┳━━━━━━━━━━━━━━━━━━━━━━━━━━━┓\n",
       "┃<span style=\"font-weight: bold\"> Registry Key </span>┃<span style=\"font-weight: bold\">    scvi-tools Location    </span>┃\n",
       "┡━━━━━━━━━━━━━━╇━━━━━━━━━━━━━━━━━━━━━━━━━━━┩\n",
       "│<span style=\"color: #0087ff; text-decoration-color: #0087ff\">      X       </span>│<span style=\"color: #af00d7; text-decoration-color: #af00d7\">          adata.X          </span>│\n",
       "│<span style=\"color: #0087ff; text-decoration-color: #0087ff\">    batch     </span>│<span style=\"color: #af00d7; text-decoration-color: #af00d7\"> adata.obs['_scvi_batch']  </span>│\n",
       "│<span style=\"color: #0087ff; text-decoration-color: #0087ff\">    ind_x     </span>│<span style=\"color: #af00d7; text-decoration-color: #af00d7\">   adata.obs['_indices']   </span>│\n",
       "│<span style=\"color: #0087ff; text-decoration-color: #0087ff\">    labels    </span>│<span style=\"color: #af00d7; text-decoration-color: #af00d7\"> adata.obs['_scvi_labels'] </span>│\n",
       "└──────────────┴───────────────────────────┘\n",
       "</pre>\n"
      ],
      "text/plain": [
       "\u001b[3m               Data Registry                \u001b[0m\n",
       "┏━━━━━━━━━━━━━━┳━━━━━━━━━━━━━━━━━━━━━━━━━━━┓\n",
       "┃\u001b[1m \u001b[0m\u001b[1mRegistry Key\u001b[0m\u001b[1m \u001b[0m┃\u001b[1m \u001b[0m\u001b[1m   scvi-tools Location   \u001b[0m\u001b[1m \u001b[0m┃\n",
       "┡━━━━━━━━━━━━━━╇━━━━━━━━━━━━━━━━━━━━━━━━━━━┩\n",
       "│\u001b[38;5;33m \u001b[0m\u001b[38;5;33m     X      \u001b[0m\u001b[38;5;33m \u001b[0m│\u001b[38;5;128m \u001b[0m\u001b[38;5;128m         adata.X         \u001b[0m\u001b[38;5;128m \u001b[0m│\n",
       "│\u001b[38;5;33m \u001b[0m\u001b[38;5;33m   batch    \u001b[0m\u001b[38;5;33m \u001b[0m│\u001b[38;5;128m \u001b[0m\u001b[38;5;128madata.obs['_scvi_batch'] \u001b[0m\u001b[38;5;128m \u001b[0m│\n",
       "│\u001b[38;5;33m \u001b[0m\u001b[38;5;33m   ind_x    \u001b[0m\u001b[38;5;33m \u001b[0m│\u001b[38;5;128m \u001b[0m\u001b[38;5;128m  adata.obs['_indices']  \u001b[0m\u001b[38;5;128m \u001b[0m│\n",
       "│\u001b[38;5;33m \u001b[0m\u001b[38;5;33m   labels   \u001b[0m\u001b[38;5;33m \u001b[0m│\u001b[38;5;128m \u001b[0m\u001b[38;5;128madata.obs['_scvi_labels']\u001b[0m\u001b[38;5;128m \u001b[0m│\n",
       "└──────────────┴───────────────────────────┘\n"
      ]
     },
     "metadata": {},
     "output_type": "display_data"
    },
    {
     "data": {
      "text/html": [
       "<pre style=\"white-space:pre;overflow-x:auto;line-height:normal;font-family:Menlo,'DejaVu Sans Mono',consolas,'Courier New',monospace\"><span style=\"font-style: italic\">                   batch State Registry                   </span>\n",
       "┏━━━━━━━━━━━━━━━━━━━━━┳━━━━━━━━━━━━┳━━━━━━━━━━━━━━━━━━━━━┓\n",
       "┃<span style=\"font-weight: bold\">   Source Location   </span>┃<span style=\"font-weight: bold\"> Categories </span>┃<span style=\"font-weight: bold\"> scvi-tools Encoding </span>┃\n",
       "┡━━━━━━━━━━━━━━━━━━━━━╇━━━━━━━━━━━━╇━━━━━━━━━━━━━━━━━━━━━┩\n",
       "│<span style=\"color: #0087ff; text-decoration-color: #0087ff\"> adata.obs['sample'] </span>│<span style=\"color: #008000; text-decoration-color: #008000\"> Mm_EPI_10  </span>│<span style=\"color: #af00d7; text-decoration-color: #af00d7\">          0          </span>│\n",
       "│<span style=\"color: #0087ff; text-decoration-color: #0087ff\">                     </span>│<span style=\"color: #008000; text-decoration-color: #008000\"> Mm_EPI_11  </span>│<span style=\"color: #af00d7; text-decoration-color: #af00d7\">          1          </span>│\n",
       "│<span style=\"color: #0087ff; text-decoration-color: #0087ff\">                     </span>│<span style=\"color: #008000; text-decoration-color: #008000\"> Mm_EPI_12  </span>│<span style=\"color: #af00d7; text-decoration-color: #af00d7\">          2          </span>│\n",
       "│<span style=\"color: #0087ff; text-decoration-color: #0087ff\">                     </span>│<span style=\"color: #008000; text-decoration-color: #008000\"> Mm_EPI_13  </span>│<span style=\"color: #af00d7; text-decoration-color: #af00d7\">          3          </span>│\n",
       "│<span style=\"color: #0087ff; text-decoration-color: #0087ff\">                     </span>│<span style=\"color: #008000; text-decoration-color: #008000\"> Mm_EPI_14  </span>│<span style=\"color: #af00d7; text-decoration-color: #af00d7\">          4          </span>│\n",
       "│<span style=\"color: #0087ff; text-decoration-color: #0087ff\">                     </span>│<span style=\"color: #008000; text-decoration-color: #008000\"> Mm_EPI_17  </span>│<span style=\"color: #af00d7; text-decoration-color: #af00d7\">          5          </span>│\n",
       "│<span style=\"color: #0087ff; text-decoration-color: #0087ff\">                     </span>│<span style=\"color: #008000; text-decoration-color: #008000\"> Mm_EPI_18  </span>│<span style=\"color: #af00d7; text-decoration-color: #af00d7\">          6          </span>│\n",
       "│<span style=\"color: #0087ff; text-decoration-color: #0087ff\">                     </span>│<span style=\"color: #008000; text-decoration-color: #008000\"> Mm_EPI_19  </span>│<span style=\"color: #af00d7; text-decoration-color: #af00d7\">          7          </span>│\n",
       "│<span style=\"color: #0087ff; text-decoration-color: #0087ff\">                     </span>│<span style=\"color: #008000; text-decoration-color: #008000\"> Mm_ING_08  </span>│<span style=\"color: #af00d7; text-decoration-color: #af00d7\">          8          </span>│\n",
       "│<span style=\"color: #0087ff; text-decoration-color: #0087ff\">                     </span>│<span style=\"color: #008000; text-decoration-color: #008000\"> Mm_ING_09  </span>│<span style=\"color: #af00d7; text-decoration-color: #af00d7\">          9          </span>│\n",
       "│<span style=\"color: #0087ff; text-decoration-color: #0087ff\">                     </span>│<span style=\"color: #008000; text-decoration-color: #008000\"> Mm_ING_10  </span>│<span style=\"color: #af00d7; text-decoration-color: #af00d7\">         10          </span>│\n",
       "│<span style=\"color: #0087ff; text-decoration-color: #0087ff\">                     </span>│<span style=\"color: #008000; text-decoration-color: #008000\"> Mm_ING_11  </span>│<span style=\"color: #af00d7; text-decoration-color: #af00d7\">         11          </span>│\n",
       "│<span style=\"color: #0087ff; text-decoration-color: #0087ff\">                     </span>│<span style=\"color: #008000; text-decoration-color: #008000\"> Mm_ING_12  </span>│<span style=\"color: #af00d7; text-decoration-color: #af00d7\">         12          </span>│\n",
       "│<span style=\"color: #0087ff; text-decoration-color: #0087ff\">                     </span>│<span style=\"color: #008000; text-decoration-color: #008000\"> Mm_ING_13  </span>│<span style=\"color: #af00d7; text-decoration-color: #af00d7\">         13          </span>│\n",
       "│<span style=\"color: #0087ff; text-decoration-color: #0087ff\">                     </span>│<span style=\"color: #008000; text-decoration-color: #008000\"> Mm_ING_16  </span>│<span style=\"color: #af00d7; text-decoration-color: #af00d7\">         14          </span>│\n",
       "│<span style=\"color: #0087ff; text-decoration-color: #0087ff\">                     </span>│<span style=\"color: #008000; text-decoration-color: #008000\"> Mm_ING_17  </span>│<span style=\"color: #af00d7; text-decoration-color: #af00d7\">         15          </span>│\n",
       "│<span style=\"color: #0087ff; text-decoration-color: #0087ff\">                     </span>│<span style=\"color: #008000; text-decoration-color: #008000\"> Mm_ING_18  </span>│<span style=\"color: #af00d7; text-decoration-color: #af00d7\">         16          </span>│\n",
       "│<span style=\"color: #0087ff; text-decoration-color: #0087ff\">                     </span>│<span style=\"color: #008000; text-decoration-color: #008000\"> Mm_ING_19  </span>│<span style=\"color: #af00d7; text-decoration-color: #af00d7\">         17          </span>│\n",
       "│<span style=\"color: #0087ff; text-decoration-color: #0087ff\">                     </span>│<span style=\"color: #008000; text-decoration-color: #008000\"> Mm_ING_22  </span>│<span style=\"color: #af00d7; text-decoration-color: #af00d7\">         18          </span>│\n",
       "│<span style=\"color: #0087ff; text-decoration-color: #0087ff\">                     </span>│<span style=\"color: #008000; text-decoration-color: #008000\"> Mm_ING_24  </span>│<span style=\"color: #af00d7; text-decoration-color: #af00d7\">         19          </span>│\n",
       "│<span style=\"color: #0087ff; text-decoration-color: #0087ff\">                     </span>│<span style=\"color: #008000; text-decoration-color: #008000\"> Mm_POV_01  </span>│<span style=\"color: #af00d7; text-decoration-color: #af00d7\">         20          </span>│\n",
       "│<span style=\"color: #0087ff; text-decoration-color: #0087ff\">                     </span>│<span style=\"color: #008000; text-decoration-color: #008000\"> Mm_POV_02  </span>│<span style=\"color: #af00d7; text-decoration-color: #af00d7\">         21          </span>│\n",
       "│<span style=\"color: #0087ff; text-decoration-color: #0087ff\">                     </span>│<span style=\"color: #008000; text-decoration-color: #008000\"> Mm_POV_03  </span>│<span style=\"color: #af00d7; text-decoration-color: #af00d7\">         22          </span>│\n",
       "│<span style=\"color: #0087ff; text-decoration-color: #0087ff\">                     </span>│<span style=\"color: #008000; text-decoration-color: #008000\"> Mm_POV_04  </span>│<span style=\"color: #af00d7; text-decoration-color: #af00d7\">         23          </span>│\n",
       "└─────────────────────┴────────────┴─────────────────────┘\n",
       "</pre>\n"
      ],
      "text/plain": [
       "\u001b[3m                   batch State Registry                   \u001b[0m\n",
       "┏━━━━━━━━━━━━━━━━━━━━━┳━━━━━━━━━━━━┳━━━━━━━━━━━━━━━━━━━━━┓\n",
       "┃\u001b[1m \u001b[0m\u001b[1m  Source Location  \u001b[0m\u001b[1m \u001b[0m┃\u001b[1m \u001b[0m\u001b[1mCategories\u001b[0m\u001b[1m \u001b[0m┃\u001b[1m \u001b[0m\u001b[1mscvi-tools Encoding\u001b[0m\u001b[1m \u001b[0m┃\n",
       "┡━━━━━━━━━━━━━━━━━━━━━╇━━━━━━━━━━━━╇━━━━━━━━━━━━━━━━━━━━━┩\n",
       "│\u001b[38;5;33m \u001b[0m\u001b[38;5;33madata.obs['sample']\u001b[0m\u001b[38;5;33m \u001b[0m│\u001b[32m \u001b[0m\u001b[32mMm_EPI_10 \u001b[0m\u001b[32m \u001b[0m│\u001b[38;5;128m \u001b[0m\u001b[38;5;128m         0         \u001b[0m\u001b[38;5;128m \u001b[0m│\n",
       "│\u001b[38;5;33m \u001b[0m\u001b[38;5;33m                   \u001b[0m\u001b[38;5;33m \u001b[0m│\u001b[32m \u001b[0m\u001b[32mMm_EPI_11 \u001b[0m\u001b[32m \u001b[0m│\u001b[38;5;128m \u001b[0m\u001b[38;5;128m         1         \u001b[0m\u001b[38;5;128m \u001b[0m│\n",
       "│\u001b[38;5;33m \u001b[0m\u001b[38;5;33m                   \u001b[0m\u001b[38;5;33m \u001b[0m│\u001b[32m \u001b[0m\u001b[32mMm_EPI_12 \u001b[0m\u001b[32m \u001b[0m│\u001b[38;5;128m \u001b[0m\u001b[38;5;128m         2         \u001b[0m\u001b[38;5;128m \u001b[0m│\n",
       "│\u001b[38;5;33m \u001b[0m\u001b[38;5;33m                   \u001b[0m\u001b[38;5;33m \u001b[0m│\u001b[32m \u001b[0m\u001b[32mMm_EPI_13 \u001b[0m\u001b[32m \u001b[0m│\u001b[38;5;128m \u001b[0m\u001b[38;5;128m         3         \u001b[0m\u001b[38;5;128m \u001b[0m│\n",
       "│\u001b[38;5;33m \u001b[0m\u001b[38;5;33m                   \u001b[0m\u001b[38;5;33m \u001b[0m│\u001b[32m \u001b[0m\u001b[32mMm_EPI_14 \u001b[0m\u001b[32m \u001b[0m│\u001b[38;5;128m \u001b[0m\u001b[38;5;128m         4         \u001b[0m\u001b[38;5;128m \u001b[0m│\n",
       "│\u001b[38;5;33m \u001b[0m\u001b[38;5;33m                   \u001b[0m\u001b[38;5;33m \u001b[0m│\u001b[32m \u001b[0m\u001b[32mMm_EPI_17 \u001b[0m\u001b[32m \u001b[0m│\u001b[38;5;128m \u001b[0m\u001b[38;5;128m         5         \u001b[0m\u001b[38;5;128m \u001b[0m│\n",
       "│\u001b[38;5;33m \u001b[0m\u001b[38;5;33m                   \u001b[0m\u001b[38;5;33m \u001b[0m│\u001b[32m \u001b[0m\u001b[32mMm_EPI_18 \u001b[0m\u001b[32m \u001b[0m│\u001b[38;5;128m \u001b[0m\u001b[38;5;128m         6         \u001b[0m\u001b[38;5;128m \u001b[0m│\n",
       "│\u001b[38;5;33m \u001b[0m\u001b[38;5;33m                   \u001b[0m\u001b[38;5;33m \u001b[0m│\u001b[32m \u001b[0m\u001b[32mMm_EPI_19 \u001b[0m\u001b[32m \u001b[0m│\u001b[38;5;128m \u001b[0m\u001b[38;5;128m         7         \u001b[0m\u001b[38;5;128m \u001b[0m│\n",
       "│\u001b[38;5;33m \u001b[0m\u001b[38;5;33m                   \u001b[0m\u001b[38;5;33m \u001b[0m│\u001b[32m \u001b[0m\u001b[32mMm_ING_08 \u001b[0m\u001b[32m \u001b[0m│\u001b[38;5;128m \u001b[0m\u001b[38;5;128m         8         \u001b[0m\u001b[38;5;128m \u001b[0m│\n",
       "│\u001b[38;5;33m \u001b[0m\u001b[38;5;33m                   \u001b[0m\u001b[38;5;33m \u001b[0m│\u001b[32m \u001b[0m\u001b[32mMm_ING_09 \u001b[0m\u001b[32m \u001b[0m│\u001b[38;5;128m \u001b[0m\u001b[38;5;128m         9         \u001b[0m\u001b[38;5;128m \u001b[0m│\n",
       "│\u001b[38;5;33m \u001b[0m\u001b[38;5;33m                   \u001b[0m\u001b[38;5;33m \u001b[0m│\u001b[32m \u001b[0m\u001b[32mMm_ING_10 \u001b[0m\u001b[32m \u001b[0m│\u001b[38;5;128m \u001b[0m\u001b[38;5;128m        10         \u001b[0m\u001b[38;5;128m \u001b[0m│\n",
       "│\u001b[38;5;33m \u001b[0m\u001b[38;5;33m                   \u001b[0m\u001b[38;5;33m \u001b[0m│\u001b[32m \u001b[0m\u001b[32mMm_ING_11 \u001b[0m\u001b[32m \u001b[0m│\u001b[38;5;128m \u001b[0m\u001b[38;5;128m        11         \u001b[0m\u001b[38;5;128m \u001b[0m│\n",
       "│\u001b[38;5;33m \u001b[0m\u001b[38;5;33m                   \u001b[0m\u001b[38;5;33m \u001b[0m│\u001b[32m \u001b[0m\u001b[32mMm_ING_12 \u001b[0m\u001b[32m \u001b[0m│\u001b[38;5;128m \u001b[0m\u001b[38;5;128m        12         \u001b[0m\u001b[38;5;128m \u001b[0m│\n",
       "│\u001b[38;5;33m \u001b[0m\u001b[38;5;33m                   \u001b[0m\u001b[38;5;33m \u001b[0m│\u001b[32m \u001b[0m\u001b[32mMm_ING_13 \u001b[0m\u001b[32m \u001b[0m│\u001b[38;5;128m \u001b[0m\u001b[38;5;128m        13         \u001b[0m\u001b[38;5;128m \u001b[0m│\n",
       "│\u001b[38;5;33m \u001b[0m\u001b[38;5;33m                   \u001b[0m\u001b[38;5;33m \u001b[0m│\u001b[32m \u001b[0m\u001b[32mMm_ING_16 \u001b[0m\u001b[32m \u001b[0m│\u001b[38;5;128m \u001b[0m\u001b[38;5;128m        14         \u001b[0m\u001b[38;5;128m \u001b[0m│\n",
       "│\u001b[38;5;33m \u001b[0m\u001b[38;5;33m                   \u001b[0m\u001b[38;5;33m \u001b[0m│\u001b[32m \u001b[0m\u001b[32mMm_ING_17 \u001b[0m\u001b[32m \u001b[0m│\u001b[38;5;128m \u001b[0m\u001b[38;5;128m        15         \u001b[0m\u001b[38;5;128m \u001b[0m│\n",
       "│\u001b[38;5;33m \u001b[0m\u001b[38;5;33m                   \u001b[0m\u001b[38;5;33m \u001b[0m│\u001b[32m \u001b[0m\u001b[32mMm_ING_18 \u001b[0m\u001b[32m \u001b[0m│\u001b[38;5;128m \u001b[0m\u001b[38;5;128m        16         \u001b[0m\u001b[38;5;128m \u001b[0m│\n",
       "│\u001b[38;5;33m \u001b[0m\u001b[38;5;33m                   \u001b[0m\u001b[38;5;33m \u001b[0m│\u001b[32m \u001b[0m\u001b[32mMm_ING_19 \u001b[0m\u001b[32m \u001b[0m│\u001b[38;5;128m \u001b[0m\u001b[38;5;128m        17         \u001b[0m\u001b[38;5;128m \u001b[0m│\n",
       "│\u001b[38;5;33m \u001b[0m\u001b[38;5;33m                   \u001b[0m\u001b[38;5;33m \u001b[0m│\u001b[32m \u001b[0m\u001b[32mMm_ING_22 \u001b[0m\u001b[32m \u001b[0m│\u001b[38;5;128m \u001b[0m\u001b[38;5;128m        18         \u001b[0m\u001b[38;5;128m \u001b[0m│\n",
       "│\u001b[38;5;33m \u001b[0m\u001b[38;5;33m                   \u001b[0m\u001b[38;5;33m \u001b[0m│\u001b[32m \u001b[0m\u001b[32mMm_ING_24 \u001b[0m\u001b[32m \u001b[0m│\u001b[38;5;128m \u001b[0m\u001b[38;5;128m        19         \u001b[0m\u001b[38;5;128m \u001b[0m│\n",
       "│\u001b[38;5;33m \u001b[0m\u001b[38;5;33m                   \u001b[0m\u001b[38;5;33m \u001b[0m│\u001b[32m \u001b[0m\u001b[32mMm_POV_01 \u001b[0m\u001b[32m \u001b[0m│\u001b[38;5;128m \u001b[0m\u001b[38;5;128m        20         \u001b[0m\u001b[38;5;128m \u001b[0m│\n",
       "│\u001b[38;5;33m \u001b[0m\u001b[38;5;33m                   \u001b[0m\u001b[38;5;33m \u001b[0m│\u001b[32m \u001b[0m\u001b[32mMm_POV_02 \u001b[0m\u001b[32m \u001b[0m│\u001b[38;5;128m \u001b[0m\u001b[38;5;128m        21         \u001b[0m\u001b[38;5;128m \u001b[0m│\n",
       "│\u001b[38;5;33m \u001b[0m\u001b[38;5;33m                   \u001b[0m\u001b[38;5;33m \u001b[0m│\u001b[32m \u001b[0m\u001b[32mMm_POV_03 \u001b[0m\u001b[32m \u001b[0m│\u001b[38;5;128m \u001b[0m\u001b[38;5;128m        22         \u001b[0m\u001b[38;5;128m \u001b[0m│\n",
       "│\u001b[38;5;33m \u001b[0m\u001b[38;5;33m                   \u001b[0m\u001b[38;5;33m \u001b[0m│\u001b[32m \u001b[0m\u001b[32mMm_POV_04 \u001b[0m\u001b[32m \u001b[0m│\u001b[38;5;128m \u001b[0m\u001b[38;5;128m        23         \u001b[0m\u001b[38;5;128m \u001b[0m│\n",
       "└─────────────────────┴────────────┴─────────────────────┘\n"
      ]
     },
     "metadata": {},
     "output_type": "display_data"
    },
    {
     "data": {
      "text/html": [
       "<pre style=\"white-space:pre;overflow-x:auto;line-height:normal;font-family:Menlo,'DejaVu Sans Mono',consolas,'Courier New',monospace\"><span style=\"font-style: italic\">                         labels State Registry                          </span>\n",
       "┏━━━━━━━━━━━━━━━━━━━━━━━━┳━━━━━━━━━━━━━━━━━━━━━━━┳━━━━━━━━━━━━━━━━━━━━━┓\n",
       "┃<span style=\"font-weight: bold\">    Source Location     </span>┃<span style=\"font-weight: bold\">      Categories       </span>┃<span style=\"font-weight: bold\"> scvi-tools Encoding </span>┃\n",
       "┡━━━━━━━━━━━━━━━━━━━━━━━━╇━━━━━━━━━━━━━━━━━━━━━━━╇━━━━━━━━━━━━━━━━━━━━━┩\n",
       "│<span style=\"color: #0087ff; text-decoration-color: #0087ff\"> adata.obs['cell_type'] </span>│<span style=\"color: #008000; text-decoration-color: #008000\"> luminal_epithelial_AV </span>│<span style=\"color: #af00d7; text-decoration-color: #af00d7\">          0          </span>│\n",
       "│<span style=\"color: #0087ff; text-decoration-color: #0087ff\">                        </span>│<span style=\"color: #008000; text-decoration-color: #008000\"> luminal_epithelial_HS </span>│<span style=\"color: #af00d7; text-decoration-color: #af00d7\">          1          </span>│\n",
       "│<span style=\"color: #0087ff; text-decoration-color: #0087ff\">                        </span>│<span style=\"color: #008000; text-decoration-color: #008000\">        mASPC1         </span>│<span style=\"color: #af00d7; text-decoration-color: #af00d7\">          2          </span>│\n",
       "│<span style=\"color: #0087ff; text-decoration-color: #0087ff\">                        </span>│<span style=\"color: #008000; text-decoration-color: #008000\">        mASPC2         </span>│<span style=\"color: #af00d7; text-decoration-color: #af00d7\">          3          </span>│\n",
       "│<span style=\"color: #0087ff; text-decoration-color: #0087ff\">                        </span>│<span style=\"color: #008000; text-decoration-color: #008000\">        mASPC3         </span>│<span style=\"color: #af00d7; text-decoration-color: #af00d7\">          4          </span>│\n",
       "│<span style=\"color: #0087ff; text-decoration-color: #0087ff\">                        </span>│<span style=\"color: #008000; text-decoration-color: #008000\">        mASPC4         </span>│<span style=\"color: #af00d7; text-decoration-color: #af00d7\">          5          </span>│\n",
       "│<span style=\"color: #0087ff; text-decoration-color: #0087ff\">                        </span>│<span style=\"color: #008000; text-decoration-color: #008000\">        mASPC5         </span>│<span style=\"color: #af00d7; text-decoration-color: #af00d7\">          6          </span>│\n",
       "│<span style=\"color: #0087ff; text-decoration-color: #0087ff\">                        </span>│<span style=\"color: #008000; text-decoration-color: #008000\">        mASPC6         </span>│<span style=\"color: #af00d7; text-decoration-color: #af00d7\">          7          </span>│\n",
       "│<span style=\"color: #0087ff; text-decoration-color: #0087ff\">                        </span>│<span style=\"color: #008000; text-decoration-color: #008000\">         mAd1          </span>│<span style=\"color: #af00d7; text-decoration-color: #af00d7\">          8          </span>│\n",
       "│<span style=\"color: #0087ff; text-decoration-color: #0087ff\">                        </span>│<span style=\"color: #008000; text-decoration-color: #008000\">         mAd2          </span>│<span style=\"color: #af00d7; text-decoration-color: #af00d7\">          9          </span>│\n",
       "│<span style=\"color: #0087ff; text-decoration-color: #0087ff\">                        </span>│<span style=\"color: #008000; text-decoration-color: #008000\">         mAd3          </span>│<span style=\"color: #af00d7; text-decoration-color: #af00d7\">         10          </span>│\n",
       "│<span style=\"color: #0087ff; text-decoration-color: #0087ff\">                        </span>│<span style=\"color: #008000; text-decoration-color: #008000\">         mAd4          </span>│<span style=\"color: #af00d7; text-decoration-color: #af00d7\">         11          </span>│\n",
       "│<span style=\"color: #0087ff; text-decoration-color: #0087ff\">                        </span>│<span style=\"color: #008000; text-decoration-color: #008000\">         mAd5          </span>│<span style=\"color: #af00d7; text-decoration-color: #af00d7\">         12          </span>│\n",
       "│<span style=\"color: #0087ff; text-decoration-color: #0087ff\">                        </span>│<span style=\"color: #008000; text-decoration-color: #008000\">         mAd6          </span>│<span style=\"color: #af00d7; text-decoration-color: #af00d7\">         13          </span>│\n",
       "│<span style=\"color: #0087ff; text-decoration-color: #0087ff\">                        </span>│<span style=\"color: #008000; text-decoration-color: #008000\">        mBcell         </span>│<span style=\"color: #af00d7; text-decoration-color: #af00d7\">         14          </span>│\n",
       "│<span style=\"color: #0087ff; text-decoration-color: #0087ff\">                        </span>│<span style=\"color: #008000; text-decoration-color: #008000\">         mDC3          </span>│<span style=\"color: #af00d7; text-decoration-color: #af00d7\">         15          </span>│\n",
       "│<span style=\"color: #0087ff; text-decoration-color: #0087ff\">                        </span>│<span style=\"color: #008000; text-decoration-color: #008000\">        mEndoA1        </span>│<span style=\"color: #af00d7; text-decoration-color: #af00d7\">         16          </span>│\n",
       "│<span style=\"color: #0087ff; text-decoration-color: #0087ff\">                        </span>│<span style=\"color: #008000; text-decoration-color: #008000\">        mEndoA2        </span>│<span style=\"color: #af00d7; text-decoration-color: #af00d7\">         17          </span>│\n",
       "│<span style=\"color: #0087ff; text-decoration-color: #0087ff\">                        </span>│<span style=\"color: #008000; text-decoration-color: #008000\">        mEndoS1        </span>│<span style=\"color: #af00d7; text-decoration-color: #af00d7\">         18          </span>│\n",
       "│<span style=\"color: #0087ff; text-decoration-color: #0087ff\">                        </span>│<span style=\"color: #008000; text-decoration-color: #008000\">        mEndoS2        </span>│<span style=\"color: #af00d7; text-decoration-color: #af00d7\">         19          </span>│\n",
       "│<span style=\"color: #0087ff; text-decoration-color: #0087ff\">                        </span>│<span style=\"color: #008000; text-decoration-color: #008000\">        mEndoV         </span>│<span style=\"color: #af00d7; text-decoration-color: #af00d7\">         20          </span>│\n",
       "│<span style=\"color: #0087ff; text-decoration-color: #0087ff\">                        </span>│<span style=\"color: #008000; text-decoration-color: #008000\">         mLEC1         </span>│<span style=\"color: #af00d7; text-decoration-color: #af00d7\">         21          </span>│\n",
       "│<span style=\"color: #0087ff; text-decoration-color: #0087ff\">                        </span>│<span style=\"color: #008000; text-decoration-color: #008000\">         mLEC2         </span>│<span style=\"color: #af00d7; text-decoration-color: #af00d7\">         22          </span>│\n",
       "│<span style=\"color: #0087ff; text-decoration-color: #0087ff\">                        </span>│<span style=\"color: #008000; text-decoration-color: #008000\">         mMac1         </span>│<span style=\"color: #af00d7; text-decoration-color: #af00d7\">         23          </span>│\n",
       "│<span style=\"color: #0087ff; text-decoration-color: #0087ff\">                        </span>│<span style=\"color: #008000; text-decoration-color: #008000\">         mMac2         </span>│<span style=\"color: #af00d7; text-decoration-color: #af00d7\">         24          </span>│\n",
       "│<span style=\"color: #0087ff; text-decoration-color: #0087ff\">                        </span>│<span style=\"color: #008000; text-decoration-color: #008000\">         mMac3         </span>│<span style=\"color: #af00d7; text-decoration-color: #af00d7\">         25          </span>│\n",
       "│<span style=\"color: #0087ff; text-decoration-color: #0087ff\">                        </span>│<span style=\"color: #008000; text-decoration-color: #008000\">         mMac4         </span>│<span style=\"color: #af00d7; text-decoration-color: #af00d7\">         26          </span>│\n",
       "│<span style=\"color: #0087ff; text-decoration-color: #0087ff\">                        </span>│<span style=\"color: #008000; text-decoration-color: #008000\">         mMac5         </span>│<span style=\"color: #af00d7; text-decoration-color: #af00d7\">         27          </span>│\n",
       "│<span style=\"color: #0087ff; text-decoration-color: #0087ff\">                        </span>│<span style=\"color: #008000; text-decoration-color: #008000\">         mMast         </span>│<span style=\"color: #af00d7; text-decoration-color: #af00d7\">         28          </span>│\n",
       "│<span style=\"color: #0087ff; text-decoration-color: #0087ff\">                        </span>│<span style=\"color: #008000; text-decoration-color: #008000\">         mMes1         </span>│<span style=\"color: #af00d7; text-decoration-color: #af00d7\">         29          </span>│\n",
       "│<span style=\"color: #0087ff; text-decoration-color: #0087ff\">                        </span>│<span style=\"color: #008000; text-decoration-color: #008000\">         mMes2         </span>│<span style=\"color: #af00d7; text-decoration-color: #af00d7\">         30          </span>│\n",
       "│<span style=\"color: #0087ff; text-decoration-color: #0087ff\">                        </span>│<span style=\"color: #008000; text-decoration-color: #008000\">         mMes3         </span>│<span style=\"color: #af00d7; text-decoration-color: #af00d7\">         31          </span>│\n",
       "│<span style=\"color: #0087ff; text-decoration-color: #0087ff\">                        </span>│<span style=\"color: #008000; text-decoration-color: #008000\">        mMono1         </span>│<span style=\"color: #af00d7; text-decoration-color: #af00d7\">         32          </span>│\n",
       "│<span style=\"color: #0087ff; text-decoration-color: #0087ff\">                        </span>│<span style=\"color: #008000; text-decoration-color: #008000\">        mMono2         </span>│<span style=\"color: #af00d7; text-decoration-color: #af00d7\">         33          </span>│\n",
       "│<span style=\"color: #0087ff; text-decoration-color: #0087ff\">                        </span>│<span style=\"color: #008000; text-decoration-color: #008000\">          mNK          </span>│<span style=\"color: #af00d7; text-decoration-color: #af00d7\">         34          </span>│\n",
       "│<span style=\"color: #0087ff; text-decoration-color: #0087ff\">                        </span>│<span style=\"color: #008000; text-decoration-color: #008000\">         mNeu          </span>│<span style=\"color: #af00d7; text-decoration-color: #af00d7\">         35          </span>│\n",
       "│<span style=\"color: #0087ff; text-decoration-color: #0087ff\">                        </span>│<span style=\"color: #008000; text-decoration-color: #008000\">         mPeri         </span>│<span style=\"color: #af00d7; text-decoration-color: #af00d7\">         36          </span>│\n",
       "│<span style=\"color: #0087ff; text-decoration-color: #0087ff\">                        </span>│<span style=\"color: #008000; text-decoration-color: #008000\">         mSMC          </span>│<span style=\"color: #af00d7; text-decoration-color: #af00d7\">         37          </span>│\n",
       "│<span style=\"color: #0087ff; text-decoration-color: #0087ff\">                        </span>│<span style=\"color: #008000; text-decoration-color: #008000\">        mTcell1        </span>│<span style=\"color: #af00d7; text-decoration-color: #af00d7\">         38          </span>│\n",
       "│<span style=\"color: #0087ff; text-decoration-color: #0087ff\">                        </span>│<span style=\"color: #008000; text-decoration-color: #008000\">        mTcell2        </span>│<span style=\"color: #af00d7; text-decoration-color: #af00d7\">         39          </span>│\n",
       "│<span style=\"color: #0087ff; text-decoration-color: #0087ff\">                        </span>│<span style=\"color: #008000; text-decoration-color: #008000\">        mTcell3        </span>│<span style=\"color: #af00d7; text-decoration-color: #af00d7\">         40          </span>│\n",
       "│<span style=\"color: #0087ff; text-decoration-color: #0087ff\">                        </span>│<span style=\"color: #008000; text-decoration-color: #008000\">   male_epithelial_1   </span>│<span style=\"color: #af00d7; text-decoration-color: #af00d7\">         41          </span>│\n",
       "│<span style=\"color: #0087ff; text-decoration-color: #0087ff\">                        </span>│<span style=\"color: #008000; text-decoration-color: #008000\">   male_epithelial_2   </span>│<span style=\"color: #af00d7; text-decoration-color: #af00d7\">         42          </span>│\n",
       "│<span style=\"color: #0087ff; text-decoration-color: #0087ff\">                        </span>│<span style=\"color: #008000; text-decoration-color: #008000\">   male_epithelial_3   </span>│<span style=\"color: #af00d7; text-decoration-color: #af00d7\">         43          </span>│\n",
       "│<span style=\"color: #0087ff; text-decoration-color: #0087ff\">                        </span>│<span style=\"color: #008000; text-decoration-color: #008000\">  mammary_fibroblast   </span>│<span style=\"color: #af00d7; text-decoration-color: #af00d7\">         44          </span>│\n",
       "│<span style=\"color: #0087ff; text-decoration-color: #0087ff\">                        </span>│<span style=\"color: #008000; text-decoration-color: #008000\">         mcDC1         </span>│<span style=\"color: #af00d7; text-decoration-color: #af00d7\">         45          </span>│\n",
       "│<span style=\"color: #0087ff; text-decoration-color: #0087ff\">                        </span>│<span style=\"color: #008000; text-decoration-color: #008000\">         mcDC2         </span>│<span style=\"color: #af00d7; text-decoration-color: #af00d7\">         46          </span>│\n",
       "│<span style=\"color: #0087ff; text-decoration-color: #0087ff\">                        </span>│<span style=\"color: #008000; text-decoration-color: #008000\">     myoepithelial     </span>│<span style=\"color: #af00d7; text-decoration-color: #af00d7\">         47          </span>│\n",
       "└────────────────────────┴───────────────────────┴─────────────────────┘\n",
       "</pre>\n"
      ],
      "text/plain": [
       "\u001b[3m                         labels State Registry                          \u001b[0m\n",
       "┏━━━━━━━━━━━━━━━━━━━━━━━━┳━━━━━━━━━━━━━━━━━━━━━━━┳━━━━━━━━━━━━━━━━━━━━━┓\n",
       "┃\u001b[1m \u001b[0m\u001b[1m   Source Location    \u001b[0m\u001b[1m \u001b[0m┃\u001b[1m \u001b[0m\u001b[1m     Categories      \u001b[0m\u001b[1m \u001b[0m┃\u001b[1m \u001b[0m\u001b[1mscvi-tools Encoding\u001b[0m\u001b[1m \u001b[0m┃\n",
       "┡━━━━━━━━━━━━━━━━━━━━━━━━╇━━━━━━━━━━━━━━━━━━━━━━━╇━━━━━━━━━━━━━━━━━━━━━┩\n",
       "│\u001b[38;5;33m \u001b[0m\u001b[38;5;33madata.obs['cell_type']\u001b[0m\u001b[38;5;33m \u001b[0m│\u001b[32m \u001b[0m\u001b[32mluminal_epithelial_AV\u001b[0m\u001b[32m \u001b[0m│\u001b[38;5;128m \u001b[0m\u001b[38;5;128m         0         \u001b[0m\u001b[38;5;128m \u001b[0m│\n",
       "│\u001b[38;5;33m \u001b[0m\u001b[38;5;33m                      \u001b[0m\u001b[38;5;33m \u001b[0m│\u001b[32m \u001b[0m\u001b[32mluminal_epithelial_HS\u001b[0m\u001b[32m \u001b[0m│\u001b[38;5;128m \u001b[0m\u001b[38;5;128m         1         \u001b[0m\u001b[38;5;128m \u001b[0m│\n",
       "│\u001b[38;5;33m \u001b[0m\u001b[38;5;33m                      \u001b[0m\u001b[38;5;33m \u001b[0m│\u001b[32m \u001b[0m\u001b[32m       mASPC1        \u001b[0m\u001b[32m \u001b[0m│\u001b[38;5;128m \u001b[0m\u001b[38;5;128m         2         \u001b[0m\u001b[38;5;128m \u001b[0m│\n",
       "│\u001b[38;5;33m \u001b[0m\u001b[38;5;33m                      \u001b[0m\u001b[38;5;33m \u001b[0m│\u001b[32m \u001b[0m\u001b[32m       mASPC2        \u001b[0m\u001b[32m \u001b[0m│\u001b[38;5;128m \u001b[0m\u001b[38;5;128m         3         \u001b[0m\u001b[38;5;128m \u001b[0m│\n",
       "│\u001b[38;5;33m \u001b[0m\u001b[38;5;33m                      \u001b[0m\u001b[38;5;33m \u001b[0m│\u001b[32m \u001b[0m\u001b[32m       mASPC3        \u001b[0m\u001b[32m \u001b[0m│\u001b[38;5;128m \u001b[0m\u001b[38;5;128m         4         \u001b[0m\u001b[38;5;128m \u001b[0m│\n",
       "│\u001b[38;5;33m \u001b[0m\u001b[38;5;33m                      \u001b[0m\u001b[38;5;33m \u001b[0m│\u001b[32m \u001b[0m\u001b[32m       mASPC4        \u001b[0m\u001b[32m \u001b[0m│\u001b[38;5;128m \u001b[0m\u001b[38;5;128m         5         \u001b[0m\u001b[38;5;128m \u001b[0m│\n",
       "│\u001b[38;5;33m \u001b[0m\u001b[38;5;33m                      \u001b[0m\u001b[38;5;33m \u001b[0m│\u001b[32m \u001b[0m\u001b[32m       mASPC5        \u001b[0m\u001b[32m \u001b[0m│\u001b[38;5;128m \u001b[0m\u001b[38;5;128m         6         \u001b[0m\u001b[38;5;128m \u001b[0m│\n",
       "│\u001b[38;5;33m \u001b[0m\u001b[38;5;33m                      \u001b[0m\u001b[38;5;33m \u001b[0m│\u001b[32m \u001b[0m\u001b[32m       mASPC6        \u001b[0m\u001b[32m \u001b[0m│\u001b[38;5;128m \u001b[0m\u001b[38;5;128m         7         \u001b[0m\u001b[38;5;128m \u001b[0m│\n",
       "│\u001b[38;5;33m \u001b[0m\u001b[38;5;33m                      \u001b[0m\u001b[38;5;33m \u001b[0m│\u001b[32m \u001b[0m\u001b[32m        mAd1         \u001b[0m\u001b[32m \u001b[0m│\u001b[38;5;128m \u001b[0m\u001b[38;5;128m         8         \u001b[0m\u001b[38;5;128m \u001b[0m│\n",
       "│\u001b[38;5;33m \u001b[0m\u001b[38;5;33m                      \u001b[0m\u001b[38;5;33m \u001b[0m│\u001b[32m \u001b[0m\u001b[32m        mAd2         \u001b[0m\u001b[32m \u001b[0m│\u001b[38;5;128m \u001b[0m\u001b[38;5;128m         9         \u001b[0m\u001b[38;5;128m \u001b[0m│\n",
       "│\u001b[38;5;33m \u001b[0m\u001b[38;5;33m                      \u001b[0m\u001b[38;5;33m \u001b[0m│\u001b[32m \u001b[0m\u001b[32m        mAd3         \u001b[0m\u001b[32m \u001b[0m│\u001b[38;5;128m \u001b[0m\u001b[38;5;128m        10         \u001b[0m\u001b[38;5;128m \u001b[0m│\n",
       "│\u001b[38;5;33m \u001b[0m\u001b[38;5;33m                      \u001b[0m\u001b[38;5;33m \u001b[0m│\u001b[32m \u001b[0m\u001b[32m        mAd4         \u001b[0m\u001b[32m \u001b[0m│\u001b[38;5;128m \u001b[0m\u001b[38;5;128m        11         \u001b[0m\u001b[38;5;128m \u001b[0m│\n",
       "│\u001b[38;5;33m \u001b[0m\u001b[38;5;33m                      \u001b[0m\u001b[38;5;33m \u001b[0m│\u001b[32m \u001b[0m\u001b[32m        mAd5         \u001b[0m\u001b[32m \u001b[0m│\u001b[38;5;128m \u001b[0m\u001b[38;5;128m        12         \u001b[0m\u001b[38;5;128m \u001b[0m│\n",
       "│\u001b[38;5;33m \u001b[0m\u001b[38;5;33m                      \u001b[0m\u001b[38;5;33m \u001b[0m│\u001b[32m \u001b[0m\u001b[32m        mAd6         \u001b[0m\u001b[32m \u001b[0m│\u001b[38;5;128m \u001b[0m\u001b[38;5;128m        13         \u001b[0m\u001b[38;5;128m \u001b[0m│\n",
       "│\u001b[38;5;33m \u001b[0m\u001b[38;5;33m                      \u001b[0m\u001b[38;5;33m \u001b[0m│\u001b[32m \u001b[0m\u001b[32m       mBcell        \u001b[0m\u001b[32m \u001b[0m│\u001b[38;5;128m \u001b[0m\u001b[38;5;128m        14         \u001b[0m\u001b[38;5;128m \u001b[0m│\n",
       "│\u001b[38;5;33m \u001b[0m\u001b[38;5;33m                      \u001b[0m\u001b[38;5;33m \u001b[0m│\u001b[32m \u001b[0m\u001b[32m        mDC3         \u001b[0m\u001b[32m \u001b[0m│\u001b[38;5;128m \u001b[0m\u001b[38;5;128m        15         \u001b[0m\u001b[38;5;128m \u001b[0m│\n",
       "│\u001b[38;5;33m \u001b[0m\u001b[38;5;33m                      \u001b[0m\u001b[38;5;33m \u001b[0m│\u001b[32m \u001b[0m\u001b[32m       mEndoA1       \u001b[0m\u001b[32m \u001b[0m│\u001b[38;5;128m \u001b[0m\u001b[38;5;128m        16         \u001b[0m\u001b[38;5;128m \u001b[0m│\n",
       "│\u001b[38;5;33m \u001b[0m\u001b[38;5;33m                      \u001b[0m\u001b[38;5;33m \u001b[0m│\u001b[32m \u001b[0m\u001b[32m       mEndoA2       \u001b[0m\u001b[32m \u001b[0m│\u001b[38;5;128m \u001b[0m\u001b[38;5;128m        17         \u001b[0m\u001b[38;5;128m \u001b[0m│\n",
       "│\u001b[38;5;33m \u001b[0m\u001b[38;5;33m                      \u001b[0m\u001b[38;5;33m \u001b[0m│\u001b[32m \u001b[0m\u001b[32m       mEndoS1       \u001b[0m\u001b[32m \u001b[0m│\u001b[38;5;128m \u001b[0m\u001b[38;5;128m        18         \u001b[0m\u001b[38;5;128m \u001b[0m│\n",
       "│\u001b[38;5;33m \u001b[0m\u001b[38;5;33m                      \u001b[0m\u001b[38;5;33m \u001b[0m│\u001b[32m \u001b[0m\u001b[32m       mEndoS2       \u001b[0m\u001b[32m \u001b[0m│\u001b[38;5;128m \u001b[0m\u001b[38;5;128m        19         \u001b[0m\u001b[38;5;128m \u001b[0m│\n",
       "│\u001b[38;5;33m \u001b[0m\u001b[38;5;33m                      \u001b[0m\u001b[38;5;33m \u001b[0m│\u001b[32m \u001b[0m\u001b[32m       mEndoV        \u001b[0m\u001b[32m \u001b[0m│\u001b[38;5;128m \u001b[0m\u001b[38;5;128m        20         \u001b[0m\u001b[38;5;128m \u001b[0m│\n",
       "│\u001b[38;5;33m \u001b[0m\u001b[38;5;33m                      \u001b[0m\u001b[38;5;33m \u001b[0m│\u001b[32m \u001b[0m\u001b[32m        mLEC1        \u001b[0m\u001b[32m \u001b[0m│\u001b[38;5;128m \u001b[0m\u001b[38;5;128m        21         \u001b[0m\u001b[38;5;128m \u001b[0m│\n",
       "│\u001b[38;5;33m \u001b[0m\u001b[38;5;33m                      \u001b[0m\u001b[38;5;33m \u001b[0m│\u001b[32m \u001b[0m\u001b[32m        mLEC2        \u001b[0m\u001b[32m \u001b[0m│\u001b[38;5;128m \u001b[0m\u001b[38;5;128m        22         \u001b[0m\u001b[38;5;128m \u001b[0m│\n",
       "│\u001b[38;5;33m \u001b[0m\u001b[38;5;33m                      \u001b[0m\u001b[38;5;33m \u001b[0m│\u001b[32m \u001b[0m\u001b[32m        mMac1        \u001b[0m\u001b[32m \u001b[0m│\u001b[38;5;128m \u001b[0m\u001b[38;5;128m        23         \u001b[0m\u001b[38;5;128m \u001b[0m│\n",
       "│\u001b[38;5;33m \u001b[0m\u001b[38;5;33m                      \u001b[0m\u001b[38;5;33m \u001b[0m│\u001b[32m \u001b[0m\u001b[32m        mMac2        \u001b[0m\u001b[32m \u001b[0m│\u001b[38;5;128m \u001b[0m\u001b[38;5;128m        24         \u001b[0m\u001b[38;5;128m \u001b[0m│\n",
       "│\u001b[38;5;33m \u001b[0m\u001b[38;5;33m                      \u001b[0m\u001b[38;5;33m \u001b[0m│\u001b[32m \u001b[0m\u001b[32m        mMac3        \u001b[0m\u001b[32m \u001b[0m│\u001b[38;5;128m \u001b[0m\u001b[38;5;128m        25         \u001b[0m\u001b[38;5;128m \u001b[0m│\n",
       "│\u001b[38;5;33m \u001b[0m\u001b[38;5;33m                      \u001b[0m\u001b[38;5;33m \u001b[0m│\u001b[32m \u001b[0m\u001b[32m        mMac4        \u001b[0m\u001b[32m \u001b[0m│\u001b[38;5;128m \u001b[0m\u001b[38;5;128m        26         \u001b[0m\u001b[38;5;128m \u001b[0m│\n",
       "│\u001b[38;5;33m \u001b[0m\u001b[38;5;33m                      \u001b[0m\u001b[38;5;33m \u001b[0m│\u001b[32m \u001b[0m\u001b[32m        mMac5        \u001b[0m\u001b[32m \u001b[0m│\u001b[38;5;128m \u001b[0m\u001b[38;5;128m        27         \u001b[0m\u001b[38;5;128m \u001b[0m│\n",
       "│\u001b[38;5;33m \u001b[0m\u001b[38;5;33m                      \u001b[0m\u001b[38;5;33m \u001b[0m│\u001b[32m \u001b[0m\u001b[32m        mMast        \u001b[0m\u001b[32m \u001b[0m│\u001b[38;5;128m \u001b[0m\u001b[38;5;128m        28         \u001b[0m\u001b[38;5;128m \u001b[0m│\n",
       "│\u001b[38;5;33m \u001b[0m\u001b[38;5;33m                      \u001b[0m\u001b[38;5;33m \u001b[0m│\u001b[32m \u001b[0m\u001b[32m        mMes1        \u001b[0m\u001b[32m \u001b[0m│\u001b[38;5;128m \u001b[0m\u001b[38;5;128m        29         \u001b[0m\u001b[38;5;128m \u001b[0m│\n",
       "│\u001b[38;5;33m \u001b[0m\u001b[38;5;33m                      \u001b[0m\u001b[38;5;33m \u001b[0m│\u001b[32m \u001b[0m\u001b[32m        mMes2        \u001b[0m\u001b[32m \u001b[0m│\u001b[38;5;128m \u001b[0m\u001b[38;5;128m        30         \u001b[0m\u001b[38;5;128m \u001b[0m│\n",
       "│\u001b[38;5;33m \u001b[0m\u001b[38;5;33m                      \u001b[0m\u001b[38;5;33m \u001b[0m│\u001b[32m \u001b[0m\u001b[32m        mMes3        \u001b[0m\u001b[32m \u001b[0m│\u001b[38;5;128m \u001b[0m\u001b[38;5;128m        31         \u001b[0m\u001b[38;5;128m \u001b[0m│\n",
       "│\u001b[38;5;33m \u001b[0m\u001b[38;5;33m                      \u001b[0m\u001b[38;5;33m \u001b[0m│\u001b[32m \u001b[0m\u001b[32m       mMono1        \u001b[0m\u001b[32m \u001b[0m│\u001b[38;5;128m \u001b[0m\u001b[38;5;128m        32         \u001b[0m\u001b[38;5;128m \u001b[0m│\n",
       "│\u001b[38;5;33m \u001b[0m\u001b[38;5;33m                      \u001b[0m\u001b[38;5;33m \u001b[0m│\u001b[32m \u001b[0m\u001b[32m       mMono2        \u001b[0m\u001b[32m \u001b[0m│\u001b[38;5;128m \u001b[0m\u001b[38;5;128m        33         \u001b[0m\u001b[38;5;128m \u001b[0m│\n",
       "│\u001b[38;5;33m \u001b[0m\u001b[38;5;33m                      \u001b[0m\u001b[38;5;33m \u001b[0m│\u001b[32m \u001b[0m\u001b[32m         mNK         \u001b[0m\u001b[32m \u001b[0m│\u001b[38;5;128m \u001b[0m\u001b[38;5;128m        34         \u001b[0m\u001b[38;5;128m \u001b[0m│\n",
       "│\u001b[38;5;33m \u001b[0m\u001b[38;5;33m                      \u001b[0m\u001b[38;5;33m \u001b[0m│\u001b[32m \u001b[0m\u001b[32m        mNeu         \u001b[0m\u001b[32m \u001b[0m│\u001b[38;5;128m \u001b[0m\u001b[38;5;128m        35         \u001b[0m\u001b[38;5;128m \u001b[0m│\n",
       "│\u001b[38;5;33m \u001b[0m\u001b[38;5;33m                      \u001b[0m\u001b[38;5;33m \u001b[0m│\u001b[32m \u001b[0m\u001b[32m        mPeri        \u001b[0m\u001b[32m \u001b[0m│\u001b[38;5;128m \u001b[0m\u001b[38;5;128m        36         \u001b[0m\u001b[38;5;128m \u001b[0m│\n",
       "│\u001b[38;5;33m \u001b[0m\u001b[38;5;33m                      \u001b[0m\u001b[38;5;33m \u001b[0m│\u001b[32m \u001b[0m\u001b[32m        mSMC         \u001b[0m\u001b[32m \u001b[0m│\u001b[38;5;128m \u001b[0m\u001b[38;5;128m        37         \u001b[0m\u001b[38;5;128m \u001b[0m│\n",
       "│\u001b[38;5;33m \u001b[0m\u001b[38;5;33m                      \u001b[0m\u001b[38;5;33m \u001b[0m│\u001b[32m \u001b[0m\u001b[32m       mTcell1       \u001b[0m\u001b[32m \u001b[0m│\u001b[38;5;128m \u001b[0m\u001b[38;5;128m        38         \u001b[0m\u001b[38;5;128m \u001b[0m│\n",
       "│\u001b[38;5;33m \u001b[0m\u001b[38;5;33m                      \u001b[0m\u001b[38;5;33m \u001b[0m│\u001b[32m \u001b[0m\u001b[32m       mTcell2       \u001b[0m\u001b[32m \u001b[0m│\u001b[38;5;128m \u001b[0m\u001b[38;5;128m        39         \u001b[0m\u001b[38;5;128m \u001b[0m│\n",
       "│\u001b[38;5;33m \u001b[0m\u001b[38;5;33m                      \u001b[0m\u001b[38;5;33m \u001b[0m│\u001b[32m \u001b[0m\u001b[32m       mTcell3       \u001b[0m\u001b[32m \u001b[0m│\u001b[38;5;128m \u001b[0m\u001b[38;5;128m        40         \u001b[0m\u001b[38;5;128m \u001b[0m│\n",
       "│\u001b[38;5;33m \u001b[0m\u001b[38;5;33m                      \u001b[0m\u001b[38;5;33m \u001b[0m│\u001b[32m \u001b[0m\u001b[32m  male_epithelial_1  \u001b[0m\u001b[32m \u001b[0m│\u001b[38;5;128m \u001b[0m\u001b[38;5;128m        41         \u001b[0m\u001b[38;5;128m \u001b[0m│\n",
       "│\u001b[38;5;33m \u001b[0m\u001b[38;5;33m                      \u001b[0m\u001b[38;5;33m \u001b[0m│\u001b[32m \u001b[0m\u001b[32m  male_epithelial_2  \u001b[0m\u001b[32m \u001b[0m│\u001b[38;5;128m \u001b[0m\u001b[38;5;128m        42         \u001b[0m\u001b[38;5;128m \u001b[0m│\n",
       "│\u001b[38;5;33m \u001b[0m\u001b[38;5;33m                      \u001b[0m\u001b[38;5;33m \u001b[0m│\u001b[32m \u001b[0m\u001b[32m  male_epithelial_3  \u001b[0m\u001b[32m \u001b[0m│\u001b[38;5;128m \u001b[0m\u001b[38;5;128m        43         \u001b[0m\u001b[38;5;128m \u001b[0m│\n",
       "│\u001b[38;5;33m \u001b[0m\u001b[38;5;33m                      \u001b[0m\u001b[38;5;33m \u001b[0m│\u001b[32m \u001b[0m\u001b[32m mammary_fibroblast  \u001b[0m\u001b[32m \u001b[0m│\u001b[38;5;128m \u001b[0m\u001b[38;5;128m        44         \u001b[0m\u001b[38;5;128m \u001b[0m│\n",
       "│\u001b[38;5;33m \u001b[0m\u001b[38;5;33m                      \u001b[0m\u001b[38;5;33m \u001b[0m│\u001b[32m \u001b[0m\u001b[32m        mcDC1        \u001b[0m\u001b[32m \u001b[0m│\u001b[38;5;128m \u001b[0m\u001b[38;5;128m        45         \u001b[0m\u001b[38;5;128m \u001b[0m│\n",
       "│\u001b[38;5;33m \u001b[0m\u001b[38;5;33m                      \u001b[0m\u001b[38;5;33m \u001b[0m│\u001b[32m \u001b[0m\u001b[32m        mcDC2        \u001b[0m\u001b[32m \u001b[0m│\u001b[38;5;128m \u001b[0m\u001b[38;5;128m        46         \u001b[0m\u001b[38;5;128m \u001b[0m│\n",
       "│\u001b[38;5;33m \u001b[0m\u001b[38;5;33m                      \u001b[0m\u001b[38;5;33m \u001b[0m│\u001b[32m \u001b[0m\u001b[32m    myoepithelial    \u001b[0m\u001b[32m \u001b[0m│\u001b[38;5;128m \u001b[0m\u001b[38;5;128m        47         \u001b[0m\u001b[38;5;128m \u001b[0m│\n",
       "└────────────────────────┴───────────────────────┴─────────────────────┘\n"
      ]
     },
     "metadata": {},
     "output_type": "display_data"
    }
   ],
   "source": [
    "# create the regression model\n",
    "from cell2location.models import RegressionModel\n",
    "mod = RegressionModel(adata_ref)\n",
    "\n",
    "# view anndata_setup as a sanity check\n",
    "mod.view_anndata_setup()"
   ]
  },
  {
   "cell_type": "code",
   "execution_count": 13,
   "id": "9adf0e12",
   "metadata": {
    "execution": {
     "iopub.execute_input": "2023-03-13T08:17:31.935541Z",
     "iopub.status.busy": "2023-03-13T08:17:31.935346Z",
     "iopub.status.idle": "2023-03-13T17:15:25.592592Z",
     "shell.execute_reply": "2023-03-13T17:15:25.591783Z"
    }
   },
   "outputs": [
    {
     "name": "stderr",
     "output_type": "stream",
     "text": [
      "GPU available: False, used: False\n",
      "TPU available: False, using: 0 TPU cores\n",
      "IPU available: False, using: 0 IPUs\n",
      "HPU available: False, using: 0 HPUs\n"
     ]
    },
    {
     "name": "stdout",
     "output_type": "stream",
     "text": [
      "Epoch 250/250: 100%|██████████| 250/250 [8:57:53<00:00, 130.18s/it, v_num=1, elbo_train=9.93e+8]"
     ]
    },
    {
     "name": "stderr",
     "output_type": "stream",
     "text": [
      "`Trainer.fit` stopped: `max_epochs=250` reached.\n"
     ]
    },
    {
     "name": "stdout",
     "output_type": "stream",
     "text": [
      "Epoch 250/250: 100%|██████████| 250/250 [8:57:53<00:00, 129.09s/it, v_num=1, elbo_train=9.93e+8]\n"
     ]
    }
   ],
   "source": [
    "## train model\n",
    "mod.train(max_epochs=250, use_gpu=False)"
   ]
  },
  {
   "cell_type": "code",
   "execution_count": 14,
   "id": "294b2346",
   "metadata": {
    "execution": {
     "iopub.execute_input": "2023-03-13T17:15:25.596726Z",
     "iopub.status.busy": "2023-03-13T17:15:25.596524Z",
     "iopub.status.idle": "2023-03-13T17:15:25.779418Z",
     "shell.execute_reply": "2023-03-13T17:15:25.778253Z"
    }
   },
   "outputs": [
    {
     "data": {
      "image/png": "[encoded data removed]",
      "text/plain": [
       "<Figure size 640x480 with 1 Axes>"
      ]
     },
     "metadata": {},
     "output_type": "display_data"
    }
   ],
   "source": [
    "mod.plot_history(20)"
   ]
  },
  {
   "cell_type": "code",
   "execution_count": 15,
   "id": "5db3bf07",
   "metadata": {
    "execution": {
     "iopub.execute_input": "2023-03-13T17:15:25.784404Z",
     "iopub.status.busy": "2023-03-13T17:15:25.783545Z",
     "iopub.status.idle": "2023-03-13T17:20:46.436654Z",
     "shell.execute_reply": "2023-03-13T17:20:46.434787Z"
    }
   },
   "outputs": [
    {
     "name": "stdout",
     "output_type": "stream",
     "text": [
      "Sampling local variables, batch:   0%|          | 0/80 [00:00<?, ?it/s]\n",
      "Sampling global variables, sample: 100%|██████████| 999/999 [02:37<00:00,  6.33it/s]\n"
     ]
    },
    {
     "data": {
      "text/plain": [
       "'/home/ssobti/projects/farnaz_spatial/output_data/cell2location/pt1/reference_signatures/sc.h5ad'"
      ]
     },
     "execution_count": 15,
     "metadata": {},
     "output_type": "execute_result"
    }
   ],
   "source": [
    "# In this section, we export the estimated cell abundance (summary of the posterior distribution).\n",
    "adata_ref = mod.export_posterior(\n",
    "    adata_ref, sample_kwargs={'num_samples': 1000, 'batch_size': 2500, 'use_gpu': False}\n",
    ")\n",
    "\n",
    "# Save model\n",
    "mod.save(f\"{ref_run_name}\", overwrite=True)\n",
    "\n",
    "# Save anndata object with results\n",
    "adata_file = f\"{ref_run_name}/sc.h5ad\"\n",
    "adata_ref.write(adata_file)\n",
    "adata_file"
   ]
  },
  {
   "cell_type": "code",
   "execution_count": 16,
   "id": "355308a1",
   "metadata": {
    "execution": {
     "iopub.execute_input": "2023-03-13T17:20:46.443395Z",
     "iopub.status.busy": "2023-03-13T17:20:46.443051Z",
     "iopub.status.idle": "2023-03-13T17:31:26.997006Z",
     "shell.execute_reply": "2023-03-13T17:31:26.995809Z"
    }
   },
   "outputs": [],
   "source": [
    "adata_ref = mod.export_posterior(\n",
    "    adata_ref, use_quantiles=True,\n",
    "    # choose quantiles\n",
    "    add_to_varm=[\"q05\",\"q50\", \"q95\", \"q0001\"],\n",
    "    sample_kwargs={'batch_size': 2500, 'use_gpu': False}\n",
    ")"
   ]
  },
  {
   "cell_type": "code",
   "execution_count": 17,
   "id": "a0a710bd",
   "metadata": {
    "execution": {
     "iopub.execute_input": "2023-03-13T17:31:27.002404Z",
     "iopub.status.busy": "2023-03-13T17:31:27.002089Z",
     "iopub.status.idle": "2023-03-13T17:31:27.211499Z",
     "shell.execute_reply": "2023-03-13T17:31:27.210697Z"
    }
   },
   "outputs": [
    {
     "ename": "KeyError",
     "evalue": "'post_sample_means'",
     "output_type": "error",
     "traceback": [
      "\u001b[0;31m---------------------------------------------------------------------------\u001b[0m",
      "\u001b[0;31mKeyError\u001b[0m                                  Traceback (most recent call last)",
      "Cell \u001b[0;32mIn[17], line 1\u001b[0m\n\u001b[0;32m----> 1\u001b[0m \u001b[43mmod\u001b[49m\u001b[38;5;241;43m.\u001b[39;49m\u001b[43mplot_QC\u001b[49m\u001b[43m(\u001b[49m\u001b[43m)\u001b[49m\n",
      "File \u001b[0;32m~/miniconda3/envs/cell2loc_env/lib/python3.10/site-packages/cell2location/models/reference/_reference_model.py:294\u001b[0m, in \u001b[0;36mRegressionModel.plot_QC\u001b[0;34m(self, summary_name, use_n_obs, scale_average_detection)\u001b[0m\n\u001b[1;32m    265\u001b[0m \u001b[38;5;28;01mdef\u001b[39;00m \u001b[38;5;21mplot_QC\u001b[39m(\n\u001b[1;32m    266\u001b[0m     \u001b[38;5;28mself\u001b[39m,\n\u001b[1;32m    267\u001b[0m     summary_name: \u001b[38;5;28mstr\u001b[39m \u001b[38;5;241m=\u001b[39m \u001b[38;5;124m\"\u001b[39m\u001b[38;5;124mmeans\u001b[39m\u001b[38;5;124m\"\u001b[39m,\n\u001b[1;32m    268\u001b[0m     use_n_obs: \u001b[38;5;28mint\u001b[39m \u001b[38;5;241m=\u001b[39m \u001b[38;5;241m1000\u001b[39m,\n\u001b[1;32m    269\u001b[0m     scale_average_detection: \u001b[38;5;28mbool\u001b[39m \u001b[38;5;241m=\u001b[39m \u001b[38;5;28;01mTrue\u001b[39;00m,\n\u001b[1;32m    270\u001b[0m ):\n\u001b[1;32m    271\u001b[0m \u001b[38;5;250m    \u001b[39m\u001b[38;5;124;03m\"\"\"\u001b[39;00m\n\u001b[1;32m    272\u001b[0m \u001b[38;5;124;03m    Show quality control plots:\u001b[39;00m\n\u001b[1;32m    273\u001b[0m \u001b[38;5;124;03m    1. Reconstruction accuracy to assess if there are any issues with model training.\u001b[39;00m\n\u001b[0;32m   (...)\u001b[0m\n\u001b[1;32m    291\u001b[0m \n\u001b[1;32m    292\u001b[0m \u001b[38;5;124;03m    \"\"\"\u001b[39;00m\n\u001b[0;32m--> 294\u001b[0m     \u001b[38;5;28;43msuper\u001b[39;49m\u001b[43m(\u001b[49m\u001b[43m)\u001b[49m\u001b[38;5;241;43m.\u001b[39;49m\u001b[43mplot_QC\u001b[49m\u001b[43m(\u001b[49m\u001b[43msummary_name\u001b[49m\u001b[38;5;241;43m=\u001b[39;49m\u001b[43msummary_name\u001b[49m\u001b[43m,\u001b[49m\u001b[43m \u001b[49m\u001b[43muse_n_obs\u001b[49m\u001b[38;5;241;43m=\u001b[39;49m\u001b[43muse_n_obs\u001b[49m\u001b[43m)\u001b[49m\n\u001b[1;32m    295\u001b[0m     plt\u001b[38;5;241m.\u001b[39mshow()\n\u001b[1;32m    297\u001b[0m     inf_aver \u001b[38;5;241m=\u001b[39m \u001b[38;5;28mself\u001b[39m\u001b[38;5;241m.\u001b[39msamples[\u001b[38;5;124mf\u001b[39m\u001b[38;5;124m\"\u001b[39m\u001b[38;5;124mpost_sample_\u001b[39m\u001b[38;5;132;01m{\u001b[39;00msummary_name\u001b[38;5;132;01m}\u001b[39;00m\u001b[38;5;124m\"\u001b[39m][\u001b[38;5;124m\"\u001b[39m\u001b[38;5;124mper_cluster_mu_fg\u001b[39m\u001b[38;5;124m\"\u001b[39m]\u001b[38;5;241m.\u001b[39mT\n",
      "File \u001b[0;32m~/miniconda3/envs/cell2loc_env/lib/python3.10/site-packages/cell2location/models/base/_pyro_mixin.py:575\u001b[0m, in \u001b[0;36mPltExportMixin.plot_QC\u001b[0;34m(self, summary_name, use_n_obs)\u001b[0m\n\u001b[1;32m    571\u001b[0m \u001b[38;5;28;01melse\u001b[39;00m:\n\u001b[1;32m    572\u001b[0m     ind_x \u001b[38;5;241m=\u001b[39m \u001b[38;5;28;01mNone\u001b[39;00m\n\u001b[1;32m    574\u001b[0m \u001b[38;5;28mself\u001b[39m\u001b[38;5;241m.\u001b[39mexpected_nb_param \u001b[38;5;241m=\u001b[39m \u001b[38;5;28mself\u001b[39m\u001b[38;5;241m.\u001b[39mmodule\u001b[38;5;241m.\u001b[39mmodel\u001b[38;5;241m.\u001b[39mcompute_expected(\n\u001b[0;32m--> 575\u001b[0m     \u001b[38;5;28;43mself\u001b[39;49m\u001b[38;5;241;43m.\u001b[39;49m\u001b[43msamples\u001b[49m\u001b[43m[\u001b[49m\u001b[38;5;124;43mf\u001b[39;49m\u001b[38;5;124;43m\"\u001b[39;49m\u001b[38;5;124;43mpost_sample_\u001b[39;49m\u001b[38;5;132;43;01m{\u001b[39;49;00m\u001b[43msummary_name\u001b[49m\u001b[38;5;132;43;01m}\u001b[39;49;00m\u001b[38;5;124;43m\"\u001b[39;49m\u001b[43m]\u001b[49m, \u001b[38;5;28mself\u001b[39m\u001b[38;5;241m.\u001b[39madata_manager, ind_x\u001b[38;5;241m=\u001b[39mind_x\n\u001b[1;32m    576\u001b[0m )\n\u001b[1;32m    577\u001b[0m x_data \u001b[38;5;241m=\u001b[39m \u001b[38;5;28mself\u001b[39m\u001b[38;5;241m.\u001b[39madata_manager\u001b[38;5;241m.\u001b[39mget_from_registry(REGISTRY_KEYS\u001b[38;5;241m.\u001b[39mX_KEY)[ind_x, :]\n\u001b[1;32m    578\u001b[0m \u001b[38;5;28;01mif\u001b[39;00m issparse(x_data):\n",
      "\u001b[0;31mKeyError\u001b[0m: 'post_sample_means'"
     ]
    }
   ],
   "source": [
    "mod.plot_QC()"
   ]
  },
  {
   "cell_type": "raw",
   "id": "43999e3b",
   "metadata": {},
   "source": [
    "## loading model\n",
    "adata_file = f\"{ref_run_name}/sc.h5ad\"\n",
    "adata_ref = sc.read_h5ad(adata_file)\n",
    "mod = cell2location.models.RegressionModel.load(f\"{ref_run_name}\", adata_ref)"
   ]
  },
  {
   "cell_type": "code",
   "execution_count": null,
   "id": "698a0d75",
   "metadata": {},
   "outputs": [],
   "source": []
  }
 ],
 "metadata": {
  "kernelspec": {
   "display_name": "cell2loc_env",
   "language": "python",
   "name": "cell2loc_env"
  },
  "language_info": {
   "codemirror_mode": {
    "name": "ipython",
    "version": 3
   },
   "file_extension": ".py",
   "mimetype": "text/x-python",
   "name": "python",
   "nbconvert_exporter": "python",
   "pygments_lexer": "ipython3",
   "version": "3.10.9"
  }
 },
 "nbformat": 4,
 "nbformat_minor": 5
}
