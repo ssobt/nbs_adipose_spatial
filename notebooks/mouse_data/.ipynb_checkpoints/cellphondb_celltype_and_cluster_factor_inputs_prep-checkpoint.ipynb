{
 "cells": [
  {
   "cell_type": "code",
   "execution_count": null,
   "id": "0ebb6e07-b37a-4aa5-8f31-69a9ff73f25c",
   "metadata": {},
   "outputs": [],
   "source": [
    "## Notebook env: farnaz_spatial (R kernel)"
   ]
  },
  {
   "cell_type": "code",
   "execution_count": 1,
   "id": "068c13d7-aec2-49cf-8df7-e7b6c3965f97",
   "metadata": {},
   "outputs": [
    {
     "name": "stderr",
     "output_type": "stream",
     "text": [
      "Attaching SeuratObject\n",
      "\n"
     ]
    }
   ],
   "source": [
    "library(Seurat)\n",
    "library(SeuratObject)\n",
    "library(Matrix)\n",
    "library(biomaRt)"
   ]
  },
  {
   "cell_type": "code",
   "execution_count": 2,
   "id": "8e7c657e-45c0-40e6-b8b9-6ff536f972ed",
   "metadata": {},
   "outputs": [],
   "source": [
    "paths = paste0('/home/ssobti/projects/farnaz_spatial/output_data/seurat/', c('A1', 'B1', 'C1', 'D1'), '_seuratprocessed.rds')\n",
    "slices_seurat = lapply(X = paths, FUN = readRDS)"
   ]
  },
  {
   "cell_type": "code",
   "execution_count": 3,
   "id": "9704fa36-5c01-440a-9b46-881e20f1d330",
   "metadata": {},
   "outputs": [],
   "source": [
    "names(slices_seurat) = c('A1', 'B1', 'C1', 'D1')"
   ]
  },
  {
   "cell_type": "code",
   "execution_count": 4,
   "id": "136f7465-beca-4288-8c5d-5fd28434c452",
   "metadata": {},
   "outputs": [],
   "source": [
    "normalized_mtxs = lapply(slices_seurat, GetAssayData, assay = 'SCT', slot = 'data')"
   ]
  },
  {
   "cell_type": "markdown",
   "id": "b35373d9-b31c-48f0-af05-29498d0e54b2",
   "metadata": {},
   "source": [
    "## 1. Celltype based cellphonedb data prep"
   ]
  },
  {
   "cell_type": "code",
   "execution_count": 125,
   "id": "14fc7d58-131a-4748-8713-2aefbde95c71",
   "metadata": {},
   "outputs": [],
   "source": [
    "mtx_paths = paste0('/home/ssobti/projects/farnaz_spatial/output_data/cellphonedb/celltype_prepped_data/', names(slices_seurat), '_data', '/matrix.mtx')\n",
    "feature_paths = paste0('/home/ssobti/projects/farnaz_spatial/output_data/cellphonedb/celltype_prepped_data/', names(slices_seurat), '_data', '/features.tsv')\n",
    "barcode_paths = paste0('/home/ssobti/projects/farnaz_spatial/output_data/cellphonedb/celltype_prepped_data/', names(slices_seurat), '_data', '/barcodes.tsv')\n",
    "meta_paths = paste0('/home/ssobti/projects/farnaz_spatial/output_data/cellphonedb/celltype_prepped_data/', names(slices_seurat), '_meta.tsv')"
   ]
  },
  {
   "cell_type": "code",
   "execution_count": 126,
   "id": "198bf184-d5fb-4979-bacd-603b38415031",
   "metadata": {},
   "outputs": [
    {
     "data": {
      "text/html": [
       "<style>\n",
       ".list-inline {list-style: none; margin:0; padding: 0}\n",
       ".list-inline>li {display: inline-block}\n",
       ".list-inline>li:not(:last-child)::after {content: \"\\00b7\"; padding: 0 .5ex}\n",
       "</style>\n",
       "<ol class=list-inline><li>'/home/ssobti/projects/farnaz_spatial/output_data/cellphonedb/celltype_prepped_data/A1_data/matrix.mtx'</li><li>'/home/ssobti/projects/farnaz_spatial/output_data/cellphonedb/celltype_prepped_data/B1_data/matrix.mtx'</li><li>'/home/ssobti/projects/farnaz_spatial/output_data/cellphonedb/celltype_prepped_data/C1_data/matrix.mtx'</li><li>'/home/ssobti/projects/farnaz_spatial/output_data/cellphonedb/celltype_prepped_data/D1_data/matrix.mtx'</li></ol>\n"
      ],
      "text/latex": [
       "\\begin{enumerate*}\n",
       "\\item '/home/ssobti/projects/farnaz\\_spatial/output\\_data/cellphonedb/celltype\\_prepped\\_data/A1\\_data/matrix.mtx'\n",
       "\\item '/home/ssobti/projects/farnaz\\_spatial/output\\_data/cellphonedb/celltype\\_prepped\\_data/B1\\_data/matrix.mtx'\n",
       "\\item '/home/ssobti/projects/farnaz\\_spatial/output\\_data/cellphonedb/celltype\\_prepped\\_data/C1\\_data/matrix.mtx'\n",
       "\\item '/home/ssobti/projects/farnaz\\_spatial/output\\_data/cellphonedb/celltype\\_prepped\\_data/D1\\_data/matrix.mtx'\n",
       "\\end{enumerate*}\n"
      ],
      "text/markdown": [
       "1. '/home/ssobti/projects/farnaz_spatial/output_data/cellphonedb/celltype_prepped_data/A1_data/matrix.mtx'\n",
       "2. '/home/ssobti/projects/farnaz_spatial/output_data/cellphonedb/celltype_prepped_data/B1_data/matrix.mtx'\n",
       "3. '/home/ssobti/projects/farnaz_spatial/output_data/cellphonedb/celltype_prepped_data/C1_data/matrix.mtx'\n",
       "4. '/home/ssobti/projects/farnaz_spatial/output_data/cellphonedb/celltype_prepped_data/D1_data/matrix.mtx'\n",
       "\n",
       "\n"
      ],
      "text/plain": [
       "[1] \"/home/ssobti/projects/farnaz_spatial/output_data/cellphonedb/celltype_prepped_data/A1_data/matrix.mtx\"\n",
       "[2] \"/home/ssobti/projects/farnaz_spatial/output_data/cellphonedb/celltype_prepped_data/B1_data/matrix.mtx\"\n",
       "[3] \"/home/ssobti/projects/farnaz_spatial/output_data/cellphonedb/celltype_prepped_data/C1_data/matrix.mtx\"\n",
       "[4] \"/home/ssobti/projects/farnaz_spatial/output_data/cellphonedb/celltype_prepped_data/D1_data/matrix.mtx\""
      ]
     },
     "metadata": {},
     "output_type": "display_data"
    }
   ],
   "source": [
    "mtx_paths"
   ]
  },
  {
   "cell_type": "code",
   "execution_count": 32,
   "id": "a572d31c-f78b-43a7-a212-0c6d32a55851",
   "metadata": {},
   "outputs": [],
   "source": [
    "mouse_features = lapply(normalized_mtxs, rownames)"
   ]
  },
  {
   "cell_type": "code",
   "execution_count": 7,
   "id": "488de299-fb24-4dab-8b10-b908825a15da",
   "metadata": {},
   "outputs": [
    {
     "name": "stderr",
     "output_type": "stream",
     "text": [
      "\n",
      "Attaching package: ‘dplyr’\n",
      "\n",
      "\n",
      "The following object is masked from ‘package:biomaRt’:\n",
      "\n",
      "    select\n",
      "\n",
      "\n",
      "The following objects are masked from ‘package:stats’:\n",
      "\n",
      "    filter, lag\n",
      "\n",
      "\n",
      "The following objects are masked from ‘package:base’:\n",
      "\n",
      "    intersect, setdiff, setequal, union\n",
      "\n",
      "\n"
     ]
    }
   ],
   "source": [
    "# Basic function to convert mouse to human gene names\n",
    "convertMouseGeneList <- function(x){\n",
    "require(\"biomaRt\")\n",
    "human = useMart(\"ensembl\", dataset = \"hsapiens_gene_ensembl\")\n",
    "mouse = useMart(\"ensembl\", dataset = \"mmusculus_gene_ensembl\")\n",
    "genesV2 = getLDS(attributes = c(\"mgi_symbol\"), filters = \"mgi_symbol\", values = x , mart = mouse, attributesL = c(\"hgnc_symbol\"), martL = human, uniqueRows=T)\n",
    "humanx <- unique(genesV2[, 2])\n",
    "# Print the first 6 genes found to the screen\n",
    "print(head(humanx))\n",
    "return(humanx)\n",
    "}\n",
    "\n",
    "\n",
    "library(dplyr)\n",
    "\n",
    "mouse_human_genes = read.csv(\"http://www.informatics.jax.org/downloads/reports/HOM_MouseHumanSequence.rpt\",sep=\"\\t\")\n",
    "\n",
    "convert_mouse_to_human <- function(gene_list){\n",
    "\n",
    "  output = c()\n",
    "\n",
    "  for(gene in gene_list){\n",
    "    class_key = (mouse_human_genes %>% filter(Symbol == gene & Common.Organism.Name==\"mouse, laboratory\"))[['DB.Class.Key']]\n",
    "    if(!identical(class_key, integer(0)) ){\n",
    "      human_genes = (mouse_human_genes %>% filter(DB.Class.Key == class_key & Common.Organism.Name==\"human\"))[,\"Symbol\"]\n",
    "      for(human_gene in human_genes){\n",
    "        output = append(output,human_gene)\n",
    "      }\n",
    "    }\n",
    "  }\n",
    "\n",
    "  return (output)\n",
    "}"
   ]
  },
  {
   "cell_type": "code",
   "execution_count": 37,
   "id": "b5c8a515-3276-4a90-b42a-5bffff4bd5c3",
   "metadata": {},
   "outputs": [],
   "source": [
    "## a single run of function should take 5 mins -- this loop finds genes that find a 1:1 mouse:human mapping\n",
    "\n",
    "mouse_to_human <- function(features_mouse){\n",
    "    features_human = vector(mode = 'character', length = length(features_mouse))\n",
    "    tracker = vector(mode = 'character', length = length(features_mouse))\n",
    "    pb = txtProgressBar(min = 0, max = length(features_mouse), initial = 0, style = 3)\n",
    "    for (i in 1:length(features_mouse)){\n",
    "        out = convert_mouse_to_human(features_mouse[i])\n",
    "        if (length(out) < 1){\n",
    "            tracker[i] = 'none'\n",
    "        }\n",
    "        if (length(out) > 1){\n",
    "            tracker[i] = 'multiple'\n",
    "        }\n",
    "        if (length(out) == 1){\n",
    "            features_human[i] = out\n",
    "            tracker[i] = 'single'\n",
    "        }\n",
    "        setTxtProgressBar(pb,i)\n",
    "    }\n",
    "    return(list(features_human, tracker))\n",
    "    close(pb)\n",
    "}\n"
   ]
  },
  {
   "cell_type": "code",
   "execution_count": 39,
   "id": "152b933b-5fb4-4c31-83c4-f6e4bc292bfc",
   "metadata": {},
   "outputs": [
    {
     "name": "stdout",
     "output_type": "stream",
     "text": [
      "  |=====================================================                 |  76%"
     ]
    },
    {
     "name": "stderr",
     "output_type": "stream",
     "text": [
      "Warning message in DB.Class.Key == class_key:\n",
      "“longer object length is not a multiple of shorter object length”\n"
     ]
    },
    {
     "name": "stdout",
     "output_type": "stream",
     "text": [
      "  |======================================================                |  77%"
     ]
    },
    {
     "name": "stderr",
     "output_type": "stream",
     "text": [
      "Warning message in DB.Class.Key == class_key:\n",
      "“longer object length is not a multiple of shorter object length”\n"
     ]
    },
    {
     "name": "stdout",
     "output_type": "stream",
     "text": [
      "  |======================================================                |  77%"
     ]
    },
    {
     "name": "stderr",
     "output_type": "stream",
     "text": [
      "Warning message in DB.Class.Key == class_key:\n",
      "“longer object length is not a multiple of shorter object length”\n"
     ]
    },
    {
     "name": "stdout",
     "output_type": "stream",
     "text": [
      "  |======================================================                |  77%"
     ]
    },
    {
     "name": "stderr",
     "output_type": "stream",
     "text": [
      "Warning message in DB.Class.Key == class_key:\n",
      "“longer object length is not a multiple of shorter object length”\n"
     ]
    },
    {
     "name": "stdout",
     "output_type": "stream",
     "text": [
      "  |======================================================                |  77%"
     ]
    },
    {
     "name": "stderr",
     "output_type": "stream",
     "text": [
      "Warning message in DB.Class.Key == class_key:\n",
      "“longer object length is not a multiple of shorter object length”\n"
     ]
    },
    {
     "name": "stdout",
     "output_type": "stream",
     "text": [
      "  |======================================================================| 100%"
     ]
    }
   ],
   "source": [
    "human_output = lapply(mouse_features, mouse_to_human)"
   ]
  },
  {
   "cell_type": "code",
   "execution_count": 41,
   "id": "f81f731d-6fd2-4970-94ec-a900c084fc1b",
   "metadata": {},
   "outputs": [],
   "source": [
    "gene_filtered_mtxs = mapply(FUN = function(mtx, human_out){return(mtx[which(human_out[[2]] == 'single'),])}, \n",
    "                            normalized_mtxs, human_output)"
   ]
  },
  {
   "cell_type": "code",
   "execution_count": null,
   "id": "61957c57-d447-4055-b89c-12121d729af1",
   "metadata": {},
   "outputs": [
    {
     "data": {
      "text/html": [
       "<dl>\n",
       "\t<dt>$A1</dt>\n",
       "\t\t<dd><style>\n",
       ".list-inline {list-style: none; margin:0; padding: 0}\n",
       ".list-inline>li {display: inline-block}\n",
       ".list-inline>li:not(:last-child)::after {content: \"\\00b7\"; padding: 0 .5ex}\n",
       "</style>\n",
       "<ol class=list-inline><li>13145</li><li>2733</li></ol>\n",
       "</dd>\n",
       "\t<dt>$B1</dt>\n",
       "\t\t<dd><style>\n",
       ".list-inline {list-style: none; margin:0; padding: 0}\n",
       ".list-inline>li {display: inline-block}\n",
       ".list-inline>li:not(:last-child)::after {content: \"\\00b7\"; padding: 0 .5ex}\n",
       "</style>\n",
       "<ol class=list-inline><li>12877</li><li>2387</li></ol>\n",
       "</dd>\n",
       "\t<dt>$C1</dt>\n",
       "\t\t<dd><style>\n",
       ".list-inline {list-style: none; margin:0; padding: 0}\n",
       ".list-inline>li {display: inline-block}\n",
       ".list-inline>li:not(:last-child)::after {content: \"\\00b7\"; padding: 0 .5ex}\n",
       "</style>\n",
       "<ol class=list-inline><li>12924</li><li>2890</li></ol>\n",
       "</dd>\n",
       "\t<dt>$D1</dt>\n",
       "\t\t<dd><style>\n",
       ".list-inline {list-style: none; margin:0; padding: 0}\n",
       ".list-inline>li {display: inline-block}\n",
       ".list-inline>li:not(:last-child)::after {content: \"\\00b7\"; padding: 0 .5ex}\n",
       "</style>\n",
       "<ol class=list-inline><li>12535</li><li>2476</li></ol>\n",
       "</dd>\n",
       "</dl>\n"
      ],
      "text/latex": [
       "\\begin{description}\n",
       "\\item[\\$A1] \\begin{enumerate*}\n",
       "\\item 13145\n",
       "\\item 2733\n",
       "\\end{enumerate*}\n",
       "\n",
       "\\item[\\$B1] \\begin{enumerate*}\n",
       "\\item 12877\n",
       "\\item 2387\n",
       "\\end{enumerate*}\n",
       "\n",
       "\\item[\\$C1] \\begin{enumerate*}\n",
       "\\item 12924\n",
       "\\item 2890\n",
       "\\end{enumerate*}\n",
       "\n",
       "\\item[\\$D1] \\begin{enumerate*}\n",
       "\\item 12535\n",
       "\\item 2476\n",
       "\\end{enumerate*}\n",
       "\n",
       "\\end{description}\n"
      ],
      "text/markdown": [
       "$A1\n",
       ":   1. 13145\n",
       "2. 2733\n",
       "\n",
       "\n",
       "\n",
       "$B1\n",
       ":   1. 12877\n",
       "2. 2387\n",
       "\n",
       "\n",
       "\n",
       "$C1\n",
       ":   1. 12924\n",
       "2. 2890\n",
       "\n",
       "\n",
       "\n",
       "$D1\n",
       ":   1. 12535\n",
       "2. 2476\n",
       "\n",
       "\n",
       "\n",
       "\n",
       "\n"
      ],
      "text/plain": [
       "$A1\n",
       "[1] 13145  2733\n",
       "\n",
       "$B1\n",
       "[1] 12877  2387\n",
       "\n",
       "$C1\n",
       "[1] 12924  2890\n",
       "\n",
       "$D1\n",
       "[1] 12535  2476\n"
      ]
     },
     "metadata": {},
     "output_type": "display_data"
    }
   ],
   "source": [
    "lapply(gene_filtered_mtxs, dim)"
   ]
  },
  {
   "cell_type": "code",
   "execution_count": 44,
   "id": "7a64e76d-53f5-4f31-b767-0d4c427682a8",
   "metadata": {},
   "outputs": [],
   "source": [
    "barcodes = lapply(gene_filtered_mtxs, colnames)"
   ]
  },
  {
   "cell_type": "code",
   "execution_count": 49,
   "id": "ffd7c20b-5538-4cbf-9205-95fa4dea410e",
   "metadata": {},
   "outputs": [
    {
     "data": {
      "text/html": [
       "<dl>\n",
       "\t<dt>$A1</dt>\n",
       "\t\t<dd>NULL</dd>\n",
       "\t<dt>$B1</dt>\n",
       "\t\t<dd>NULL</dd>\n",
       "\t<dt>$C1</dt>\n",
       "\t\t<dd>NULL</dd>\n",
       "\t<dt>$D1</dt>\n",
       "\t\t<dd>NULL</dd>\n",
       "</dl>\n"
      ],
      "text/latex": [
       "\\begin{description}\n",
       "\\item[\\$A1] NULL\n",
       "\\item[\\$B1] NULL\n",
       "\\item[\\$C1] NULL\n",
       "\\item[\\$D1] NULL\n",
       "\\end{description}\n"
      ],
      "text/markdown": [
       "$A1\n",
       ":   NULL\n",
       "$B1\n",
       ":   NULL\n",
       "$C1\n",
       ":   NULL\n",
       "$D1\n",
       ":   NULL\n",
       "\n",
       "\n"
      ],
      "text/plain": [
       "$A1\n",
       "NULL\n",
       "\n",
       "$B1\n",
       "NULL\n",
       "\n",
       "$C1\n",
       "NULL\n",
       "\n",
       "$D1\n",
       "NULL\n"
      ]
     },
     "metadata": {},
     "output_type": "display_data"
    }
   ],
   "source": [
    "mapply(FUN = writeMM, gene_filtered_mtxs, mtx_paths)"
   ]
  },
  {
   "cell_type": "code",
   "execution_count": 51,
   "id": "be0cba7d-30fb-4fe0-a597-c01c2fc80a32",
   "metadata": {},
   "outputs": [],
   "source": [
    "human_features = lapply(human_output, function(human_out){human_out[[1]][which(human_out[[2]] == 'single')]})"
   ]
  },
  {
   "cell_type": "code",
   "execution_count": 52,
   "id": "b533d3a2-f79d-498e-9f90-5370aa9e394d",
   "metadata": {},
   "outputs": [
    {
     "data": {
      "text/html": [
       "<dl>\n",
       "\t<dt>$A1</dt>\n",
       "\t\t<dd>13145</dd>\n",
       "\t<dt>$B1</dt>\n",
       "\t\t<dd>12877</dd>\n",
       "\t<dt>$C1</dt>\n",
       "\t\t<dd>12924</dd>\n",
       "\t<dt>$D1</dt>\n",
       "\t\t<dd>12535</dd>\n",
       "</dl>\n"
      ],
      "text/latex": [
       "\\begin{description}\n",
       "\\item[\\$A1] 13145\n",
       "\\item[\\$B1] 12877\n",
       "\\item[\\$C1] 12924\n",
       "\\item[\\$D1] 12535\n",
       "\\end{description}\n"
      ],
      "text/markdown": [
       "$A1\n",
       ":   13145\n",
       "$B1\n",
       ":   12877\n",
       "$C1\n",
       ":   12924\n",
       "$D1\n",
       ":   12535\n",
       "\n",
       "\n"
      ],
      "text/plain": [
       "$A1\n",
       "[1] 13145\n",
       "\n",
       "$B1\n",
       "[1] 12877\n",
       "\n",
       "$C1\n",
       "[1] 12924\n",
       "\n",
       "$D1\n",
       "[1] 12535\n"
      ]
     },
     "metadata": {},
     "output_type": "display_data"
    }
   ],
   "source": [
    "lapply(human_features, length)"
   ]
  },
  {
   "cell_type": "code",
   "execution_count": 53,
   "id": "a5f84162-b86b-4df3-8d00-1d30b741624e",
   "metadata": {},
   "outputs": [
    {
     "data": {
      "text/html": [
       "<dl>\n",
       "\t<dt>$A1</dt>\n",
       "\t\t<dd>NULL</dd>\n",
       "\t<dt>$B1</dt>\n",
       "\t\t<dd>NULL</dd>\n",
       "\t<dt>$C1</dt>\n",
       "\t\t<dd>NULL</dd>\n",
       "\t<dt>$D1</dt>\n",
       "\t\t<dd>NULL</dd>\n",
       "</dl>\n"
      ],
      "text/latex": [
       "\\begin{description}\n",
       "\\item[\\$A1] NULL\n",
       "\\item[\\$B1] NULL\n",
       "\\item[\\$C1] NULL\n",
       "\\item[\\$D1] NULL\n",
       "\\end{description}\n"
      ],
      "text/markdown": [
       "$A1\n",
       ":   NULL\n",
       "$B1\n",
       ":   NULL\n",
       "$C1\n",
       ":   NULL\n",
       "$D1\n",
       ":   NULL\n",
       "\n",
       "\n"
      ],
      "text/plain": [
       "$A1\n",
       "NULL\n",
       "\n",
       "$B1\n",
       "NULL\n",
       "\n",
       "$C1\n",
       "NULL\n",
       "\n",
       "$D1\n",
       "NULL\n"
      ]
     },
     "metadata": {},
     "output_type": "display_data"
    },
    {
     "data": {
      "text/html": [
       "<dl>\n",
       "\t<dt>$A1</dt>\n",
       "\t\t<dd>NULL</dd>\n",
       "\t<dt>$B1</dt>\n",
       "\t\t<dd>NULL</dd>\n",
       "\t<dt>$C1</dt>\n",
       "\t\t<dd>NULL</dd>\n",
       "\t<dt>$D1</dt>\n",
       "\t\t<dd>NULL</dd>\n",
       "</dl>\n"
      ],
      "text/latex": [
       "\\begin{description}\n",
       "\\item[\\$A1] NULL\n",
       "\\item[\\$B1] NULL\n",
       "\\item[\\$C1] NULL\n",
       "\\item[\\$D1] NULL\n",
       "\\end{description}\n"
      ],
      "text/markdown": [
       "$A1\n",
       ":   NULL\n",
       "$B1\n",
       ":   NULL\n",
       "$C1\n",
       ":   NULL\n",
       "$D1\n",
       ":   NULL\n",
       "\n",
       "\n"
      ],
      "text/plain": [
       "$A1\n",
       "NULL\n",
       "\n",
       "$B1\n",
       "NULL\n",
       "\n",
       "$C1\n",
       "NULL\n",
       "\n",
       "$D1\n",
       "NULL\n"
      ]
     },
     "metadata": {},
     "output_type": "display_data"
    }
   ],
   "source": [
    "# Save normalised counts - NOT scaled!\n",
    "# save gene and cell names\n",
    "mapply(FUN = write, human_features, feature_paths)\n",
    "mapply(FUN = write, barcodes, barcode_paths)"
   ]
  },
  {
   "cell_type": "code",
   "execution_count": 59,
   "id": "e523423b-2ad8-4bc0-b5c0-09a2875cfa7b",
   "metadata": {},
   "outputs": [
    {
     "data": {
      "text/html": [
       "<table class=\"dataframe\">\n",
       "<caption>A matrix: 6 × 2733 of type dbl</caption>\n",
       "<thead>\n",
       "\t<tr><th></th><th scope=col>AAACAAGTATCTCCCA-1</th><th scope=col>AAACACCAATAACTGC-1</th><th scope=col>AAACAGCTTTCAGAAG-1</th><th scope=col>AAACAGGGTCTATATT-1</th><th scope=col>AAACAGTGTTCCTGGG-1</th><th scope=col>AAACATGGTGAGAGGA-1</th><th scope=col>AAACATTTCCCGGATT-1</th><th scope=col>AAACCGGGTAGGTACC-1</th><th scope=col>AAACCGTTCGTCCAGG-1</th><th scope=col>AAACCTAAGCAGCCGG-1</th><th scope=col>⋯</th><th scope=col>TTGTGGTAGGAGGGAT-1</th><th scope=col>TTGTGGTGGTACTAAG-1</th><th scope=col>TTGTGTATGCCACCAA-1</th><th scope=col>TTGTGTTTCCCGAAAG-1</th><th scope=col>TTGTTCTAGATACGCT-1</th><th scope=col>TTGTTTCACATCCAGG-1</th><th scope=col>TTGTTTCATTAGTCTA-1</th><th scope=col>TTGTTTCCATACAACT-1</th><th scope=col>TTGTTTGTATTACACG-1</th><th scope=col>TTGTTTGTGTAAATTC-1</th></tr>\n",
       "</thead>\n",
       "<tbody>\n",
       "\t<tr><th scope=row>CD14-cells-cluster30</th><td>0.00000000</td><td>0</td><td>0.00000000</td><td>0.00000000</td><td>0</td><td>0.0000000</td><td>0.00000000</td><td>0</td><td>0.00000000</td><td>0</td><td>⋯</td><td>0.00000000</td><td>0</td><td>0.00000000</td><td>0</td><td>0</td><td>0.00000000</td><td>0.00000000</td><td>0.00000000</td><td>0</td><td>0</td></tr>\n",
       "\t<tr><th scope=row>B-cells</th><td>0.00000000</td><td>0</td><td>0.00000000</td><td>0.00000000</td><td>0</td><td>0.0000000</td><td>0.00000000</td><td>0</td><td>0.00000000</td><td>0</td><td>⋯</td><td>0.00000000</td><td>0</td><td>0.00000000</td><td>0</td><td>0</td><td>0.00000000</td><td>0.00000000</td><td>0.00000000</td><td>0</td><td>0</td></tr>\n",
       "\t<tr><th scope=row>Th1-cells</th><td>0.00000000</td><td>0</td><td>0.00000000</td><td>0.00000000</td><td>0</td><td>0.0000000</td><td>0.00000000</td><td>0</td><td>0.00000000</td><td>0</td><td>⋯</td><td>0.00000000</td><td>0</td><td>0.00000000</td><td>0</td><td>0</td><td>0.00000000</td><td>0.00000000</td><td>0.00000000</td><td>0</td><td>0</td></tr>\n",
       "\t<tr><th scope=row>Macrophages-cluster28</th><td>0.00000000</td><td>0</td><td>0.00000000</td><td>0.00000000</td><td>0</td><td>0.0000000</td><td>0.00000000</td><td>0</td><td>0.00000000</td><td>0</td><td>⋯</td><td>0.00000000</td><td>0</td><td>0.00000000</td><td>0</td><td>0</td><td>0.00000000</td><td>0.00000000</td><td>0.00000000</td><td>0</td><td>0</td></tr>\n",
       "\t<tr><th scope=row>VSM</th><td>0.02393297</td><td>0</td><td>0.02521082</td><td>0.02367646</td><td>0</td><td>0.0191896</td><td>0.02436918</td><td>0</td><td>0.01608867</td><td>0</td><td>⋯</td><td>0.01997683</td><td>0</td><td>0.01635382</td><td>0</td><td>0</td><td>0.02528993</td><td>0.01914578</td><td>0.02059904</td><td>0</td><td>0</td></tr>\n",
       "\t<tr><th scope=row>NK-cells</th><td>0.00000000</td><td>0</td><td>0.00000000</td><td>0.00000000</td><td>0</td><td>0.0000000</td><td>0.00000000</td><td>0</td><td>0.00000000</td><td>0</td><td>⋯</td><td>0.00000000</td><td>0</td><td>0.00000000</td><td>0</td><td>0</td><td>0.00000000</td><td>0.00000000</td><td>0.00000000</td><td>0</td><td>0</td></tr>\n",
       "</tbody>\n",
       "</table>\n"
      ],
      "text/latex": [
       "A matrix: 6 × 2733 of type dbl\n",
       "\\begin{tabular}{r|lllllllllllllllllllll}\n",
       "  & AAACAAGTATCTCCCA-1 & AAACACCAATAACTGC-1 & AAACAGCTTTCAGAAG-1 & AAACAGGGTCTATATT-1 & AAACAGTGTTCCTGGG-1 & AAACATGGTGAGAGGA-1 & AAACATTTCCCGGATT-1 & AAACCGGGTAGGTACC-1 & AAACCGTTCGTCCAGG-1 & AAACCTAAGCAGCCGG-1 & ⋯ & TTGTGGTAGGAGGGAT-1 & TTGTGGTGGTACTAAG-1 & TTGTGTATGCCACCAA-1 & TTGTGTTTCCCGAAAG-1 & TTGTTCTAGATACGCT-1 & TTGTTTCACATCCAGG-1 & TTGTTTCATTAGTCTA-1 & TTGTTTCCATACAACT-1 & TTGTTTGTATTACACG-1 & TTGTTTGTGTAAATTC-1\\\\\n",
       "\\hline\n",
       "\tCD14-cells-cluster30 & 0.00000000 & 0 & 0.00000000 & 0.00000000 & 0 & 0.0000000 & 0.00000000 & 0 & 0.00000000 & 0 & ⋯ & 0.00000000 & 0 & 0.00000000 & 0 & 0 & 0.00000000 & 0.00000000 & 0.00000000 & 0 & 0\\\\\n",
       "\tB-cells & 0.00000000 & 0 & 0.00000000 & 0.00000000 & 0 & 0.0000000 & 0.00000000 & 0 & 0.00000000 & 0 & ⋯ & 0.00000000 & 0 & 0.00000000 & 0 & 0 & 0.00000000 & 0.00000000 & 0.00000000 & 0 & 0\\\\\n",
       "\tTh1-cells & 0.00000000 & 0 & 0.00000000 & 0.00000000 & 0 & 0.0000000 & 0.00000000 & 0 & 0.00000000 & 0 & ⋯ & 0.00000000 & 0 & 0.00000000 & 0 & 0 & 0.00000000 & 0.00000000 & 0.00000000 & 0 & 0\\\\\n",
       "\tMacrophages-cluster28 & 0.00000000 & 0 & 0.00000000 & 0.00000000 & 0 & 0.0000000 & 0.00000000 & 0 & 0.00000000 & 0 & ⋯ & 0.00000000 & 0 & 0.00000000 & 0 & 0 & 0.00000000 & 0.00000000 & 0.00000000 & 0 & 0\\\\\n",
       "\tVSM & 0.02393297 & 0 & 0.02521082 & 0.02367646 & 0 & 0.0191896 & 0.02436918 & 0 & 0.01608867 & 0 & ⋯ & 0.01997683 & 0 & 0.01635382 & 0 & 0 & 0.02528993 & 0.01914578 & 0.02059904 & 0 & 0\\\\\n",
       "\tNK-cells & 0.00000000 & 0 & 0.00000000 & 0.00000000 & 0 & 0.0000000 & 0.00000000 & 0 & 0.00000000 & 0 & ⋯ & 0.00000000 & 0 & 0.00000000 & 0 & 0 & 0.00000000 & 0.00000000 & 0.00000000 & 0 & 0\\\\\n",
       "\\end{tabular}\n"
      ],
      "text/markdown": [
       "\n",
       "A matrix: 6 × 2733 of type dbl\n",
       "\n",
       "| <!--/--> | AAACAAGTATCTCCCA-1 | AAACACCAATAACTGC-1 | AAACAGCTTTCAGAAG-1 | AAACAGGGTCTATATT-1 | AAACAGTGTTCCTGGG-1 | AAACATGGTGAGAGGA-1 | AAACATTTCCCGGATT-1 | AAACCGGGTAGGTACC-1 | AAACCGTTCGTCCAGG-1 | AAACCTAAGCAGCCGG-1 | ⋯ | TTGTGGTAGGAGGGAT-1 | TTGTGGTGGTACTAAG-1 | TTGTGTATGCCACCAA-1 | TTGTGTTTCCCGAAAG-1 | TTGTTCTAGATACGCT-1 | TTGTTTCACATCCAGG-1 | TTGTTTCATTAGTCTA-1 | TTGTTTCCATACAACT-1 | TTGTTTGTATTACACG-1 | TTGTTTGTGTAAATTC-1 |\n",
       "|---|---|---|---|---|---|---|---|---|---|---|---|---|---|---|---|---|---|---|---|---|---|\n",
       "| CD14-cells-cluster30 | 0.00000000 | 0 | 0.00000000 | 0.00000000 | 0 | 0.0000000 | 0.00000000 | 0 | 0.00000000 | 0 | ⋯ | 0.00000000 | 0 | 0.00000000 | 0 | 0 | 0.00000000 | 0.00000000 | 0.00000000 | 0 | 0 |\n",
       "| B-cells | 0.00000000 | 0 | 0.00000000 | 0.00000000 | 0 | 0.0000000 | 0.00000000 | 0 | 0.00000000 | 0 | ⋯ | 0.00000000 | 0 | 0.00000000 | 0 | 0 | 0.00000000 | 0.00000000 | 0.00000000 | 0 | 0 |\n",
       "| Th1-cells | 0.00000000 | 0 | 0.00000000 | 0.00000000 | 0 | 0.0000000 | 0.00000000 | 0 | 0.00000000 | 0 | ⋯ | 0.00000000 | 0 | 0.00000000 | 0 | 0 | 0.00000000 | 0.00000000 | 0.00000000 | 0 | 0 |\n",
       "| Macrophages-cluster28 | 0.00000000 | 0 | 0.00000000 | 0.00000000 | 0 | 0.0000000 | 0.00000000 | 0 | 0.00000000 | 0 | ⋯ | 0.00000000 | 0 | 0.00000000 | 0 | 0 | 0.00000000 | 0.00000000 | 0.00000000 | 0 | 0 |\n",
       "| VSM | 0.02393297 | 0 | 0.02521082 | 0.02367646 | 0 | 0.0191896 | 0.02436918 | 0 | 0.01608867 | 0 | ⋯ | 0.01997683 | 0 | 0.01635382 | 0 | 0 | 0.02528993 | 0.01914578 | 0.02059904 | 0 | 0 |\n",
       "| NK-cells | 0.00000000 | 0 | 0.00000000 | 0.00000000 | 0 | 0.0000000 | 0.00000000 | 0 | 0.00000000 | 0 | ⋯ | 0.00000000 | 0 | 0.00000000 | 0 | 0 | 0.00000000 | 0.00000000 | 0.00000000 | 0 | 0 |\n",
       "\n"
      ],
      "text/plain": [
       "                      AAACAAGTATCTCCCA-1 AAACACCAATAACTGC-1 AAACAGCTTTCAGAAG-1\n",
       "CD14-cells-cluster30  0.00000000         0                  0.00000000        \n",
       "B-cells               0.00000000         0                  0.00000000        \n",
       "Th1-cells             0.00000000         0                  0.00000000        \n",
       "Macrophages-cluster28 0.00000000         0                  0.00000000        \n",
       "VSM                   0.02393297         0                  0.02521082        \n",
       "NK-cells              0.00000000         0                  0.00000000        \n",
       "                      AAACAGGGTCTATATT-1 AAACAGTGTTCCTGGG-1 AAACATGGTGAGAGGA-1\n",
       "CD14-cells-cluster30  0.00000000         0                  0.0000000         \n",
       "B-cells               0.00000000         0                  0.0000000         \n",
       "Th1-cells             0.00000000         0                  0.0000000         \n",
       "Macrophages-cluster28 0.00000000         0                  0.0000000         \n",
       "VSM                   0.02367646         0                  0.0191896         \n",
       "NK-cells              0.00000000         0                  0.0000000         \n",
       "                      AAACATTTCCCGGATT-1 AAACCGGGTAGGTACC-1 AAACCGTTCGTCCAGG-1\n",
       "CD14-cells-cluster30  0.00000000         0                  0.00000000        \n",
       "B-cells               0.00000000         0                  0.00000000        \n",
       "Th1-cells             0.00000000         0                  0.00000000        \n",
       "Macrophages-cluster28 0.00000000         0                  0.00000000        \n",
       "VSM                   0.02436918         0                  0.01608867        \n",
       "NK-cells              0.00000000         0                  0.00000000        \n",
       "                      AAACCTAAGCAGCCGG-1 ⋯ TTGTGGTAGGAGGGAT-1\n",
       "CD14-cells-cluster30  0                  ⋯ 0.00000000        \n",
       "B-cells               0                  ⋯ 0.00000000        \n",
       "Th1-cells             0                  ⋯ 0.00000000        \n",
       "Macrophages-cluster28 0                  ⋯ 0.00000000        \n",
       "VSM                   0                  ⋯ 0.01997683        \n",
       "NK-cells              0                  ⋯ 0.00000000        \n",
       "                      TTGTGGTGGTACTAAG-1 TTGTGTATGCCACCAA-1 TTGTGTTTCCCGAAAG-1\n",
       "CD14-cells-cluster30  0                  0.00000000         0                 \n",
       "B-cells               0                  0.00000000         0                 \n",
       "Th1-cells             0                  0.00000000         0                 \n",
       "Macrophages-cluster28 0                  0.00000000         0                 \n",
       "VSM                   0                  0.01635382         0                 \n",
       "NK-cells              0                  0.00000000         0                 \n",
       "                      TTGTTCTAGATACGCT-1 TTGTTTCACATCCAGG-1 TTGTTTCATTAGTCTA-1\n",
       "CD14-cells-cluster30  0                  0.00000000         0.00000000        \n",
       "B-cells               0                  0.00000000         0.00000000        \n",
       "Th1-cells             0                  0.00000000         0.00000000        \n",
       "Macrophages-cluster28 0                  0.00000000         0.00000000        \n",
       "VSM                   0                  0.02528993         0.01914578        \n",
       "NK-cells              0                  0.00000000         0.00000000        \n",
       "                      TTGTTTCCATACAACT-1 TTGTTTGTATTACACG-1 TTGTTTGTGTAAATTC-1\n",
       "CD14-cells-cluster30  0.00000000         0                  0                 \n",
       "B-cells               0.00000000         0                  0                 \n",
       "Th1-cells             0.00000000         0                  0                 \n",
       "Macrophages-cluster28 0.00000000         0                  0                 \n",
       "VSM                   0.02059904         0                  0                 \n",
       "NK-cells              0.00000000         0                  0                 "
      ]
     },
     "metadata": {},
     "output_type": "display_data"
    }
   ],
   "source": [
    "head(slices_seurat[[1]]@assays$predictions@data)"
   ]
  },
  {
   "cell_type": "code",
   "execution_count": 63,
   "id": "c56c4c4f-65cf-497d-9316-465dee138eac",
   "metadata": {},
   "outputs": [],
   "source": [
    "seurat_decompositions = readRDS('/home/ssobti/projects/farnaz_spatial/output_data/seurat/seurat_mBAT_ref_decomposition_scores.rds')\n",
    "seurat_decompositions = lapply(seurat_decompositions, t)"
   ]
  },
  {
   "cell_type": "code",
   "execution_count": 67,
   "id": "e3d22980-3150-4fc0-80a7-b603f2ab7a36",
   "metadata": {},
   "outputs": [],
   "source": [
    "cell_type_nms_corrected <- gsub(\"-\", \"_\", colnames(seurat_decompositions[[1]]))"
   ]
  },
  {
   "cell_type": "code",
   "execution_count": 68,
   "id": "bb994f75-8a0a-40db-bead-c09285c24f67",
   "metadata": {},
   "outputs": [],
   "source": [
    "seurat_preds <- lapply(seurat_decompositions, function(x) cell_type_nms_corrected[apply(x, 1, which.max)])"
   ]
  },
  {
   "cell_type": "code",
   "execution_count": 70,
   "id": "d79e0ee5-4295-4c0a-a8a0-c4708c46ea7d",
   "metadata": {},
   "outputs": [
    {
     "data": {
      "text/html": [
       "<style>\n",
       ".list-inline {list-style: none; margin:0; padding: 0}\n",
       ".list-inline>li {display: inline-block}\n",
       ".list-inline>li:not(:last-child)::after {content: \"\\00b7\"; padding: 0 .5ex}\n",
       "</style>\n",
       "<ol class=list-inline><li>'Adipocytes'</li><li>'Adipocytes'</li><li>'Adipocytes'</li><li>'Adipocytes'</li><li>'Adipocytes'</li><li>'Adipocytes'</li></ol>\n"
      ],
      "text/latex": [
       "\\begin{enumerate*}\n",
       "\\item 'Adipocytes'\n",
       "\\item 'Adipocytes'\n",
       "\\item 'Adipocytes'\n",
       "\\item 'Adipocytes'\n",
       "\\item 'Adipocytes'\n",
       "\\item 'Adipocytes'\n",
       "\\end{enumerate*}\n"
      ],
      "text/markdown": [
       "1. 'Adipocytes'\n",
       "2. 'Adipocytes'\n",
       "3. 'Adipocytes'\n",
       "4. 'Adipocytes'\n",
       "5. 'Adipocytes'\n",
       "6. 'Adipocytes'\n",
       "\n",
       "\n"
      ],
      "text/plain": [
       "[1] \"Adipocytes\" \"Adipocytes\" \"Adipocytes\" \"Adipocytes\" \"Adipocytes\"\n",
       "[6] \"Adipocytes\""
      ]
     },
     "metadata": {},
     "output_type": "display_data"
    }
   ],
   "source": [
    "head(seurat_preds[[1]])"
   ]
  },
  {
   "cell_type": "code",
   "execution_count": 74,
   "id": "e92132f2-cabf-4e05-bb3b-a704c1cb2f1b",
   "metadata": {},
   "outputs": [],
   "source": [
    "## cell id and celltype dfs\n",
    "meta_dfs = list()\n",
    "\n",
    "for (i in 1:4){\n",
    "    slices_seurat[[i]]@meta.data <- dplyr::mutate(slices_seurat[[i]]@meta.data, cell_id = rownames(slices_seurat[[i]]@meta.data), \n",
    "                                                  celltype = seurat_preds[[i]])\n",
    "    meta_dfs[[i]] = slices_seurat[[i]]@meta.data[, c('cell_id', 'celltype')]\n",
    "}"
   ]
  },
  {
   "cell_type": "code",
   "execution_count": 76,
   "id": "d9b23603-f44e-4868-ac64-55a56e1edb62",
   "metadata": {},
   "outputs": [
    {
     "data": {
      "text/html": [
       "<ol>\n",
       "\t<li>NULL</li>\n",
       "\t<li>NULL</li>\n",
       "\t<li>NULL</li>\n",
       "\t<li>NULL</li>\n",
       "</ol>\n"
      ],
      "text/latex": [
       "\\begin{enumerate}\n",
       "\\item NULL\n",
       "\\item NULL\n",
       "\\item NULL\n",
       "\\item NULL\n",
       "\\end{enumerate}\n"
      ],
      "text/markdown": [
       "1. NULL\n",
       "2. NULL\n",
       "3. NULL\n",
       "4. NULL\n",
       "\n",
       "\n"
      ],
      "text/plain": [
       "[[1]]\n",
       "NULL\n",
       "\n",
       "[[2]]\n",
       "NULL\n",
       "\n",
       "[[3]]\n",
       "NULL\n",
       "\n",
       "[[4]]\n",
       "NULL\n"
      ]
     },
     "metadata": {},
     "output_type": "display_data"
    }
   ],
   "source": [
    "mapply(write.table, x = meta_dfs, file = meta_paths, sep = '\\t', quote = F, row.names = F)"
   ]
  },
  {
   "cell_type": "markdown",
   "id": "f25201ab-21a4-48f4-80b7-065a9115e458",
   "metadata": {},
   "source": [
    "## 2. Cluster based cellphonedb data prep"
   ]
  },
  {
   "cell_type": "code",
   "execution_count": 96,
   "id": "38448f44-a106-4a24-a1a7-2982e4679de8",
   "metadata": {},
   "outputs": [],
   "source": [
    "meta_dfs = list()\n",
    "\n",
    "for (i in 1:4){\n",
    "    meta_dfs[[i]] = slices_seurat[[i]]@meta.data[, c('cell_id', 'seurat_clusters')]\n",
    "    meta_dfs[[i]]$seurat_clusters = paste0('cluster', meta_dfs[[i]]$seurat_clusters)\n",
    "}"
   ]
  },
  {
   "cell_type": "code",
   "execution_count": 20,
   "id": "64ac7d79-92e2-4a30-b3f2-3b2244c9d7b2",
   "metadata": {},
   "outputs": [],
   "source": [
    "mtx_paths = paste0('/home/ssobti/projects/farnaz_spatial/output_data/cellphonedb/cluster_prepped_data/', names(slices_seurat), '_data', '/matrix.mtx')\n",
    "feature_paths = paste0('/home/ssobti/projects/farnaz_spatial/output_data/cellphonedb/cluster_prepped_data/', names(slices_seurat), '_data', '/features.tsv')\n",
    "barcode_paths = paste0('/home/ssobti/projects/farnaz_spatial/output_data/cellphonedb/cluster_prepped_data/', names(slices_seurat), '_data', '/barcodes.tsv')\n",
    "meta_paths = paste0('/home/ssobti/projects/farnaz_spatial/output_data/cellphonedb/cluster_prepped_data/', names(slices_seurat), '_meta.tsv')"
   ]
  },
  {
   "cell_type": "code",
   "execution_count": 98,
   "id": "c70f5f9d-876e-4148-9b56-fb569ada6f02",
   "metadata": {},
   "outputs": [
    {
     "data": {
      "text/html": [
       "<ol>\n",
       "\t<li>NULL</li>\n",
       "\t<li>NULL</li>\n",
       "\t<li>NULL</li>\n",
       "\t<li>NULL</li>\n",
       "</ol>\n"
      ],
      "text/latex": [
       "\\begin{enumerate}\n",
       "\\item NULL\n",
       "\\item NULL\n",
       "\\item NULL\n",
       "\\item NULL\n",
       "\\end{enumerate}\n"
      ],
      "text/markdown": [
       "1. NULL\n",
       "2. NULL\n",
       "3. NULL\n",
       "4. NULL\n",
       "\n",
       "\n"
      ],
      "text/plain": [
       "[[1]]\n",
       "NULL\n",
       "\n",
       "[[2]]\n",
       "NULL\n",
       "\n",
       "[[3]]\n",
       "NULL\n",
       "\n",
       "[[4]]\n",
       "NULL\n"
      ]
     },
     "metadata": {},
     "output_type": "display_data"
    }
   ],
   "source": [
    "mapply(FUN = writeMM, gene_filtered_mtxs, mtx_paths)\n",
    "mapply(FUN = write, human_features, feature_paths)\n",
    "mapply(FUN = write, barcodes, barcode_paths)\n",
    "mapply(write.table, x = meta_dfs, file = meta_paths, sep = '\\t', quote = F, row.names = F)"
   ]
  },
  {
   "cell_type": "code",
   "execution_count": null,
   "id": "5a1c7ad4-0007-47ab-b1a2-6adb5bd00c1c",
   "metadata": {},
   "outputs": [],
   "source": []
  },
  {
   "cell_type": "code",
   "execution_count": null,
   "id": "4c0098ab-ad54-4131-975c-c5e468e3e4b7",
   "metadata": {},
   "outputs": [],
   "source": []
  }
 ],
 "metadata": {
  "kernelspec": {
   "display_name": "R",
   "language": "R",
   "name": "ir"
  },
  "language_info": {
   "codemirror_mode": "r",
   "file_extension": ".r",
   "mimetype": "text/x-r-source",
   "name": "R",
   "pygments_lexer": "r",
   "version": "4.2.2"
  }
 },
 "nbformat": 4,
 "nbformat_minor": 5
}
