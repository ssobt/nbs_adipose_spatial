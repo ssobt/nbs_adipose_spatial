{
 "cells": [
  {
   "cell_type": "code",
   "execution_count": null,
   "id": "5846a7b2-8fd4-416a-81e0-6509bb2629d7",
   "metadata": {},
   "outputs": [],
   "source": [
    "## Notebook env: seuratdisk (R kernel)\n",
    "## this notebook converts seurat reference dataset to raw counts and also makes a csv file of cell annotations"
   ]
  },
  {
   "cell_type": "code",
   "execution_count": 1,
   "id": "55bd19c9-67d4-470f-acc3-c3ac69b09bc6",
   "metadata": {},
   "outputs": [
    {
     "name": "stderr",
     "output_type": "stream",
     "text": [
      "Attaching SeuratObject\n",
      "\n",
      "Attaching sp\n",
      "\n",
      "Registered S3 method overwritten by 'SeuratDisk':\n",
      "  method            from  \n",
      "  as.sparse.H5Group Seurat\n",
      "\n"
     ]
    }
   ],
   "source": [
    "library(Seurat)\n",
    "library(SeuratDisk)\n",
    "library(Matrix)"
   ]
  },
  {
   "cell_type": "code",
   "execution_count": 2,
   "id": "d9322b68-bf82-4592-b5a8-9cd1c4f6be51",
   "metadata": {},
   "outputs": [],
   "source": [
    "new_ref <- readRDS('/home/ssobti/projects/farnaz_spatial/data/new_ref/mouse_new_ref.rds')"
   ]
  },
  {
   "cell_type": "code",
   "execution_count": null,
   "id": "d8a8a562-a68f-47b5-a668-f04c4346e4c1",
   "metadata": {},
   "outputs": [],
   "source": [
    "options(repr.plot.width = 10, repr.plot.height = 6)\n",
    "DimPlot(new_ref, group.by = 'predicted.celltype')"
   ]
  },
  {
   "cell_type": "code",
   "execution_count": null,
   "id": "0cc466bb-1d3e-436b-b858-86daeb4520bd",
   "metadata": {},
   "outputs": [],
   "source": [
    "raw_counts = new_ref@assays$RNA@counts"
   ]
  },
  {
   "cell_type": "code",
   "execution_count": null,
   "id": "c488bab9-39e5-486c-bd86-2e7830180816",
   "metadata": {},
   "outputs": [],
   "source": [
    "meta = new_ref@meta.data"
   ]
  },
  {
   "cell_type": "code",
   "execution_count": null,
   "id": "dc41d68e",
   "metadata": {},
   "outputs": [],
   "source": [
    "seurat_temp = CreateSeuratObject(raw_counts, meta.data = meta)"
   ]
  },
  {
   "cell_type": "code",
   "execution_count": null,
   "id": "7c0d787d-bbbe-4c24-aae8-e5997a915ae5",
   "metadata": {},
   "outputs": [],
   "source": [
    "colnames(meta)"
   ]
  },
  {
   "cell_type": "code",
   "execution_count": null,
   "id": "e99a5f01-4f0f-4935-815b-d6e5c746ef8c",
   "metadata": {},
   "outputs": [],
   "source": [
    "cell_annotations = data.frame(cell_id = rownames(meta), cell_type = meta$predicted.celltype)"
   ]
  },
  {
   "cell_type": "code",
   "execution_count": null,
   "id": "20351407-81b4-4e55-899f-ad63b324ca8d",
   "metadata": {},
   "outputs": [],
   "source": [
    "writeMM(raw_counts, '/home/ssobti/projects/farnaz_spatial/data/new_ref/mouse_new_ref.mtx')"
   ]
  },
  {
   "cell_type": "code",
   "execution_count": null,
   "id": "e656a930",
   "metadata": {},
   "outputs": [],
   "source": [
    "setwd('/home/ssobti/projects/farnaz_spatial/data/new_ref')"
   ]
  },
  {
   "cell_type": "code",
   "execution_count": null,
   "id": "31f42502",
   "metadata": {},
   "outputs": [],
   "source": [
    "SaveH5Seurat(seurat_temp, filename = \"raw_ref.h5Seurat\", overwrite = TRUE)\n",
    "Convert(\"raw_ref.h5Seurat\", dest = \"h5ad\")"
   ]
  },
  {
   "cell_type": "code",
   "execution_count": null,
   "id": "2879f8d9-fb24-4567-bf43-b7da48225a96",
   "metadata": {},
   "outputs": [],
   "source": [
    "write_h5ad(raw_counts, '/home/ssobti/projects/farnaz_spatial/data/new_ref/mouse_new_ref.h5ad')"
   ]
  },
  {
   "cell_type": "code",
   "execution_count": null,
   "id": "4d11dc05-4bda-4628-bdc3-83e00338190f",
   "metadata": {},
   "outputs": [],
   "source": [
    "write.csv(x = cell_annotations, \n",
    "          file = '/home/ssobti/projects/farnaz_spatial/data/new_ref/cell_annotations.csv', quote = FALSE, row.names = FALSE)"
   ]
  }
 ],
 "metadata": {
  "kernelspec": {
   "display_name": "R",
   "language": "R",
   "name": "ir"
  },
  "language_info": {
   "codemirror_mode": "r",
   "file_extension": ".r",
   "mimetype": "text/x-r-source",
   "name": "R",
   "pygments_lexer": "r",
   "version": "4.0.5"
  }
 },
 "nbformat": 4,
 "nbformat_minor": 5
}
