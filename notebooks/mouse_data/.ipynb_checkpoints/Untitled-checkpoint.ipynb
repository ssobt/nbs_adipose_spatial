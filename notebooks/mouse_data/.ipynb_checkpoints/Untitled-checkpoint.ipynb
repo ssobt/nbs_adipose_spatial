{
 "cells": [
  {
   "cell_type": "code",
   "execution_count": null,
   "id": "1ce3dfb0-71b4-40b0-9abd-4fd2314f9384",
   "metadata": {},
   "outputs": [],
   "source": [
    "## Notebook env: farnaz_spatial (R kernel)\n",
    "## This notebook analyzes cellphonedb output"
   ]
  },
  {
   "cell_type": "code",
   "execution_count": null,
   "id": "75473d23-ed37-40cd-9405-726120368848",
   "metadata": {},
   "outputs": [],
   "source": [
    "dplyr::filter(tt, "
   ]
  },
  {
   "cell_type": "code",
   "execution_count": 3,
   "id": "72499a66-1f90-4e11-980b-dfe1eed120e2",
   "metadata": {},
   "outputs": [],
   "source": [
    "tt <- read.csv('/home/ssobti/projects/farnaz_spatial/output_data/cellphonedb/cluster_prepped_data/A1_data/out/pvalues.txt', sep = '\\t')"
   ]
  },
  {
   "cell_type": "code",
   "execution_count": 8,
   "id": "681f2da9-2ab8-48c4-bd55-cd06d0b8ba20",
   "metadata": {},
   "outputs": [
    {
     "data": {
      "text/html": [
       "<style>\n",
       ".list-inline {list-style: none; margin:0; padding: 0}\n",
       ".list-inline>li {display: inline-block}\n",
       ".list-inline>li:not(:last-child)::after {content: \"\\00b7\"; padding: 0 .5ex}\n",
       "</style>\n",
       "<ol class=list-inline><li>1053</li><li>132</li></ol>\n"
      ],
      "text/latex": [
       "\\begin{enumerate*}\n",
       "\\item 1053\n",
       "\\item 132\n",
       "\\end{enumerate*}\n"
      ],
      "text/markdown": [
       "1. 1053\n",
       "2. 132\n",
       "\n",
       "\n"
      ],
      "text/plain": [
       "[1] 1053  132"
      ]
     },
     "metadata": {},
     "output_type": "display_data"
    }
   ],
   "source": [
    "dim(tt)"
   ]
  },
  {
   "cell_type": "code",
   "execution_count": 4,
   "id": "2a2814d7-7a04-4ab6-8c97-e906f9db8985",
   "metadata": {},
   "outputs": [
    {
     "data": {
      "text/html": [
       "<table class=\"dataframe\">\n",
       "<caption>A data.frame: 6 × 132</caption>\n",
       "<thead>\n",
       "\t<tr><th></th><th scope=col>id_cp_interaction</th><th scope=col>interacting_pair</th><th scope=col>partner_a</th><th scope=col>partner_b</th><th scope=col>gene_a</th><th scope=col>gene_b</th><th scope=col>secreted</th><th scope=col>receptor_a</th><th scope=col>receptor_b</th><th scope=col>annotation_strategy</th><th scope=col>⋯</th><th scope=col>cluster9.cluster1</th><th scope=col>cluster9.cluster10</th><th scope=col>cluster9.cluster2</th><th scope=col>cluster9.cluster3</th><th scope=col>cluster9.cluster4</th><th scope=col>cluster9.cluster5</th><th scope=col>cluster9.cluster6</th><th scope=col>cluster9.cluster7</th><th scope=col>cluster9.cluster8</th><th scope=col>cluster9.cluster9</th></tr>\n",
       "\t<tr><th></th><th scope=col>&lt;chr&gt;</th><th scope=col>&lt;chr&gt;</th><th scope=col>&lt;chr&gt;</th><th scope=col>&lt;chr&gt;</th><th scope=col>&lt;chr&gt;</th><th scope=col>&lt;chr&gt;</th><th scope=col>&lt;chr&gt;</th><th scope=col>&lt;chr&gt;</th><th scope=col>&lt;chr&gt;</th><th scope=col>&lt;chr&gt;</th><th scope=col>⋯</th><th scope=col>&lt;dbl&gt;</th><th scope=col>&lt;dbl&gt;</th><th scope=col>&lt;dbl&gt;</th><th scope=col>&lt;dbl&gt;</th><th scope=col>&lt;dbl&gt;</th><th scope=col>&lt;dbl&gt;</th><th scope=col>&lt;dbl&gt;</th><th scope=col>&lt;dbl&gt;</th><th scope=col>&lt;dbl&gt;</th><th scope=col>&lt;dbl&gt;</th></tr>\n",
       "</thead>\n",
       "<tbody>\n",
       "\t<tr><th scope=row>1</th><td>CPI-CS0A5B6BD7A</td><td>12oxoLeukotrieneB4_byPTGR1_LTB4R</td><td>complex:12oxoLeukotrieneB4_byPTGR1</td><td>simple:Q15722</td><td></td><td>LTB4R  </td><td>True</td><td>False</td><td>True</td><td>curated</td><td>⋯</td><td>1</td><td>1</td><td>1</td><td>1</td><td>1</td><td>1</td><td>1</td><td>1</td><td>1</td><td>1</td></tr>\n",
       "\t<tr><th scope=row>2</th><td>CPI-CS047D9C0D7</td><td>LeukotrieneB4_byLTA4H_LTB4R     </td><td>complex:LeukotrieneB4_byLTA4H     </td><td>simple:Q15722</td><td></td><td>LTB4R  </td><td>True</td><td>False</td><td>True</td><td>curated</td><td>⋯</td><td>1</td><td>1</td><td>1</td><td>1</td><td>1</td><td>1</td><td>1</td><td>1</td><td>1</td><td>1</td></tr>\n",
       "\t<tr><th scope=row>3</th><td>CPI-CS01FC3CF4D</td><td>LeukotrieneC4_byLTC4S_CYSLTR2   </td><td>complex:LeukotrieneC4_byLTC4S     </td><td>simple:Q9NS75</td><td></td><td>CYSLTR2</td><td>True</td><td>False</td><td>True</td><td>curated</td><td>⋯</td><td>1</td><td>1</td><td>1</td><td>1</td><td>1</td><td>1</td><td>1</td><td>1</td><td>1</td><td>1</td></tr>\n",
       "\t<tr><th scope=row>4</th><td>CPI-CS0891F5216</td><td>LeukotrieneC4_byLTC4S_CYSLTR1   </td><td>complex:LeukotrieneC4_byLTC4S     </td><td>simple:Q9Y271</td><td></td><td>CYSLTR1</td><td>True</td><td>False</td><td>True</td><td>curated</td><td>⋯</td><td>1</td><td>1</td><td>1</td><td>1</td><td>1</td><td>1</td><td>1</td><td>1</td><td>1</td><td>1</td></tr>\n",
       "\t<tr><th scope=row>5</th><td>CPI-CS0150916A7</td><td>LeukotrieneE4_byDPEP1_CYSLTR1   </td><td>complex:LeukotrieneE4_byDPEP1     </td><td>simple:Q9Y271</td><td></td><td>CYSLTR1</td><td>True</td><td>False</td><td>True</td><td>curated</td><td>⋯</td><td>1</td><td>1</td><td>1</td><td>1</td><td>1</td><td>1</td><td>1</td><td>1</td><td>1</td><td>1</td></tr>\n",
       "\t<tr><th scope=row>6</th><td>CPI-CS048E474A5</td><td>LeukotrieneE4_byDPEP2_CYSLTR1   </td><td>complex:LeukotrieneE4_byDPEP2     </td><td>simple:Q9Y271</td><td></td><td>CYSLTR1</td><td>True</td><td>False</td><td>True</td><td>curated</td><td>⋯</td><td>1</td><td>1</td><td>1</td><td>1</td><td>1</td><td>1</td><td>1</td><td>1</td><td>1</td><td>1</td></tr>\n",
       "</tbody>\n",
       "</table>\n"
      ],
      "text/latex": [
       "A data.frame: 6 × 132\n",
       "\\begin{tabular}{r|lllllllllllllllllllll}\n",
       "  & id\\_cp\\_interaction & interacting\\_pair & partner\\_a & partner\\_b & gene\\_a & gene\\_b & secreted & receptor\\_a & receptor\\_b & annotation\\_strategy & ⋯ & cluster9.cluster1 & cluster9.cluster10 & cluster9.cluster2 & cluster9.cluster3 & cluster9.cluster4 & cluster9.cluster5 & cluster9.cluster6 & cluster9.cluster7 & cluster9.cluster8 & cluster9.cluster9\\\\\n",
       "  & <chr> & <chr> & <chr> & <chr> & <chr> & <chr> & <chr> & <chr> & <chr> & <chr> & ⋯ & <dbl> & <dbl> & <dbl> & <dbl> & <dbl> & <dbl> & <dbl> & <dbl> & <dbl> & <dbl>\\\\\n",
       "\\hline\n",
       "\t1 & CPI-CS0A5B6BD7A & 12oxoLeukotrieneB4\\_byPTGR1\\_LTB4R & complex:12oxoLeukotrieneB4\\_byPTGR1 & simple:Q15722 &  & LTB4R   & True & False & True & curated & ⋯ & 1 & 1 & 1 & 1 & 1 & 1 & 1 & 1 & 1 & 1\\\\\n",
       "\t2 & CPI-CS047D9C0D7 & LeukotrieneB4\\_byLTA4H\\_LTB4R      & complex:LeukotrieneB4\\_byLTA4H      & simple:Q15722 &  & LTB4R   & True & False & True & curated & ⋯ & 1 & 1 & 1 & 1 & 1 & 1 & 1 & 1 & 1 & 1\\\\\n",
       "\t3 & CPI-CS01FC3CF4D & LeukotrieneC4\\_byLTC4S\\_CYSLTR2    & complex:LeukotrieneC4\\_byLTC4S      & simple:Q9NS75 &  & CYSLTR2 & True & False & True & curated & ⋯ & 1 & 1 & 1 & 1 & 1 & 1 & 1 & 1 & 1 & 1\\\\\n",
       "\t4 & CPI-CS0891F5216 & LeukotrieneC4\\_byLTC4S\\_CYSLTR1    & complex:LeukotrieneC4\\_byLTC4S      & simple:Q9Y271 &  & CYSLTR1 & True & False & True & curated & ⋯ & 1 & 1 & 1 & 1 & 1 & 1 & 1 & 1 & 1 & 1\\\\\n",
       "\t5 & CPI-CS0150916A7 & LeukotrieneE4\\_byDPEP1\\_CYSLTR1    & complex:LeukotrieneE4\\_byDPEP1      & simple:Q9Y271 &  & CYSLTR1 & True & False & True & curated & ⋯ & 1 & 1 & 1 & 1 & 1 & 1 & 1 & 1 & 1 & 1\\\\\n",
       "\t6 & CPI-CS048E474A5 & LeukotrieneE4\\_byDPEP2\\_CYSLTR1    & complex:LeukotrieneE4\\_byDPEP2      & simple:Q9Y271 &  & CYSLTR1 & True & False & True & curated & ⋯ & 1 & 1 & 1 & 1 & 1 & 1 & 1 & 1 & 1 & 1\\\\\n",
       "\\end{tabular}\n"
      ],
      "text/markdown": [
       "\n",
       "A data.frame: 6 × 132\n",
       "\n",
       "| <!--/--> | id_cp_interaction &lt;chr&gt; | interacting_pair &lt;chr&gt; | partner_a &lt;chr&gt; | partner_b &lt;chr&gt; | gene_a &lt;chr&gt; | gene_b &lt;chr&gt; | secreted &lt;chr&gt; | receptor_a &lt;chr&gt; | receptor_b &lt;chr&gt; | annotation_strategy &lt;chr&gt; | ⋯ ⋯ | cluster9.cluster1 &lt;dbl&gt; | cluster9.cluster10 &lt;dbl&gt; | cluster9.cluster2 &lt;dbl&gt; | cluster9.cluster3 &lt;dbl&gt; | cluster9.cluster4 &lt;dbl&gt; | cluster9.cluster5 &lt;dbl&gt; | cluster9.cluster6 &lt;dbl&gt; | cluster9.cluster7 &lt;dbl&gt; | cluster9.cluster8 &lt;dbl&gt; | cluster9.cluster9 &lt;dbl&gt; |\n",
       "|---|---|---|---|---|---|---|---|---|---|---|---|---|---|---|---|---|---|---|---|---|---|\n",
       "| 1 | CPI-CS0A5B6BD7A | 12oxoLeukotrieneB4_byPTGR1_LTB4R | complex:12oxoLeukotrieneB4_byPTGR1 | simple:Q15722 | <!----> | LTB4R   | True | False | True | curated | ⋯ | 1 | 1 | 1 | 1 | 1 | 1 | 1 | 1 | 1 | 1 |\n",
       "| 2 | CPI-CS047D9C0D7 | LeukotrieneB4_byLTA4H_LTB4R      | complex:LeukotrieneB4_byLTA4H      | simple:Q15722 | <!----> | LTB4R   | True | False | True | curated | ⋯ | 1 | 1 | 1 | 1 | 1 | 1 | 1 | 1 | 1 | 1 |\n",
       "| 3 | CPI-CS01FC3CF4D | LeukotrieneC4_byLTC4S_CYSLTR2    | complex:LeukotrieneC4_byLTC4S      | simple:Q9NS75 | <!----> | CYSLTR2 | True | False | True | curated | ⋯ | 1 | 1 | 1 | 1 | 1 | 1 | 1 | 1 | 1 | 1 |\n",
       "| 4 | CPI-CS0891F5216 | LeukotrieneC4_byLTC4S_CYSLTR1    | complex:LeukotrieneC4_byLTC4S      | simple:Q9Y271 | <!----> | CYSLTR1 | True | False | True | curated | ⋯ | 1 | 1 | 1 | 1 | 1 | 1 | 1 | 1 | 1 | 1 |\n",
       "| 5 | CPI-CS0150916A7 | LeukotrieneE4_byDPEP1_CYSLTR1    | complex:LeukotrieneE4_byDPEP1      | simple:Q9Y271 | <!----> | CYSLTR1 | True | False | True | curated | ⋯ | 1 | 1 | 1 | 1 | 1 | 1 | 1 | 1 | 1 | 1 |\n",
       "| 6 | CPI-CS048E474A5 | LeukotrieneE4_byDPEP2_CYSLTR1    | complex:LeukotrieneE4_byDPEP2      | simple:Q9Y271 | <!----> | CYSLTR1 | True | False | True | curated | ⋯ | 1 | 1 | 1 | 1 | 1 | 1 | 1 | 1 | 1 | 1 |\n",
       "\n"
      ],
      "text/plain": [
       "  id_cp_interaction interacting_pair                \n",
       "1 CPI-CS0A5B6BD7A   12oxoLeukotrieneB4_byPTGR1_LTB4R\n",
       "2 CPI-CS047D9C0D7   LeukotrieneB4_byLTA4H_LTB4R     \n",
       "3 CPI-CS01FC3CF4D   LeukotrieneC4_byLTC4S_CYSLTR2   \n",
       "4 CPI-CS0891F5216   LeukotrieneC4_byLTC4S_CYSLTR1   \n",
       "5 CPI-CS0150916A7   LeukotrieneE4_byDPEP1_CYSLTR1   \n",
       "6 CPI-CS048E474A5   LeukotrieneE4_byDPEP2_CYSLTR1   \n",
       "  partner_a                          partner_b     gene_a gene_b  secreted\n",
       "1 complex:12oxoLeukotrieneB4_byPTGR1 simple:Q15722        LTB4R   True    \n",
       "2 complex:LeukotrieneB4_byLTA4H      simple:Q15722        LTB4R   True    \n",
       "3 complex:LeukotrieneC4_byLTC4S      simple:Q9NS75        CYSLTR2 True    \n",
       "4 complex:LeukotrieneC4_byLTC4S      simple:Q9Y271        CYSLTR1 True    \n",
       "5 complex:LeukotrieneE4_byDPEP1      simple:Q9Y271        CYSLTR1 True    \n",
       "6 complex:LeukotrieneE4_byDPEP2      simple:Q9Y271        CYSLTR1 True    \n",
       "  receptor_a receptor_b annotation_strategy ⋯ cluster9.cluster1\n",
       "1 False      True       curated             ⋯ 1                \n",
       "2 False      True       curated             ⋯ 1                \n",
       "3 False      True       curated             ⋯ 1                \n",
       "4 False      True       curated             ⋯ 1                \n",
       "5 False      True       curated             ⋯ 1                \n",
       "6 False      True       curated             ⋯ 1                \n",
       "  cluster9.cluster10 cluster9.cluster2 cluster9.cluster3 cluster9.cluster4\n",
       "1 1                  1                 1                 1                \n",
       "2 1                  1                 1                 1                \n",
       "3 1                  1                 1                 1                \n",
       "4 1                  1                 1                 1                \n",
       "5 1                  1                 1                 1                \n",
       "6 1                  1                 1                 1                \n",
       "  cluster9.cluster5 cluster9.cluster6 cluster9.cluster7 cluster9.cluster8\n",
       "1 1                 1                 1                 1                \n",
       "2 1                 1                 1                 1                \n",
       "3 1                 1                 1                 1                \n",
       "4 1                 1                 1                 1                \n",
       "5 1                 1                 1                 1                \n",
       "6 1                 1                 1                 1                \n",
       "  cluster9.cluster9\n",
       "1 1                \n",
       "2 1                \n",
       "3 1                \n",
       "4 1                \n",
       "5 1                \n",
       "6 1                "
      ]
     },
     "metadata": {},
     "output_type": "display_data"
    }
   ],
   "source": [
    "head(tt)"
   ]
  },
  {
   "cell_type": "code",
   "execution_count": 12,
   "id": "6a511770-bd3b-446c-ae57-f98f024ac535",
   "metadata": {},
   "outputs": [],
   "source": [
    "bb <- read.csv('/home/ssobti/projects/farnaz_spatial/output_data/cellphonedb/cluster_prepped_data/A1_data/out/count_network.txt', sep = '\\t')"
   ]
  },
  {
   "cell_type": "code",
   "execution_count": 18,
   "id": "2f483a06-5da3-4921-8489-b6acc3308998",
   "metadata": {},
   "outputs": [
    {
     "data": {
      "text/html": [
       "<table class=\"dataframe\">\n",
       "<caption>A data.frame: 6 × 3</caption>\n",
       "<thead>\n",
       "\t<tr><th></th><th scope=col>SOURCE</th><th scope=col>TARGET</th><th scope=col>count</th></tr>\n",
       "\t<tr><th></th><th scope=col>&lt;chr&gt;</th><th scope=col>&lt;chr&gt;</th><th scope=col>&lt;int&gt;</th></tr>\n",
       "</thead>\n",
       "<tbody>\n",
       "\t<tr><th scope=row>1</th><td>cluster4</td><td>cluster5</td><td>299</td></tr>\n",
       "\t<tr><th scope=row>2</th><td>cluster5</td><td>cluster4</td><td>299</td></tr>\n",
       "\t<tr><th scope=row>3</th><td>cluster9</td><td>cluster5</td><td>295</td></tr>\n",
       "\t<tr><th scope=row>4</th><td>cluster5</td><td>cluster9</td><td>295</td></tr>\n",
       "\t<tr><th scope=row>5</th><td>cluster9</td><td>cluster8</td><td>264</td></tr>\n",
       "\t<tr><th scope=row>6</th><td>cluster8</td><td>cluster9</td><td>264</td></tr>\n",
       "</tbody>\n",
       "</table>\n"
      ],
      "text/latex": [
       "A data.frame: 6 × 3\n",
       "\\begin{tabular}{r|lll}\n",
       "  & SOURCE & TARGET & count\\\\\n",
       "  & <chr> & <chr> & <int>\\\\\n",
       "\\hline\n",
       "\t1 & cluster4 & cluster5 & 299\\\\\n",
       "\t2 & cluster5 & cluster4 & 299\\\\\n",
       "\t3 & cluster9 & cluster5 & 295\\\\\n",
       "\t4 & cluster5 & cluster9 & 295\\\\\n",
       "\t5 & cluster9 & cluster8 & 264\\\\\n",
       "\t6 & cluster8 & cluster9 & 264\\\\\n",
       "\\end{tabular}\n"
      ],
      "text/markdown": [
       "\n",
       "A data.frame: 6 × 3\n",
       "\n",
       "| <!--/--> | SOURCE &lt;chr&gt; | TARGET &lt;chr&gt; | count &lt;int&gt; |\n",
       "|---|---|---|---|\n",
       "| 1 | cluster4 | cluster5 | 299 |\n",
       "| 2 | cluster5 | cluster4 | 299 |\n",
       "| 3 | cluster9 | cluster5 | 295 |\n",
       "| 4 | cluster5 | cluster9 | 295 |\n",
       "| 5 | cluster9 | cluster8 | 264 |\n",
       "| 6 | cluster8 | cluster9 | 264 |\n",
       "\n"
      ],
      "text/plain": [
       "  SOURCE   TARGET   count\n",
       "1 cluster4 cluster5 299  \n",
       "2 cluster5 cluster4 299  \n",
       "3 cluster9 cluster5 295  \n",
       "4 cluster5 cluster9 295  \n",
       "5 cluster9 cluster8 264  \n",
       "6 cluster8 cluster9 264  "
      ]
     },
     "metadata": {},
     "output_type": "display_data"
    }
   ],
   "source": [
    "head(dplyr::arrange(bb, desc(count)))"
   ]
  },
  {
   "cell_type": "code",
   "execution_count": 9,
   "id": "a8a0e748-8133-4694-b5a9-46e103f3748b",
   "metadata": {},
   "outputs": [
    {
     "data": {
      "text/html": [
       "<style>\n",
       ".list-inline {list-style: none; margin:0; padding: 0}\n",
       ".list-inline>li {display: inline-block}\n",
       ".list-inline>li:not(:last-child)::after {content: \"\\00b7\"; padding: 0 .5ex}\n",
       "</style>\n",
       "<ol class=list-inline><li>1053</li><li>132</li></ol>\n"
      ],
      "text/latex": [
       "\\begin{enumerate*}\n",
       "\\item 1053\n",
       "\\item 132\n",
       "\\end{enumerate*}\n"
      ],
      "text/markdown": [
       "1. 1053\n",
       "2. 132\n",
       "\n",
       "\n"
      ],
      "text/plain": [
       "[1] 1053  132"
      ]
     },
     "metadata": {},
     "output_type": "display_data"
    }
   ],
   "source": [
    "dim(bb)"
   ]
  },
  {
   "cell_type": "code",
   "execution_count": 10,
   "id": "17170c40-27e9-4289-a1c3-136e31f4d9f6",
   "metadata": {},
   "outputs": [],
   "source": [
    "ll <- read.csv('/home/ssobti/projects/farnaz_spatial/output_data/cellphonedb/cluster_prepped_data/A1_data/out/deconvoluted.txt', sep = '\\t')"
   ]
  },
  {
   "cell_type": "code",
   "execution_count": 11,
   "id": "ecfa44dc-b788-49ec-88d5-cbf6878c95c6",
   "metadata": {},
   "outputs": [
    {
     "data": {
      "text/html": [
       "<table class=\"dataframe\">\n",
       "<caption>A data.frame: 6 × 17</caption>\n",
       "<thead>\n",
       "\t<tr><th></th><th scope=col>gene_name</th><th scope=col>uniprot</th><th scope=col>is_complex</th><th scope=col>protein_name</th><th scope=col>complex_name</th><th scope=col>id_cp_interaction</th><th scope=col>cluster0</th><th scope=col>cluster1</th><th scope=col>cluster10</th><th scope=col>cluster2</th><th scope=col>cluster3</th><th scope=col>cluster4</th><th scope=col>cluster5</th><th scope=col>cluster6</th><th scope=col>cluster7</th><th scope=col>cluster8</th><th scope=col>cluster9</th></tr>\n",
       "\t<tr><th></th><th scope=col>&lt;chr&gt;</th><th scope=col>&lt;chr&gt;</th><th scope=col>&lt;chr&gt;</th><th scope=col>&lt;chr&gt;</th><th scope=col>&lt;chr&gt;</th><th scope=col>&lt;chr&gt;</th><th scope=col>&lt;dbl&gt;</th><th scope=col>&lt;dbl&gt;</th><th scope=col>&lt;dbl&gt;</th><th scope=col>&lt;dbl&gt;</th><th scope=col>&lt;dbl&gt;</th><th scope=col>&lt;dbl&gt;</th><th scope=col>&lt;dbl&gt;</th><th scope=col>&lt;dbl&gt;</th><th scope=col>&lt;dbl&gt;</th><th scope=col>&lt;dbl&gt;</th><th scope=col>&lt;dbl&gt;</th></tr>\n",
       "</thead>\n",
       "<tbody>\n",
       "\t<tr><th scope=row>1</th><td>PTGR1  </td><td>Q14914</td><td>True</td><td>PTGR1_HUMAN</td><td>12oxoLeukotrieneB4_byPTGR1    </td><td>CPI-CS0A5B6BD7A</td><td>0.128</td><td>0.130</td><td>0.102</td><td>0.199</td><td>0.064</td><td>0.168</td><td>0.111</td><td>0.101</td><td>0.094</td><td>0.152</td><td>0.193</td></tr>\n",
       "\t<tr><th scope=row>2</th><td>CYP11A1</td><td>P05108</td><td>True</td><td>CP11A_HUMAN</td><td>22Hydroxycholesterol_byCYP11A1</td><td>CPI-CS08D535BCF</td><td>0.000</td><td>0.005</td><td>0.012</td><td>0.000</td><td>0.000</td><td>0.008</td><td>0.006</td><td>0.000</td><td>0.000</td><td>0.011</td><td>0.006</td></tr>\n",
       "\t<tr><th scope=row>3</th><td>DAGLA  </td><td>Q9Y4D2</td><td>True</td><td>DGLA_HUMAN </td><td>2arachidonoylglycerol_byDAGLA </td><td>CPI-CS03629A52A</td><td>0.333</td><td>0.254</td><td>0.121</td><td>0.476</td><td>0.199</td><td>0.210</td><td>0.290</td><td>0.220</td><td>0.185</td><td>0.244</td><td>0.339</td></tr>\n",
       "\t<tr><th scope=row>4</th><td>DAGLA  </td><td>Q9Y4D2</td><td>True</td><td>DGLA_HUMAN </td><td>2arachidonoylglycerol_byDAGLA </td><td>CPI-CS0C6F86DF5</td><td>0.333</td><td>0.254</td><td>0.121</td><td>0.476</td><td>0.199</td><td>0.210</td><td>0.290</td><td>0.220</td><td>0.185</td><td>0.244</td><td>0.339</td></tr>\n",
       "\t<tr><th scope=row>5</th><td>DAGLB  </td><td>Q8NCG7</td><td>True</td><td>DGLB_HUMAN </td><td>2arachidonoylglycerol_byDAGLB </td><td>CPI-CS007D418BE</td><td>0.284</td><td>0.231</td><td>0.223</td><td>0.281</td><td>0.117</td><td>0.310</td><td>0.293</td><td>0.212</td><td>0.163</td><td>0.228</td><td>0.434</td></tr>\n",
       "\t<tr><th scope=row>6</th><td>DAGLB  </td><td>Q8NCG7</td><td>True</td><td>DGLB_HUMAN </td><td>2arachidonoylglycerol_byDAGLB </td><td>CPI-CS030959ED1</td><td>0.284</td><td>0.231</td><td>0.223</td><td>0.281</td><td>0.117</td><td>0.310</td><td>0.293</td><td>0.212</td><td>0.163</td><td>0.228</td><td>0.434</td></tr>\n",
       "</tbody>\n",
       "</table>\n"
      ],
      "text/latex": [
       "A data.frame: 6 × 17\n",
       "\\begin{tabular}{r|lllllllllllllllll}\n",
       "  & gene\\_name & uniprot & is\\_complex & protein\\_name & complex\\_name & id\\_cp\\_interaction & cluster0 & cluster1 & cluster10 & cluster2 & cluster3 & cluster4 & cluster5 & cluster6 & cluster7 & cluster8 & cluster9\\\\\n",
       "  & <chr> & <chr> & <chr> & <chr> & <chr> & <chr> & <dbl> & <dbl> & <dbl> & <dbl> & <dbl> & <dbl> & <dbl> & <dbl> & <dbl> & <dbl> & <dbl>\\\\\n",
       "\\hline\n",
       "\t1 & PTGR1   & Q14914 & True & PTGR1\\_HUMAN & 12oxoLeukotrieneB4\\_byPTGR1     & CPI-CS0A5B6BD7A & 0.128 & 0.130 & 0.102 & 0.199 & 0.064 & 0.168 & 0.111 & 0.101 & 0.094 & 0.152 & 0.193\\\\\n",
       "\t2 & CYP11A1 & P05108 & True & CP11A\\_HUMAN & 22Hydroxycholesterol\\_byCYP11A1 & CPI-CS08D535BCF & 0.000 & 0.005 & 0.012 & 0.000 & 0.000 & 0.008 & 0.006 & 0.000 & 0.000 & 0.011 & 0.006\\\\\n",
       "\t3 & DAGLA   & Q9Y4D2 & True & DGLA\\_HUMAN  & 2arachidonoylglycerol\\_byDAGLA  & CPI-CS03629A52A & 0.333 & 0.254 & 0.121 & 0.476 & 0.199 & 0.210 & 0.290 & 0.220 & 0.185 & 0.244 & 0.339\\\\\n",
       "\t4 & DAGLA   & Q9Y4D2 & True & DGLA\\_HUMAN  & 2arachidonoylglycerol\\_byDAGLA  & CPI-CS0C6F86DF5 & 0.333 & 0.254 & 0.121 & 0.476 & 0.199 & 0.210 & 0.290 & 0.220 & 0.185 & 0.244 & 0.339\\\\\n",
       "\t5 & DAGLB   & Q8NCG7 & True & DGLB\\_HUMAN  & 2arachidonoylglycerol\\_byDAGLB  & CPI-CS007D418BE & 0.284 & 0.231 & 0.223 & 0.281 & 0.117 & 0.310 & 0.293 & 0.212 & 0.163 & 0.228 & 0.434\\\\\n",
       "\t6 & DAGLB   & Q8NCG7 & True & DGLB\\_HUMAN  & 2arachidonoylglycerol\\_byDAGLB  & CPI-CS030959ED1 & 0.284 & 0.231 & 0.223 & 0.281 & 0.117 & 0.310 & 0.293 & 0.212 & 0.163 & 0.228 & 0.434\\\\\n",
       "\\end{tabular}\n"
      ],
      "text/markdown": [
       "\n",
       "A data.frame: 6 × 17\n",
       "\n",
       "| <!--/--> | gene_name &lt;chr&gt; | uniprot &lt;chr&gt; | is_complex &lt;chr&gt; | protein_name &lt;chr&gt; | complex_name &lt;chr&gt; | id_cp_interaction &lt;chr&gt; | cluster0 &lt;dbl&gt; | cluster1 &lt;dbl&gt; | cluster10 &lt;dbl&gt; | cluster2 &lt;dbl&gt; | cluster3 &lt;dbl&gt; | cluster4 &lt;dbl&gt; | cluster5 &lt;dbl&gt; | cluster6 &lt;dbl&gt; | cluster7 &lt;dbl&gt; | cluster8 &lt;dbl&gt; | cluster9 &lt;dbl&gt; |\n",
       "|---|---|---|---|---|---|---|---|---|---|---|---|---|---|---|---|---|---|\n",
       "| 1 | PTGR1   | Q14914 | True | PTGR1_HUMAN | 12oxoLeukotrieneB4_byPTGR1     | CPI-CS0A5B6BD7A | 0.128 | 0.130 | 0.102 | 0.199 | 0.064 | 0.168 | 0.111 | 0.101 | 0.094 | 0.152 | 0.193 |\n",
       "| 2 | CYP11A1 | P05108 | True | CP11A_HUMAN | 22Hydroxycholesterol_byCYP11A1 | CPI-CS08D535BCF | 0.000 | 0.005 | 0.012 | 0.000 | 0.000 | 0.008 | 0.006 | 0.000 | 0.000 | 0.011 | 0.006 |\n",
       "| 3 | DAGLA   | Q9Y4D2 | True | DGLA_HUMAN  | 2arachidonoylglycerol_byDAGLA  | CPI-CS03629A52A | 0.333 | 0.254 | 0.121 | 0.476 | 0.199 | 0.210 | 0.290 | 0.220 | 0.185 | 0.244 | 0.339 |\n",
       "| 4 | DAGLA   | Q9Y4D2 | True | DGLA_HUMAN  | 2arachidonoylglycerol_byDAGLA  | CPI-CS0C6F86DF5 | 0.333 | 0.254 | 0.121 | 0.476 | 0.199 | 0.210 | 0.290 | 0.220 | 0.185 | 0.244 | 0.339 |\n",
       "| 5 | DAGLB   | Q8NCG7 | True | DGLB_HUMAN  | 2arachidonoylglycerol_byDAGLB  | CPI-CS007D418BE | 0.284 | 0.231 | 0.223 | 0.281 | 0.117 | 0.310 | 0.293 | 0.212 | 0.163 | 0.228 | 0.434 |\n",
       "| 6 | DAGLB   | Q8NCG7 | True | DGLB_HUMAN  | 2arachidonoylglycerol_byDAGLB  | CPI-CS030959ED1 | 0.284 | 0.231 | 0.223 | 0.281 | 0.117 | 0.310 | 0.293 | 0.212 | 0.163 | 0.228 | 0.434 |\n",
       "\n"
      ],
      "text/plain": [
       "  gene_name uniprot is_complex protein_name complex_name                  \n",
       "1 PTGR1     Q14914  True       PTGR1_HUMAN  12oxoLeukotrieneB4_byPTGR1    \n",
       "2 CYP11A1   P05108  True       CP11A_HUMAN  22Hydroxycholesterol_byCYP11A1\n",
       "3 DAGLA     Q9Y4D2  True       DGLA_HUMAN   2arachidonoylglycerol_byDAGLA \n",
       "4 DAGLA     Q9Y4D2  True       DGLA_HUMAN   2arachidonoylglycerol_byDAGLA \n",
       "5 DAGLB     Q8NCG7  True       DGLB_HUMAN   2arachidonoylglycerol_byDAGLB \n",
       "6 DAGLB     Q8NCG7  True       DGLB_HUMAN   2arachidonoylglycerol_byDAGLB \n",
       "  id_cp_interaction cluster0 cluster1 cluster10 cluster2 cluster3 cluster4\n",
       "1 CPI-CS0A5B6BD7A   0.128    0.130    0.102     0.199    0.064    0.168   \n",
       "2 CPI-CS08D535BCF   0.000    0.005    0.012     0.000    0.000    0.008   \n",
       "3 CPI-CS03629A52A   0.333    0.254    0.121     0.476    0.199    0.210   \n",
       "4 CPI-CS0C6F86DF5   0.333    0.254    0.121     0.476    0.199    0.210   \n",
       "5 CPI-CS007D418BE   0.284    0.231    0.223     0.281    0.117    0.310   \n",
       "6 CPI-CS030959ED1   0.284    0.231    0.223     0.281    0.117    0.310   \n",
       "  cluster5 cluster6 cluster7 cluster8 cluster9\n",
       "1 0.111    0.101    0.094    0.152    0.193   \n",
       "2 0.006    0.000    0.000    0.011    0.006   \n",
       "3 0.290    0.220    0.185    0.244    0.339   \n",
       "4 0.290    0.220    0.185    0.244    0.339   \n",
       "5 0.293    0.212    0.163    0.228    0.434   \n",
       "6 0.293    0.212    0.163    0.228    0.434   "
      ]
     },
     "metadata": {},
     "output_type": "display_data"
    }
   ],
   "source": [
    "head(ll)"
   ]
  },
  {
   "cell_type": "code",
   "execution_count": null,
   "id": "169f123f-fb9a-4583-831c-5285df7a2751",
   "metadata": {},
   "outputs": [],
   "source": []
  },
  {
   "cell_type": "code",
   "execution_count": null,
   "id": "88e46e3d-778b-4339-a7ca-84c6e2560592",
   "metadata": {},
   "outputs": [],
   "source": []
  },
  {
   "cell_type": "code",
   "execution_count": null,
   "id": "69723a3c-b2f8-4d8d-8c79-a620b3414928",
   "metadata": {},
   "outputs": [],
   "source": []
  }
 ],
 "metadata": {
  "kernelspec": {
   "display_name": "R",
   "language": "R",
   "name": "ir"
  },
  "language_info": {
   "codemirror_mode": "r",
   "file_extension": ".r",
   "mimetype": "text/x-r-source",
   "name": "R",
   "pygments_lexer": "r",
   "version": "4.2.2"
  }
 },
 "nbformat": 4,
 "nbformat_minor": 5
}
