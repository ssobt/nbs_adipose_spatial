{
 "cells": [
  {
   "cell_type": "code",
   "execution_count": 1,
   "id": "5f85e93f-18c0-40b7-9581-dfd5eea1fe23",
   "metadata": {},
   "outputs": [],
   "source": [
    "## Notebook env: farnaz_spatial (R kernel)\n",
    "## this notebook selects receptor/ligand interactions to plot for cellphonedb"
   ]
  },
  {
   "cell_type": "code",
   "execution_count": 1,
   "id": "caea6967-c487-4d44-a009-90c18a9fade9",
   "metadata": {},
   "outputs": [
    {
     "name": "stderr",
     "output_type": "stream",
     "text": [
      "\n",
      "Attaching package: ‘dplyr’\n",
      "\n",
      "\n",
      "The following objects are masked from ‘package:stats’:\n",
      "\n",
      "    filter, lag\n",
      "\n",
      "\n",
      "The following objects are masked from ‘package:base’:\n",
      "\n",
      "    intersect, setdiff, setequal, union\n",
      "\n",
      "\n"
     ]
    }
   ],
   "source": [
    "library(dplyr)"
   ]
  },
  {
   "cell_type": "code",
   "execution_count": 2,
   "id": "b0c65ac8-be1c-4dbf-afb2-6dd824fdc1ad",
   "metadata": {},
   "outputs": [],
   "source": [
    "A1_means <- read.csv('/home/ssobti/projects/farnaz_spatial/output_data/cellphonedb/cluster_prepped_data/A1_data/out/means.txt', sep = '\\t')\n",
    "B1_means <- read.csv('/home/ssobti/projects/farnaz_spatial/output_data/cellphonedb/cluster_prepped_data/B1_data/out/means.txt', sep = '\\t')\n",
    "C1_means <- read.csv('/home/ssobti/projects/farnaz_spatial/output_data/cellphonedb/cluster_prepped_data/C1_data/out/means.txt', sep = '\\t')\n",
    "D1_means <- read.csv('/home/ssobti/projects/farnaz_spatial/output_data/cellphonedb/cluster_prepped_data/D1_data/out/means.txt', sep = '\\t')\n",
    "\n",
    "A1_pvals <- read.csv('/home/ssobti/projects/farnaz_spatial/output_data/cellphonedb/cluster_prepped_data/A1_data/out/pvalues.txt', sep = '\\t')\n",
    "B1_pvals <- read.csv('/home/ssobti/projects/farnaz_spatial/output_data/cellphonedb/cluster_prepped_data/B1_data/out/pvalues.txt', sep = '\\t')\n",
    "C1_pvals <- read.csv('/home/ssobti/projects/farnaz_spatial/output_data/cellphonedb/cluster_prepped_data/C1_data/out/pvalues.txt', sep = '\\t')\n",
    "D1_pvals <- read.csv('/home/ssobti/projects/farnaz_spatial/output_data/cellphonedb/cluster_prepped_data/D1_data/out/pvalues.txt', sep = '\\t')\n"
   ]
  },
  {
   "cell_type": "code",
   "execution_count": 3,
   "id": "d0c2e1e5-ab9f-4d97-9228-df3962280425",
   "metadata": {},
   "outputs": [
    {
     "data": {
      "text/html": [
       "<table class=\"dataframe\">\n",
       "<caption>A data.frame: 6 × 132</caption>\n",
       "<thead>\n",
       "\t<tr><th></th><th scope=col>id_cp_interaction</th><th scope=col>interacting_pair</th><th scope=col>partner_a</th><th scope=col>partner_b</th><th scope=col>gene_a</th><th scope=col>gene_b</th><th scope=col>secreted</th><th scope=col>receptor_a</th><th scope=col>receptor_b</th><th scope=col>annotation_strategy</th><th scope=col>⋯</th><th scope=col>cluster9.cluster1</th><th scope=col>cluster9.cluster10</th><th scope=col>cluster9.cluster2</th><th scope=col>cluster9.cluster3</th><th scope=col>cluster9.cluster4</th><th scope=col>cluster9.cluster5</th><th scope=col>cluster9.cluster6</th><th scope=col>cluster9.cluster7</th><th scope=col>cluster9.cluster8</th><th scope=col>cluster9.cluster9</th></tr>\n",
       "\t<tr><th></th><th scope=col>&lt;chr&gt;</th><th scope=col>&lt;chr&gt;</th><th scope=col>&lt;chr&gt;</th><th scope=col>&lt;chr&gt;</th><th scope=col>&lt;chr&gt;</th><th scope=col>&lt;chr&gt;</th><th scope=col>&lt;chr&gt;</th><th scope=col>&lt;chr&gt;</th><th scope=col>&lt;chr&gt;</th><th scope=col>&lt;chr&gt;</th><th scope=col>⋯</th><th scope=col>&lt;dbl&gt;</th><th scope=col>&lt;dbl&gt;</th><th scope=col>&lt;dbl&gt;</th><th scope=col>&lt;dbl&gt;</th><th scope=col>&lt;dbl&gt;</th><th scope=col>&lt;dbl&gt;</th><th scope=col>&lt;dbl&gt;</th><th scope=col>&lt;dbl&gt;</th><th scope=col>&lt;dbl&gt;</th><th scope=col>&lt;dbl&gt;</th></tr>\n",
       "</thead>\n",
       "<tbody>\n",
       "\t<tr><th scope=row>1</th><td>CPI-CS0A5B6BD7A</td><td>12oxoLeukotrieneB4_byPTGR1_LTB4R</td><td>complex:12oxoLeukotrieneB4_byPTGR1</td><td>simple:Q15722</td><td></td><td>LTB4R  </td><td>True</td><td>False</td><td>True</td><td>curated</td><td>⋯</td><td>1</td><td>1</td><td>1</td><td>1</td><td>1</td><td>1</td><td>1</td><td>1</td><td>1</td><td>1</td></tr>\n",
       "\t<tr><th scope=row>2</th><td>CPI-CS047D9C0D7</td><td>LeukotrieneB4_byLTA4H_LTB4R     </td><td>complex:LeukotrieneB4_byLTA4H     </td><td>simple:Q15722</td><td></td><td>LTB4R  </td><td>True</td><td>False</td><td>True</td><td>curated</td><td>⋯</td><td>1</td><td>1</td><td>1</td><td>1</td><td>1</td><td>1</td><td>1</td><td>1</td><td>1</td><td>1</td></tr>\n",
       "\t<tr><th scope=row>3</th><td>CPI-CS01FC3CF4D</td><td>LeukotrieneC4_byLTC4S_CYSLTR2   </td><td>complex:LeukotrieneC4_byLTC4S     </td><td>simple:Q9NS75</td><td></td><td>CYSLTR2</td><td>True</td><td>False</td><td>True</td><td>curated</td><td>⋯</td><td>1</td><td>1</td><td>1</td><td>1</td><td>1</td><td>1</td><td>1</td><td>1</td><td>1</td><td>1</td></tr>\n",
       "\t<tr><th scope=row>4</th><td>CPI-CS0891F5216</td><td>LeukotrieneC4_byLTC4S_CYSLTR1   </td><td>complex:LeukotrieneC4_byLTC4S     </td><td>simple:Q9Y271</td><td></td><td>CYSLTR1</td><td>True</td><td>False</td><td>True</td><td>curated</td><td>⋯</td><td>1</td><td>1</td><td>1</td><td>1</td><td>1</td><td>1</td><td>1</td><td>1</td><td>1</td><td>1</td></tr>\n",
       "\t<tr><th scope=row>5</th><td>CPI-CS0150916A7</td><td>LeukotrieneE4_byDPEP1_CYSLTR1   </td><td>complex:LeukotrieneE4_byDPEP1     </td><td>simple:Q9Y271</td><td></td><td>CYSLTR1</td><td>True</td><td>False</td><td>True</td><td>curated</td><td>⋯</td><td>1</td><td>1</td><td>1</td><td>1</td><td>1</td><td>1</td><td>1</td><td>1</td><td>1</td><td>1</td></tr>\n",
       "\t<tr><th scope=row>6</th><td>CPI-CS048E474A5</td><td>LeukotrieneE4_byDPEP2_CYSLTR1   </td><td>complex:LeukotrieneE4_byDPEP2     </td><td>simple:Q9Y271</td><td></td><td>CYSLTR1</td><td>True</td><td>False</td><td>True</td><td>curated</td><td>⋯</td><td>1</td><td>1</td><td>1</td><td>1</td><td>1</td><td>1</td><td>1</td><td>1</td><td>1</td><td>1</td></tr>\n",
       "</tbody>\n",
       "</table>\n"
      ],
      "text/latex": [
       "A data.frame: 6 × 132\n",
       "\\begin{tabular}{r|lllllllllllllllllllll}\n",
       "  & id\\_cp\\_interaction & interacting\\_pair & partner\\_a & partner\\_b & gene\\_a & gene\\_b & secreted & receptor\\_a & receptor\\_b & annotation\\_strategy & ⋯ & cluster9.cluster1 & cluster9.cluster10 & cluster9.cluster2 & cluster9.cluster3 & cluster9.cluster4 & cluster9.cluster5 & cluster9.cluster6 & cluster9.cluster7 & cluster9.cluster8 & cluster9.cluster9\\\\\n",
       "  & <chr> & <chr> & <chr> & <chr> & <chr> & <chr> & <chr> & <chr> & <chr> & <chr> & ⋯ & <dbl> & <dbl> & <dbl> & <dbl> & <dbl> & <dbl> & <dbl> & <dbl> & <dbl> & <dbl>\\\\\n",
       "\\hline\n",
       "\t1 & CPI-CS0A5B6BD7A & 12oxoLeukotrieneB4\\_byPTGR1\\_LTB4R & complex:12oxoLeukotrieneB4\\_byPTGR1 & simple:Q15722 &  & LTB4R   & True & False & True & curated & ⋯ & 1 & 1 & 1 & 1 & 1 & 1 & 1 & 1 & 1 & 1\\\\\n",
       "\t2 & CPI-CS047D9C0D7 & LeukotrieneB4\\_byLTA4H\\_LTB4R      & complex:LeukotrieneB4\\_byLTA4H      & simple:Q15722 &  & LTB4R   & True & False & True & curated & ⋯ & 1 & 1 & 1 & 1 & 1 & 1 & 1 & 1 & 1 & 1\\\\\n",
       "\t3 & CPI-CS01FC3CF4D & LeukotrieneC4\\_byLTC4S\\_CYSLTR2    & complex:LeukotrieneC4\\_byLTC4S      & simple:Q9NS75 &  & CYSLTR2 & True & False & True & curated & ⋯ & 1 & 1 & 1 & 1 & 1 & 1 & 1 & 1 & 1 & 1\\\\\n",
       "\t4 & CPI-CS0891F5216 & LeukotrieneC4\\_byLTC4S\\_CYSLTR1    & complex:LeukotrieneC4\\_byLTC4S      & simple:Q9Y271 &  & CYSLTR1 & True & False & True & curated & ⋯ & 1 & 1 & 1 & 1 & 1 & 1 & 1 & 1 & 1 & 1\\\\\n",
       "\t5 & CPI-CS0150916A7 & LeukotrieneE4\\_byDPEP1\\_CYSLTR1    & complex:LeukotrieneE4\\_byDPEP1      & simple:Q9Y271 &  & CYSLTR1 & True & False & True & curated & ⋯ & 1 & 1 & 1 & 1 & 1 & 1 & 1 & 1 & 1 & 1\\\\\n",
       "\t6 & CPI-CS048E474A5 & LeukotrieneE4\\_byDPEP2\\_CYSLTR1    & complex:LeukotrieneE4\\_byDPEP2      & simple:Q9Y271 &  & CYSLTR1 & True & False & True & curated & ⋯ & 1 & 1 & 1 & 1 & 1 & 1 & 1 & 1 & 1 & 1\\\\\n",
       "\\end{tabular}\n"
      ],
      "text/markdown": [
       "\n",
       "A data.frame: 6 × 132\n",
       "\n",
       "| <!--/--> | id_cp_interaction &lt;chr&gt; | interacting_pair &lt;chr&gt; | partner_a &lt;chr&gt; | partner_b &lt;chr&gt; | gene_a &lt;chr&gt; | gene_b &lt;chr&gt; | secreted &lt;chr&gt; | receptor_a &lt;chr&gt; | receptor_b &lt;chr&gt; | annotation_strategy &lt;chr&gt; | ⋯ ⋯ | cluster9.cluster1 &lt;dbl&gt; | cluster9.cluster10 &lt;dbl&gt; | cluster9.cluster2 &lt;dbl&gt; | cluster9.cluster3 &lt;dbl&gt; | cluster9.cluster4 &lt;dbl&gt; | cluster9.cluster5 &lt;dbl&gt; | cluster9.cluster6 &lt;dbl&gt; | cluster9.cluster7 &lt;dbl&gt; | cluster9.cluster8 &lt;dbl&gt; | cluster9.cluster9 &lt;dbl&gt; |\n",
       "|---|---|---|---|---|---|---|---|---|---|---|---|---|---|---|---|---|---|---|---|---|---|\n",
       "| 1 | CPI-CS0A5B6BD7A | 12oxoLeukotrieneB4_byPTGR1_LTB4R | complex:12oxoLeukotrieneB4_byPTGR1 | simple:Q15722 | <!----> | LTB4R   | True | False | True | curated | ⋯ | 1 | 1 | 1 | 1 | 1 | 1 | 1 | 1 | 1 | 1 |\n",
       "| 2 | CPI-CS047D9C0D7 | LeukotrieneB4_byLTA4H_LTB4R      | complex:LeukotrieneB4_byLTA4H      | simple:Q15722 | <!----> | LTB4R   | True | False | True | curated | ⋯ | 1 | 1 | 1 | 1 | 1 | 1 | 1 | 1 | 1 | 1 |\n",
       "| 3 | CPI-CS01FC3CF4D | LeukotrieneC4_byLTC4S_CYSLTR2    | complex:LeukotrieneC4_byLTC4S      | simple:Q9NS75 | <!----> | CYSLTR2 | True | False | True | curated | ⋯ | 1 | 1 | 1 | 1 | 1 | 1 | 1 | 1 | 1 | 1 |\n",
       "| 4 | CPI-CS0891F5216 | LeukotrieneC4_byLTC4S_CYSLTR1    | complex:LeukotrieneC4_byLTC4S      | simple:Q9Y271 | <!----> | CYSLTR1 | True | False | True | curated | ⋯ | 1 | 1 | 1 | 1 | 1 | 1 | 1 | 1 | 1 | 1 |\n",
       "| 5 | CPI-CS0150916A7 | LeukotrieneE4_byDPEP1_CYSLTR1    | complex:LeukotrieneE4_byDPEP1      | simple:Q9Y271 | <!----> | CYSLTR1 | True | False | True | curated | ⋯ | 1 | 1 | 1 | 1 | 1 | 1 | 1 | 1 | 1 | 1 |\n",
       "| 6 | CPI-CS048E474A5 | LeukotrieneE4_byDPEP2_CYSLTR1    | complex:LeukotrieneE4_byDPEP2      | simple:Q9Y271 | <!----> | CYSLTR1 | True | False | True | curated | ⋯ | 1 | 1 | 1 | 1 | 1 | 1 | 1 | 1 | 1 | 1 |\n",
       "\n"
      ],
      "text/plain": [
       "  id_cp_interaction interacting_pair                \n",
       "1 CPI-CS0A5B6BD7A   12oxoLeukotrieneB4_byPTGR1_LTB4R\n",
       "2 CPI-CS047D9C0D7   LeukotrieneB4_byLTA4H_LTB4R     \n",
       "3 CPI-CS01FC3CF4D   LeukotrieneC4_byLTC4S_CYSLTR2   \n",
       "4 CPI-CS0891F5216   LeukotrieneC4_byLTC4S_CYSLTR1   \n",
       "5 CPI-CS0150916A7   LeukotrieneE4_byDPEP1_CYSLTR1   \n",
       "6 CPI-CS048E474A5   LeukotrieneE4_byDPEP2_CYSLTR1   \n",
       "  partner_a                          partner_b     gene_a gene_b  secreted\n",
       "1 complex:12oxoLeukotrieneB4_byPTGR1 simple:Q15722        LTB4R   True    \n",
       "2 complex:LeukotrieneB4_byLTA4H      simple:Q15722        LTB4R   True    \n",
       "3 complex:LeukotrieneC4_byLTC4S      simple:Q9NS75        CYSLTR2 True    \n",
       "4 complex:LeukotrieneC4_byLTC4S      simple:Q9Y271        CYSLTR1 True    \n",
       "5 complex:LeukotrieneE4_byDPEP1      simple:Q9Y271        CYSLTR1 True    \n",
       "6 complex:LeukotrieneE4_byDPEP2      simple:Q9Y271        CYSLTR1 True    \n",
       "  receptor_a receptor_b annotation_strategy ⋯ cluster9.cluster1\n",
       "1 False      True       curated             ⋯ 1                \n",
       "2 False      True       curated             ⋯ 1                \n",
       "3 False      True       curated             ⋯ 1                \n",
       "4 False      True       curated             ⋯ 1                \n",
       "5 False      True       curated             ⋯ 1                \n",
       "6 False      True       curated             ⋯ 1                \n",
       "  cluster9.cluster10 cluster9.cluster2 cluster9.cluster3 cluster9.cluster4\n",
       "1 1                  1                 1                 1                \n",
       "2 1                  1                 1                 1                \n",
       "3 1                  1                 1                 1                \n",
       "4 1                  1                 1                 1                \n",
       "5 1                  1                 1                 1                \n",
       "6 1                  1                 1                 1                \n",
       "  cluster9.cluster5 cluster9.cluster6 cluster9.cluster7 cluster9.cluster8\n",
       "1 1                 1                 1                 1                \n",
       "2 1                 1                 1                 1                \n",
       "3 1                 1                 1                 1                \n",
       "4 1                 1                 1                 1                \n",
       "5 1                 1                 1                 1                \n",
       "6 1                 1                 1                 1                \n",
       "  cluster9.cluster9\n",
       "1 1                \n",
       "2 1                \n",
       "3 1                \n",
       "4 1                \n",
       "5 1                \n",
       "6 1                "
      ]
     },
     "metadata": {},
     "output_type": "display_data"
    }
   ],
   "source": [
    "head(A1_pvals)"
   ]
  },
  {
   "cell_type": "code",
   "execution_count": 4,
   "id": "37cf394b-c75c-4588-a301-4bf2f38f3427",
   "metadata": {},
   "outputs": [],
   "source": [
    "## cluster pairs to study\n",
    "\n",
    "## opposites white brown, brown white:\n",
    "## A1: 7 and 2 | 2 and 7\n",
    "## B1: 5 and 4 | 4 and 5\n",
    "## C1: 1 and 0 | 0 and 1\n",
    "## D1: 1 and 0 | 0 and 1\n",
    "\n",
    "\n",
    "## white white\n",
    "## A1: 7 and 8 | 8 and 7\n",
    "## B1: 5 and 8 | 8 and 5\n",
    "## C1: 1 and 5 | 5 and 1\n",
    "## D1: 1 and 5 | 5 and 1\n",
    "\n",
    "## brown brown\n",
    "## A1: 2 and 0 | 0 and 2\n",
    "## B1: 4 and 10 | 10 and 4 ### iffy**\n",
    "## C1: 0 and 3 | 3 and 0 ### iffy*\n",
    "## D1: 0 and 2 | 2 and 0 ### iffy***\n",
    "\n",
    "\n",
    "## Plot together (summary of above):\n",
    "## A1: 7 and 2 | 2 and 7, 7 and 8 | 8 and 7, 2 and 0 | 0 and 2\n",
    "## B1: 5 and 4 | 4 and 5, 5 and 8 | 8 and 5, 4 and 10 | 10 and 4\n",
    "## C1: 1 and 0 | 0 and 1, 1 and 5 | 5 and 1, 0 and 3 | 3 and 0 ### iffy*\n",
    "## D1: 1 and 0 | 0 and 1, 1 and 5 | 5 and 1, 0 and 2 | 2 and 0 ### iffy***\n",
    "\n"
   ]
  },
  {
   "cell_type": "code",
   "execution_count": null,
   "id": "f235c328-98b1-4bfa-8914-eb2d3b9c6af7",
   "metadata": {},
   "outputs": [],
   "source": []
  },
  {
   "cell_type": "code",
   "execution_count": 5,
   "id": "131bbf0c-5735-4e9e-9153-3907e048cb1b",
   "metadata": {},
   "outputs": [],
   "source": [
    "### genes to select\n",
    "means_mat = A1_means\n",
    "genes_opposite = filter(A1_pvals, cluster7.cluster2 < 0.05 | cluster2.cluster7 < 0.05)$interacting_pair\n",
    "chemokines <- grep(\"^CXC|CCL|CCR|CX3|XCL|XCR\", means_mat$interacting_pair, value = TRUE)\n",
    "th1 <- grep(\"IL2|IL12|IL18|IL27|IFNG|IL10|TNF$|TNF |LTA|LTB|STAT1|CCR5|CXCR3|IL12RB1|IFNGR1|TBX21|STAT4\", means_mat$interacting_pair, value = TRUE)\n",
    "th2 <- grep(\"IL4|IL5|IL25|IL10|IL13|AREG|STAT6|GATA3|IL4R\", means_mat$interacting_pair, value = TRUE)\n",
    "th17 <- grep(\"IL21|IL22|IL24|IL26|IL17A|IL17A|IL17F|IL17RA|IL10|RORC|RORA|STAT3|CCR4|CCR6|IL23RA|TGFB\", means_mat$interacting_pair, value = TRUE)\n",
    "treg <- grep(\"IL35|IL10|FOXP3|IL2RA|TGFB\", means_mat$interacting_pair, value = TRUE)\n",
    "costimulatory <- grep(\"CD86|CD80|CD48|LILRB2|LILRB4|TNF|CD2|ICAM|SLAM|LT[AB]|NECTIN2|CD40|CD70|CD27|CD28|CD58|TSLP|PVR|CD44|CD55|CD[1-9]\", means_mat$interacting_pair, value = TRUE)\n",
    "coinhibitory <- grep(\"SIRP|CD47|ICOS|TIGIT|CTLA4|PDCD1|CD274|LAG3|HAVCR|VSIR\", means_mat$interacting_pair, value = TRUE)\n",
    "niche <- grep(\"CSF\", means_mat$interacting_pair, value = TRUE)"
   ]
  },
  {
   "cell_type": "code",
   "execution_count": 6,
   "id": "3b9c78e0-533c-456f-a4c5-ce502651231c",
   "metadata": {},
   "outputs": [
    {
     "data": {
      "text/html": [
       "<ol>\n",
       "\t<li>NULL</li>\n",
       "\t<li>NULL</li>\n",
       "\t<li>NULL</li>\n",
       "\t<li>NULL</li>\n",
       "\t<li>NULL</li>\n",
       "\t<li>NULL</li>\n",
       "\t<li>NULL</li>\n",
       "\t<li>NULL</li>\n",
       "\t<li>NULL</li>\n",
       "</ol>\n"
      ],
      "text/latex": [
       "\\begin{enumerate}\n",
       "\\item NULL\n",
       "\\item NULL\n",
       "\\item NULL\n",
       "\\item NULL\n",
       "\\item NULL\n",
       "\\item NULL\n",
       "\\item NULL\n",
       "\\item NULL\n",
       "\\item NULL\n",
       "\\end{enumerate}\n"
      ],
      "text/markdown": [
       "1. NULL\n",
       "2. NULL\n",
       "3. NULL\n",
       "4. NULL\n",
       "5. NULL\n",
       "6. NULL\n",
       "7. NULL\n",
       "8. NULL\n",
       "9. NULL\n",
       "\n",
       "\n"
      ],
      "text/plain": [
       "[[1]]\n",
       "NULL\n",
       "\n",
       "[[2]]\n",
       "NULL\n",
       "\n",
       "[[3]]\n",
       "NULL\n",
       "\n",
       "[[4]]\n",
       "NULL\n",
       "\n",
       "[[5]]\n",
       "NULL\n",
       "\n",
       "[[6]]\n",
       "NULL\n",
       "\n",
       "[[7]]\n",
       "NULL\n",
       "\n",
       "[[8]]\n",
       "NULL\n",
       "\n",
       "[[9]]\n",
       "NULL\n"
      ]
     },
     "metadata": {},
     "output_type": "display_data"
    }
   ],
   "source": [
    "paths = c('genes_opposite.txt', 'chemokines.txt', 'th1.txt', 'th2.txt', 'th17.txt', 'treg.txt', 'costimulatory.txt', 'coinhibitory.txt', 'niche.txt')\n",
    "file_paths = paste0('/home/ssobti/projects/farnaz_spatial/output_data/cellphonedb/cluster_prepped_data/A1_data/', paths)\n",
    "gene_sets = list(genes_opposite, chemokines, th1, th2, th17, treg, costimulatory, coinhibitory, niche)\n",
    "mapply(write.table, gene_sets, file_paths, sep = '', quote = FALSE, row.names = FALSE, col.names = FALSE)"
   ]
  },
  {
   "cell_type": "code",
   "execution_count": 7,
   "id": "9d10e337-9134-412d-ac31-87e6b90119f8",
   "metadata": {},
   "outputs": [
    {
     "data": {
      "text/html": [
       "229"
      ],
      "text/latex": [
       "229"
      ],
      "text/markdown": [
       "229"
      ],
      "text/plain": [
       "[1] 229"
      ]
     },
     "metadata": {},
     "output_type": "display_data"
    }
   ],
   "source": [
    "length(chemokines) + length(th1) +\n",
    "length(th2) + length(th17) + \n",
    "length(treg) + length(costimulatory) + \n",
    "length(coinhibitory) + length(niche)"
   ]
  },
  {
   "cell_type": "code",
   "execution_count": 8,
   "id": "4f6d1f70-f649-403f-ac86-274b765cea97",
   "metadata": {},
   "outputs": [],
   "source": [
    "means_mat = B1_means\n",
    "genes_opposite = filter(B1_pvals, cluster5.cluster4 < 0.05 | cluster4.cluster5 < 0.05)$interacting_pair\n",
    "chemokines <- grep(\"^CXC|CCL|CCR|CX3|XCL|XCR\", means_mat$interacting_pair, value = TRUE)\n",
    "th1 <- grep(\"IL2|IL12|IL18|IL27|IFNG|IL10|TNF$|TNF |LTA|LTB|STAT1|CCR5|CXCR3|IL12RB1|IFNGR1|TBX21|STAT4\", means_mat$interacting_pair, value = TRUE)\n",
    "th2 <- grep(\"IL4|IL5|IL25|IL10|IL13|AREG|STAT6|GATA3|IL4R\", means_mat$interacting_pair, value = TRUE)\n",
    "th17 <- grep(\"IL21|IL22|IL24|IL26|IL17A|IL17A|IL17F|IL17RA|IL10|RORC|RORA|STAT3|CCR4|CCR6|IL23RA|TGFB\", means_mat$interacting_pair, value = TRUE)\n",
    "treg <- grep(\"IL35|IL10|FOXP3|IL2RA|TGFB\", means_mat$interacting_pair, value = TRUE)\n",
    "costimulatory <- grep(\"CD86|CD80|CD48|LILRB2|LILRB4|TNF|CD2|ICAM|SLAM|LT[AB]|NECTIN2|CD40|CD70|CD27|CD28|CD58|TSLP|PVR|CD44|CD55|CD[1-9]\", means_mat$interacting_pair, value = TRUE)\n",
    "coinhibitory <- grep(\"SIRP|CD47|ICOS|TIGIT|CTLA4|PDCD1|CD274|LAG3|HAVCR|VSIR\", means_mat$interacting_pair, value = TRUE)\n",
    "niche <- grep(\"CSF\", means_mat$interacting_pair, value = TRUE)"
   ]
  },
  {
   "cell_type": "code",
   "execution_count": 9,
   "id": "5c4b2cf7-75cb-40ff-9457-843b25329abd",
   "metadata": {},
   "outputs": [
    {
     "data": {
      "text/html": [
       "<ol>\n",
       "\t<li>NULL</li>\n",
       "\t<li>NULL</li>\n",
       "\t<li>NULL</li>\n",
       "\t<li>NULL</li>\n",
       "\t<li>NULL</li>\n",
       "\t<li>NULL</li>\n",
       "\t<li>NULL</li>\n",
       "\t<li>NULL</li>\n",
       "\t<li>NULL</li>\n",
       "</ol>\n"
      ],
      "text/latex": [
       "\\begin{enumerate}\n",
       "\\item NULL\n",
       "\\item NULL\n",
       "\\item NULL\n",
       "\\item NULL\n",
       "\\item NULL\n",
       "\\item NULL\n",
       "\\item NULL\n",
       "\\item NULL\n",
       "\\item NULL\n",
       "\\end{enumerate}\n"
      ],
      "text/markdown": [
       "1. NULL\n",
       "2. NULL\n",
       "3. NULL\n",
       "4. NULL\n",
       "5. NULL\n",
       "6. NULL\n",
       "7. NULL\n",
       "8. NULL\n",
       "9. NULL\n",
       "\n",
       "\n"
      ],
      "text/plain": [
       "[[1]]\n",
       "NULL\n",
       "\n",
       "[[2]]\n",
       "NULL\n",
       "\n",
       "[[3]]\n",
       "NULL\n",
       "\n",
       "[[4]]\n",
       "NULL\n",
       "\n",
       "[[5]]\n",
       "NULL\n",
       "\n",
       "[[6]]\n",
       "NULL\n",
       "\n",
       "[[7]]\n",
       "NULL\n",
       "\n",
       "[[8]]\n",
       "NULL\n",
       "\n",
       "[[9]]\n",
       "NULL\n"
      ]
     },
     "metadata": {},
     "output_type": "display_data"
    }
   ],
   "source": [
    "paths = c('genes_opposite.txt', 'chemokines.txt', 'th1.txt', 'th2.txt', 'th17.txt', 'treg.txt', 'costimulatory.txt', 'coinhibitory.txt', 'niche.txt')\n",
    "file_paths = paste0('/home/ssobti/projects/farnaz_spatial/output_data/cellphonedb/cluster_prepped_data/B1_data/', paths)\n",
    "gene_sets = list(genes_opposite, chemokines, th1, th2, th17, treg, costimulatory, coinhibitory, niche)\n",
    "mapply(write.table, gene_sets, file_paths, sep = '', quote = FALSE, row.names = FALSE, col.names = FALSE)"
   ]
  },
  {
   "cell_type": "code",
   "execution_count": 10,
   "id": "03f9a00d-b2ba-49de-bf51-de05325eb9b3",
   "metadata": {},
   "outputs": [],
   "source": [
    "means_mat = C1_means\n",
    "genes_opposite = filter(C1_pvals, cluster1.cluster0 < 0.05 | cluster0.cluster1 < 0.05)$interacting_pair\n",
    "chemokines <- grep(\"^CXC|CCL|CCR|CX3|XCL|XCR\", means_mat$interacting_pair, value = TRUE)\n",
    "th1 <- grep(\"IL2|IL12|IL18|IL27|IFNG|IL10|TNF$|TNF |LTA|LTB|STAT1|CCR5|CXCR3|IL12RB1|IFNGR1|TBX21|STAT4\", means_mat$interacting_pair, value = TRUE)\n",
    "th2 <- grep(\"IL4|IL5|IL25|IL10|IL13|AREG|STAT6|GATA3|IL4R\", means_mat$interacting_pair, value = TRUE)\n",
    "th17 <- grep(\"IL21|IL22|IL24|IL26|IL17A|IL17A|IL17F|IL17RA|IL10|RORC|RORA|STAT3|CCR4|CCR6|IL23RA|TGFB\", means_mat$interacting_pair, value = TRUE)\n",
    "treg <- grep(\"IL35|IL10|FOXP3|IL2RA|TGFB\", means_mat$interacting_pair, value = TRUE)\n",
    "costimulatory <- grep(\"CD86|CD80|CD48|LILRB2|LILRB4|TNF|CD2|ICAM|SLAM|LT[AB]|NECTIN2|CD40|CD70|CD27|CD28|CD58|TSLP|PVR|CD44|CD55|CD[1-9]\", means_mat$interacting_pair, value = TRUE)\n",
    "coinhibitory <- grep(\"SIRP|CD47|ICOS|TIGIT|CTLA4|PDCD1|CD274|LAG3|HAVCR|VSIR\", means_mat$interacting_pair, value = TRUE)\n",
    "niche <- grep(\"CSF\", means_mat$interacting_pair, value = TRUE)"
   ]
  },
  {
   "cell_type": "code",
   "execution_count": 11,
   "id": "e3c95c3c-2808-4baf-9fba-d43fae1976a8",
   "metadata": {},
   "outputs": [
    {
     "data": {
      "text/html": [
       "<ol>\n",
       "\t<li>NULL</li>\n",
       "\t<li>NULL</li>\n",
       "\t<li>NULL</li>\n",
       "\t<li>NULL</li>\n",
       "\t<li>NULL</li>\n",
       "\t<li>NULL</li>\n",
       "\t<li>NULL</li>\n",
       "\t<li>NULL</li>\n",
       "\t<li>NULL</li>\n",
       "</ol>\n"
      ],
      "text/latex": [
       "\\begin{enumerate}\n",
       "\\item NULL\n",
       "\\item NULL\n",
       "\\item NULL\n",
       "\\item NULL\n",
       "\\item NULL\n",
       "\\item NULL\n",
       "\\item NULL\n",
       "\\item NULL\n",
       "\\item NULL\n",
       "\\end{enumerate}\n"
      ],
      "text/markdown": [
       "1. NULL\n",
       "2. NULL\n",
       "3. NULL\n",
       "4. NULL\n",
       "5. NULL\n",
       "6. NULL\n",
       "7. NULL\n",
       "8. NULL\n",
       "9. NULL\n",
       "\n",
       "\n"
      ],
      "text/plain": [
       "[[1]]\n",
       "NULL\n",
       "\n",
       "[[2]]\n",
       "NULL\n",
       "\n",
       "[[3]]\n",
       "NULL\n",
       "\n",
       "[[4]]\n",
       "NULL\n",
       "\n",
       "[[5]]\n",
       "NULL\n",
       "\n",
       "[[6]]\n",
       "NULL\n",
       "\n",
       "[[7]]\n",
       "NULL\n",
       "\n",
       "[[8]]\n",
       "NULL\n",
       "\n",
       "[[9]]\n",
       "NULL\n"
      ]
     },
     "metadata": {},
     "output_type": "display_data"
    }
   ],
   "source": [
    "paths = c('genes_opposite.txt', 'chemokines.txt', 'th1.txt', 'th2.txt', 'th17.txt', 'treg.txt', 'costimulatory.txt', 'coinhibitory.txt', 'niche.txt')\n",
    "file_paths = paste0('/home/ssobti/projects/farnaz_spatial/output_data/cellphonedb/cluster_prepped_data/C1_data/', paths)\n",
    "gene_sets = list(genes_opposite, chemokines, th1, th2, th17, treg, costimulatory, coinhibitory, niche)\n",
    "mapply(write.table, gene_sets, file_paths, sep = '', quote = FALSE, row.names = FALSE, col.names = FALSE)"
   ]
  },
  {
   "cell_type": "code",
   "execution_count": 12,
   "id": "20330cdc-6bd5-4234-aa45-776a315f4a3d",
   "metadata": {},
   "outputs": [],
   "source": [
    "means_mat = D1_means\n",
    "genes_opposite = filter(D1_pvals, cluster1.cluster0 < 0.05 | cluster0.cluster1 < 0.05)$interacting_pair\n",
    "chemokines <- grep(\"^CXC|CCL|CCR|CX3|XCL|XCR\", means_mat$interacting_pair, value = TRUE)\n",
    "th1 <- grep(\"IL2|IL12|IL18|IL27|IFNG|IL10|TNF$|TNF |LTA|LTB|STAT1|CCR5|CXCR3|IL12RB1|IFNGR1|TBX21|STAT4\", means_mat$interacting_pair, value = TRUE)\n",
    "th2 <- grep(\"IL4|IL5|IL25|IL10|IL13|AREG|STAT6|GATA3|IL4R\", means_mat$interacting_pair, value = TRUE)\n",
    "th17 <- grep(\"IL21|IL22|IL24|IL26|IL17A|IL17A|IL17F|IL17RA|IL10|RORC|RORA|STAT3|CCR4|CCR6|IL23RA|TGFB\", means_mat$interacting_pair, value = TRUE)\n",
    "treg <- grep(\"IL35|IL10|FOXP3|IL2RA|TGFB\", means_mat$interacting_pair, value = TRUE)\n",
    "costimulatory <- grep(\"CD86|CD80|CD48|LILRB2|LILRB4|TNF|CD2|ICAM|SLAM|LT[AB]|NECTIN2|CD40|CD70|CD27|CD28|CD58|TSLP|PVR|CD44|CD55|CD[1-9]\", means_mat$interacting_pair, value = TRUE)\n",
    "coinhibitory <- grep(\"SIRP|CD47|ICOS|TIGIT|CTLA4|PDCD1|CD274|LAG3|HAVCR|VSIR\", means_mat$interacting_pair, value = TRUE)\n",
    "niche <- grep(\"CSF\", means_mat$interacting_pair, value = TRUE)"
   ]
  },
  {
   "cell_type": "code",
   "execution_count": 13,
   "id": "ffecff0f-8d6c-4287-9a94-c3caff186522",
   "metadata": {},
   "outputs": [
    {
     "data": {
      "text/html": [
       "<ol>\n",
       "\t<li>NULL</li>\n",
       "\t<li>NULL</li>\n",
       "\t<li>NULL</li>\n",
       "\t<li>NULL</li>\n",
       "\t<li>NULL</li>\n",
       "\t<li>NULL</li>\n",
       "\t<li>NULL</li>\n",
       "\t<li>NULL</li>\n",
       "\t<li>NULL</li>\n",
       "</ol>\n"
      ],
      "text/latex": [
       "\\begin{enumerate}\n",
       "\\item NULL\n",
       "\\item NULL\n",
       "\\item NULL\n",
       "\\item NULL\n",
       "\\item NULL\n",
       "\\item NULL\n",
       "\\item NULL\n",
       "\\item NULL\n",
       "\\item NULL\n",
       "\\end{enumerate}\n"
      ],
      "text/markdown": [
       "1. NULL\n",
       "2. NULL\n",
       "3. NULL\n",
       "4. NULL\n",
       "5. NULL\n",
       "6. NULL\n",
       "7. NULL\n",
       "8. NULL\n",
       "9. NULL\n",
       "\n",
       "\n"
      ],
      "text/plain": [
       "[[1]]\n",
       "NULL\n",
       "\n",
       "[[2]]\n",
       "NULL\n",
       "\n",
       "[[3]]\n",
       "NULL\n",
       "\n",
       "[[4]]\n",
       "NULL\n",
       "\n",
       "[[5]]\n",
       "NULL\n",
       "\n",
       "[[6]]\n",
       "NULL\n",
       "\n",
       "[[7]]\n",
       "NULL\n",
       "\n",
       "[[8]]\n",
       "NULL\n",
       "\n",
       "[[9]]\n",
       "NULL\n"
      ]
     },
     "metadata": {},
     "output_type": "display_data"
    }
   ],
   "source": [
    "paths = c('genes_opposite.txt', 'chemokines.txt', 'th1.txt', 'th2.txt', 'th17.txt', 'treg.txt', 'costimulatory.txt', 'coinhibitory.txt', 'niche.txt')\n",
    "file_paths = paste0('/home/ssobti/projects/farnaz_spatial/output_data/cellphonedb/cluster_prepped_data/D1_data/', paths)\n",
    "gene_sets = list(genes_opposite, chemokines, th1, th2, th17, treg, costimulatory, coinhibitory, niche)\n",
    "mapply(write.table, gene_sets, file_paths, sep = '', quote = FALSE, row.names = FALSE, col.names = FALSE)"
   ]
  },
  {
   "cell_type": "code",
   "execution_count": null,
   "id": "84d56872-e22b-4abd-b859-d677c25e96d7",
   "metadata": {},
   "outputs": [],
   "source": []
  },
  {
   "cell_type": "code",
   "execution_count": null,
   "id": "89c6c972-42f2-4601-b705-6b9855e7bf07",
   "metadata": {},
   "outputs": [],
   "source": []
  }
 ],
 "metadata": {
  "kernelspec": {
   "display_name": "R",
   "language": "R",
   "name": "ir"
  },
  "language_info": {
   "codemirror_mode": "r",
   "file_extension": ".r",
   "mimetype": "text/x-r-source",
   "name": "R",
   "pygments_lexer": "r",
   "version": "4.2.2"
  }
 },
 "nbformat": 4,
 "nbformat_minor": 5
}
